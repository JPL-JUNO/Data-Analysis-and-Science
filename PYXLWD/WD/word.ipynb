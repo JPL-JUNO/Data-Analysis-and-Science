{
 "cells": [
  {
   "cell_type": "code",
   "execution_count": 1,
   "metadata": {},
   "outputs": [
    {
     "name": "stdout",
     "output_type": "stream",
     "text": [
      "\n",
      "@File         : word.ipynb\n",
      "@Author(s)    : Stephen CUI\n",
      "@LastEditor(s): Stephen CUI\n",
      "@CreatedTime  : 2024-09-28 23:15:22\n",
      "@Email        : cuixuanstephen@gmail.com\n",
      "@Description  : Python 实战 Word 案例\n",
      "\n"
     ]
    }
   ],
   "source": [
    "print(\"\"\"\n",
    "@File         : word.ipynb\n",
    "@Author(s)    : Stephen CUI\n",
    "@LastEditor(s): Stephen CUI\n",
    "@CreatedTime  : 2024-09-28 23:15:22\n",
    "@Email        : cuixuanstephen@gmail.com\n",
    "@Description  : Python 实战 Word 案例\n",
    "\"\"\")"
   ]
  },
  {
   "cell_type": "code",
   "execution_count": 2,
   "metadata": {},
   "outputs": [],
   "source": [
    "import docx"
   ]
  },
  {
   "cell_type": "markdown",
   "metadata": {},
   "source": [
    "`add_paragraph`"
   ]
  },
  {
   "cell_type": "code",
   "execution_count": 5,
   "metadata": {},
   "outputs": [],
   "source": [
    "my_doc = docx.Document('../DATA/prose_add_paragraph.docx')\n",
    "my_text = \"    再让我们回顾一下故事的开头，不正是乔的新邻居告诉他地里出黄金的吗?然而，事实上是乔对英国的语言理解得还不够透彻。他的新邻居其实是说他那块土地有肥沃的土壤，所以你应该知道黄金的概念来自哪儿了吧。\"\n",
    "\n",
    "my_doc.add_paragraph(my_text)\n",
    "my_doc.save('../RES/prose_add_paragraph.docx')"
   ]
  },
  {
   "cell_type": "markdown",
   "metadata": {},
   "source": [
    "`insert_paragraph_before`"
   ]
  },
  {
   "cell_type": "code",
   "execution_count": 4,
   "metadata": {},
   "outputs": [],
   "source": [
    "my_doc = docx.Document(\"../DATA/insert_paragraph_before.docx\")\n",
    "my_para2 = my_doc.paragraphs[1].insert_paragraph_before(\n",
    "    \"    Did Joe's sons become slaves to the digging? No, they were inspired because they had visions of what money could do for them and did not focus on the money itself.\"\n",
    ")\n",
    "\n",
    "my_para4 = my_doc.add_paragraph(\n",
    "    \"    乔的儿子们成为挖掘土地的奴隶了吗?不，他们只是一昧地幻想着金钱能为他们做什么，并被无数个幻想所激励，但从未考虑过获取金钱的正确途径。\"\n",
    ")\n",
    "my_doc.save(\"../RES/insert_paragraph_before.docx\")"
   ]
  }
 ],
 "metadata": {
  "kernelspec": {
   "display_name": "Python 3",
   "language": "python",
   "name": "python3"
  },
  "language_info": {
   "codemirror_mode": {
    "name": "ipython",
    "version": 3
   },
   "file_extension": ".py",
   "mimetype": "text/x-python",
   "name": "python",
   "nbconvert_exporter": "python",
   "pygments_lexer": "ipython3",
   "version": "3.11.1"
  }
 },
 "nbformat": 4,
 "nbformat_minor": 2
}

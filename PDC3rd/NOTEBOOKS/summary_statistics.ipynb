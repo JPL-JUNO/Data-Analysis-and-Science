{
 "cells": [
  {
   "cell_type": "code",
   "execution_count": 1,
   "metadata": {},
   "outputs": [
    {
     "name": "stdout",
     "output_type": "stream",
     "text": [
      "\n",
      "@File         : Summary statistics.ipynb\n",
      "@Author(s)    : Stephen CUI\n",
      "@LastEditor(s): Stephen CUI\n",
      "@CreatedTime  : 2024-12-28 14:52:14\n",
      "@Email        : cuixuanstephen@gmail.com\n",
      "@Description  : Summary statistics\n",
      "\n"
     ]
    }
   ],
   "source": [
    "print(\"\"\"\n",
    "@File         : Summary statistics.ipynb\n",
    "@Author(s)    : Stephen CUI\n",
    "@LastEditor(s): Stephen CUI\n",
    "@CreatedTime  : 2024-12-28 14:52:14\n",
    "@Email        : cuixuanstephen@gmail.com\n",
    "@Description  : Summary statistics\n",
    "\"\"\")"
   ]
  },
  {
   "cell_type": "code",
   "execution_count": 1,
   "metadata": {},
   "outputs": [],
   "source": [
    "import pandas as pd\n",
    "import numpy as np"
   ]
  },
  {
   "cell_type": "markdown",
   "metadata": {},
   "source": [
    "汇总统计数据提供了一种快速了解数据基本属性和分布的方法。介绍两个强大的 pandas 方法：`pd.Series.value_counts` 和 `pd.Series.describe`。"
   ]
  },
  {
   "cell_type": "markdown",
   "metadata": {},
   "source": [
    "`pd.Series.value_counts` 方法将频率计数附加到每个不同的数据点，从而可以轻松查看每个值出现的频率。这对于离散数据特别有用："
   ]
  },
  {
   "cell_type": "code",
   "execution_count": 2,
   "metadata": {},
   "outputs": [
    {
     "data": {
      "text/plain": [
       "a    3\n",
       "c    2\n",
       "b    1\n",
       "Name: count, dtype: Int64"
      ]
     },
     "execution_count": 2,
     "metadata": {},
     "output_type": "execute_result"
    }
   ],
   "source": [
    "ser = pd.Series([\"a\", \"b\", \"c\", \"a\", \"c\", \"a\"], dtype=pd.StringDtype())\n",
    "ser.value_counts()"
   ]
  },
  {
   "cell_type": "markdown",
   "metadata": {},
   "source": [
    "对于连续数据，`pd.Series.describe` 是将一堆计算打包成一个方法调用。通过调用此特定方法，可以轻松查看计数、平均值、最小值和最大值，以及数据的高级分布："
   ]
  },
  {
   "cell_type": "code",
   "execution_count": 3,
   "metadata": {},
   "outputs": [
    {
     "data": {
      "text/plain": [
       "count     3.0\n",
       "mean     42.0\n",
       "std      42.0\n",
       "min       0.0\n",
       "25%      21.0\n",
       "50%      42.0\n",
       "75%      63.0\n",
       "max      84.0\n",
       "dtype: Float64"
      ]
     },
     "execution_count": 3,
     "metadata": {},
     "output_type": "execute_result"
    }
   ],
   "source": [
    "ser = pd.Series([0, 42, 84], dtype=pd.Int64Dtype())\n",
    "ser.describe()"
   ]
  },
  {
   "cell_type": "markdown",
   "metadata": {},
   "source": [
    "默认情况下，我们将看到通过 25%、50%、75% 和最大（或 100%）四分位数总结的分布。如果数据分析侧重于分布的更特定部分，可以通过提供 `percentiles` 来控制此方法呈现的内容："
   ]
  },
  {
   "cell_type": "code",
   "execution_count": 4,
   "metadata": {},
   "outputs": [
    {
     "data": {
      "text/plain": [
       "count      3.0\n",
       "mean      42.0\n",
       "std       42.0\n",
       "min        0.0\n",
       "10%        8.4\n",
       "44%      36.96\n",
       "50%       42.0\n",
       "67%      56.28\n",
       "max       84.0\n",
       "dtype: Float64"
      ]
     },
     "execution_count": 4,
     "metadata": {},
     "output_type": "execute_result"
    }
   ],
   "source": [
    "ser.describe(percentiles=[.1, .44, .67])"
   ]
  },
  {
   "cell_type": "code",
   "execution_count": null,
   "metadata": {},
   "outputs": [],
   "source": []
  }
 ],
 "metadata": {
  "kernelspec": {
   "display_name": "Python 3",
   "language": "python",
   "name": "python3"
  },
  "language_info": {
   "codemirror_mode": {
    "name": "ipython",
    "version": 3
   },
   "file_extension": ".py",
   "mimetype": "text/x-python",
   "name": "python",
   "nbconvert_exporter": "python",
   "pygments_lexer": "ipython3",
   "version": "3.11.1"
  }
 },
 "nbformat": 4,
 "nbformat_minor": 2
}

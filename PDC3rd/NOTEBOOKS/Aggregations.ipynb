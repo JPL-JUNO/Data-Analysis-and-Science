{
 "cells": [
  {
   "cell_type": "code",
   "execution_count": 1,
   "metadata": {},
   "outputs": [
    {
     "name": "stdout",
     "output_type": "stream",
     "text": [
      "\n",
      "@File         : Aggregations.ipynb\n",
      "@Author(s)    : Stephen CUI\n",
      "@LastEditor(s): Stephen CUI\n",
      "@CreatedTime  : 2024-12-26 21:23:08\n",
      "@Email        : cuixuanstephen@gmail.com\n",
      "@Description  : \n",
      "\n"
     ]
    }
   ],
   "source": [
    "print(\"\"\"\n",
    "@File         : Aggregations.ipynb\n",
    "@Author(s)    : Stephen CUI\n",
    "@LastEditor(s): Stephen CUI\n",
    "@CreatedTime  : 2024-12-26 21:23:08\n",
    "@Email        : cuixuanstephen@gmail.com\n",
    "@Description  : Aggregations\n",
    "\"\"\")"
   ]
  },
  {
   "cell_type": "code",
   "execution_count": 2,
   "metadata": {},
   "outputs": [],
   "source": [
    "import pandas as pd\n",
    "import numpy as np"
   ]
  },
  {
   "cell_type": "code",
   "execution_count": 3,
   "metadata": {},
   "outputs": [
    {
     "data": {
      "text/plain": [
       "0        0.37454\n",
       "1       0.950714\n",
       "2       0.731994\n",
       "3       0.598658\n",
       "4       0.156019\n",
       "          ...   \n",
       "9995    0.857656\n",
       "9996    0.897509\n",
       "9997    0.946708\n",
       "9998    0.397488\n",
       "9999     0.21714\n",
       "Length: 10000, dtype: Float64"
      ]
     },
     "execution_count": 3,
     "metadata": {},
     "output_type": "execute_result"
    }
   ],
   "source": [
    "np.random.seed(42)\n",
    "ser = pd.Series(np.random.rand(10_000), dtype=pd.Float64Dtype())\n",
    "ser"
   ]
  },
  {
   "cell_type": "markdown",
   "metadata": {},
   "source": [
    "pandas 库提供了许多常用聚合的方法，例如 `pd.Series.count`、`pd.Series.mean`、`pd.Series.std`、`pd.Series.min`、`pd.Series.max` 和 `pd.Series.sum`："
   ]
  },
  {
   "cell_type": "code",
   "execution_count": 4,
   "metadata": {},
   "outputs": [
    {
     "name": "stdout",
     "output_type": "stream",
     "text": [
      "Count is: 10000\n",
      "Mean value is: 0.49415955768429964\n",
      "Standard deviation is: 0.2876301265269928\n",
      "Minimum value is: 1.1634755366141114e-05\n",
      "Maximum value is: 0.9997176732861306\n",
      "Summation is: 4941.595576842997\n"
     ]
    }
   ],
   "source": [
    "print(f\"Count is: {ser.count()}\")\n",
    "print(f\"Mean value is: {ser.mean()}\")\n",
    "print(f\"Standard deviation is: {ser.std()}\")\n",
    "print(f\"Minimum value is: {ser.min()}\")\n",
    "print(f\"Maximum value is: {ser.max()}\")\n",
    "print(f\"Summation is: {ser.sum()}\")"
   ]
  },
  {
   "cell_type": "markdown",
   "metadata": {},
   "source": [
    "除了直接调用这些方法之外，调用这些聚合的更通用的方法是使用 `pd.Series.agg`，并以字符串形式提供想要执行的聚合的名称"
   ]
  },
  {
   "cell_type": "code",
   "execution_count": 5,
   "metadata": {},
   "outputs": [
    {
     "name": "stdout",
     "output_type": "stream",
     "text": [
      "Count is: 10000\n",
      "Mean value is: 0.49415955768429964\n",
      "Standard deviation is: 0.2876301265269928\n",
      "Minimum value is: 1.1634755366141114e-05\n",
      "Maximum value is: 0.9997176732861306\n",
      "Summation is: 4941.595576842997\n"
     ]
    }
   ],
   "source": [
    "print(f\"Count is: {ser.agg('count')}\")\n",
    "print(f\"Mean value is: {ser.agg('mean')}\")\n",
    "print(f\"Standard deviation is: {ser.agg('std')}\")\n",
    "print(f\"Minimum value is: {ser.agg('min')}\")\n",
    "print(f\"Maximum value is: {ser.agg('max')}\")\n",
    "print(f\"Summation is: {ser.agg('sum')}\")"
   ]
  },
  {
   "cell_type": "markdown",
   "metadata": {},
   "source": [
    "使用 `pd.Series.agg` 的一个优点是它可以执行多个聚合。例如，如果您想在一个步骤中计算某个字段的最小值和最大值，可以通过向 `pd.Series.agg` 提供一个列表来实现："
   ]
  },
  {
   "cell_type": "code",
   "execution_count": 6,
   "metadata": {},
   "outputs": [
    {
     "data": {
      "text/plain": [
       "min    0.000012\n",
       "max    0.999718\n",
       "dtype: float64"
      ]
     },
     "execution_count": 6,
     "metadata": {},
     "output_type": "execute_result"
    }
   ],
   "source": [
    "ser.agg(['min', 'max'])"
   ]
  },
  {
   "cell_type": "code",
   "execution_count": 8,
   "metadata": {},
   "outputs": [
    {
     "data": {
      "text/html": [
       "<div>\n",
       "<style scoped>\n",
       "    .dataframe tbody tr th:only-of-type {\n",
       "        vertical-align: middle;\n",
       "    }\n",
       "\n",
       "    .dataframe tbody tr th {\n",
       "        vertical-align: top;\n",
       "    }\n",
       "\n",
       "    .dataframe thead th {\n",
       "        text-align: right;\n",
       "    }\n",
       "</style>\n",
       "<table border=\"1\" class=\"dataframe\">\n",
       "  <thead>\n",
       "    <tr style=\"text-align: right;\">\n",
       "      <th></th>\n",
       "      <th>a</th>\n",
       "      <th>b</th>\n",
       "      <th>c</th>\n",
       "      <th>d</th>\n",
       "      <th>e</th>\n",
       "      <th>f</th>\n",
       "    </tr>\n",
       "  </thead>\n",
       "  <tbody>\n",
       "    <tr>\n",
       "      <th>0</th>\n",
       "      <td>0.496714</td>\n",
       "      <td>-0.138264</td>\n",
       "      <td>0.647689</td>\n",
       "      <td>1.52303</td>\n",
       "      <td>-0.234153</td>\n",
       "      <td>-0.234137</td>\n",
       "    </tr>\n",
       "    <tr>\n",
       "      <th>1</th>\n",
       "      <td>1.579213</td>\n",
       "      <td>0.767435</td>\n",
       "      <td>-0.469474</td>\n",
       "      <td>0.54256</td>\n",
       "      <td>-0.463418</td>\n",
       "      <td>-0.46573</td>\n",
       "    </tr>\n",
       "    <tr>\n",
       "      <th>2</th>\n",
       "      <td>0.241962</td>\n",
       "      <td>-1.91328</td>\n",
       "      <td>-1.724918</td>\n",
       "      <td>-0.562288</td>\n",
       "      <td>-1.012831</td>\n",
       "      <td>0.314247</td>\n",
       "    </tr>\n",
       "    <tr>\n",
       "      <th>3</th>\n",
       "      <td>-0.908024</td>\n",
       "      <td>-1.412304</td>\n",
       "      <td>1.465649</td>\n",
       "      <td>-0.225776</td>\n",
       "      <td>0.067528</td>\n",
       "      <td>-1.424748</td>\n",
       "    </tr>\n",
       "    <tr>\n",
       "      <th>4</th>\n",
       "      <td>-0.544383</td>\n",
       "      <td>0.110923</td>\n",
       "      <td>-1.150994</td>\n",
       "      <td>0.375698</td>\n",
       "      <td>-0.600639</td>\n",
       "      <td>-0.291694</td>\n",
       "    </tr>\n",
       "    <tr>\n",
       "      <th>...</th>\n",
       "      <td>...</td>\n",
       "      <td>...</td>\n",
       "      <td>...</td>\n",
       "      <td>...</td>\n",
       "      <td>...</td>\n",
       "      <td>...</td>\n",
       "    </tr>\n",
       "    <tr>\n",
       "      <th>9995</th>\n",
       "      <td>1.951254</td>\n",
       "      <td>0.324704</td>\n",
       "      <td>1.937021</td>\n",
       "      <td>-0.125083</td>\n",
       "      <td>0.589664</td>\n",
       "      <td>0.869128</td>\n",
       "    </tr>\n",
       "    <tr>\n",
       "      <th>9996</th>\n",
       "      <td>0.624062</td>\n",
       "      <td>-0.31734</td>\n",
       "      <td>-1.636983</td>\n",
       "      <td>2.390878</td>\n",
       "      <td>-0.597118</td>\n",
       "      <td>2.670553</td>\n",
       "    </tr>\n",
       "    <tr>\n",
       "      <th>9997</th>\n",
       "      <td>-0.470192</td>\n",
       "      <td>1.511932</td>\n",
       "      <td>0.718306</td>\n",
       "      <td>0.764051</td>\n",
       "      <td>-0.495094</td>\n",
       "      <td>-0.273401</td>\n",
       "    </tr>\n",
       "    <tr>\n",
       "      <th>9998</th>\n",
       "      <td>-0.259206</td>\n",
       "      <td>0.274769</td>\n",
       "      <td>-0.084735</td>\n",
       "      <td>-0.406717</td>\n",
       "      <td>-0.815527</td>\n",
       "      <td>-0.716988</td>\n",
       "    </tr>\n",
       "    <tr>\n",
       "      <th>9999</th>\n",
       "      <td>0.533743</td>\n",
       "      <td>-0.701856</td>\n",
       "      <td>-1.099044</td>\n",
       "      <td>0.14101</td>\n",
       "      <td>-2.181973</td>\n",
       "      <td>-0.006398</td>\n",
       "    </tr>\n",
       "  </tbody>\n",
       "</table>\n",
       "<p>10000 rows × 6 columns</p>\n",
       "</div>"
      ],
      "text/plain": [
       "             a         b         c         d         e         f\n",
       "0     0.496714 -0.138264  0.647689   1.52303 -0.234153 -0.234137\n",
       "1     1.579213  0.767435 -0.469474   0.54256 -0.463418  -0.46573\n",
       "2     0.241962  -1.91328 -1.724918 -0.562288 -1.012831  0.314247\n",
       "3    -0.908024 -1.412304  1.465649 -0.225776  0.067528 -1.424748\n",
       "4    -0.544383  0.110923 -1.150994  0.375698 -0.600639 -0.291694\n",
       "...        ...       ...       ...       ...       ...       ...\n",
       "9995  1.951254  0.324704  1.937021 -0.125083  0.589664  0.869128\n",
       "9996  0.624062  -0.31734 -1.636983  2.390878 -0.597118  2.670553\n",
       "9997 -0.470192  1.511932  0.718306  0.764051 -0.495094 -0.273401\n",
       "9998 -0.259206  0.274769 -0.084735 -0.406717 -0.815527 -0.716988\n",
       "9999  0.533743 -0.701856 -1.099044   0.14101 -2.181973 -0.006398\n",
       "\n",
       "[10000 rows x 6 columns]"
      ]
     },
     "execution_count": 8,
     "metadata": {},
     "output_type": "execute_result"
    }
   ],
   "source": [
    "np.random.seed(42)\n",
    "df = pd.DataFrame(\n",
    "    np.random.randn(10_000, 6),\n",
    "    columns=list('abcdef')\n",
    ").convert_dtypes(dtype_backend='numpy_nullable')\n",
    "df"
   ]
  },
  {
   "cell_type": "code",
   "execution_count": 9,
   "metadata": {},
   "outputs": [
    {
     "data": {
      "text/plain": [
       "a    -21.365908\n",
       "b     -7.963987\n",
       "c    152.032992\n",
       "d   -180.727498\n",
       "e     29.399311\n",
       "f     25.042078\n",
       "dtype: Float64"
      ]
     },
     "execution_count": 9,
     "metadata": {},
     "output_type": "execute_result"
    }
   ],
   "source": [
    "df.sum()"
   ]
  },
  {
   "cell_type": "markdown",
   "metadata": {},
   "source": [
    "如果想要聚合每行的数据，可以指定 `axis=1` 参数，最好显式指明 `axis='columns'`。\n",
    "\n",
    "> 需要注意的是，pandas 对 `axis=0` 操作进行了更优化，因此这有可能比聚合列慢得多。即便如此，这也是 pandas 的一个相当独特的功能，当性能不是主要问题时，它非常有用："
   ]
  },
  {
   "cell_type": "code",
   "execution_count": 10,
   "metadata": {},
   "outputs": [
    {
     "data": {
      "text/plain": [
       "0       2.060878\n",
       "1       1.490586\n",
       "2      -4.657107\n",
       "3      -2.437675\n",
       "4      -2.101088\n",
       "          ...   \n",
       "9995     5.54669\n",
       "9996    3.134053\n",
       "9997    1.755601\n",
       "9998   -2.008404\n",
       "9999   -3.314518\n",
       "Length: 10000, dtype: Float64"
      ]
     },
     "execution_count": 10,
     "metadata": {},
     "output_type": "execute_result"
    }
   ],
   "source": [
    "df.sum(axis='columns')"
   ]
  },
  {
   "cell_type": "code",
   "execution_count": 12,
   "metadata": {},
   "outputs": [
    {
     "data": {
      "text/html": [
       "<div>\n",
       "<style scoped>\n",
       "    .dataframe tbody tr th:only-of-type {\n",
       "        vertical-align: middle;\n",
       "    }\n",
       "\n",
       "    .dataframe tbody tr th {\n",
       "        vertical-align: top;\n",
       "    }\n",
       "\n",
       "    .dataframe thead th {\n",
       "        text-align: right;\n",
       "    }\n",
       "</style>\n",
       "<table border=\"1\" class=\"dataframe\">\n",
       "  <thead>\n",
       "    <tr style=\"text-align: right;\">\n",
       "      <th></th>\n",
       "      <th>a</th>\n",
       "      <th>b</th>\n",
       "      <th>c</th>\n",
       "      <th>d</th>\n",
       "      <th>e</th>\n",
       "      <th>f</th>\n",
       "    </tr>\n",
       "  </thead>\n",
       "  <tbody>\n",
       "    <tr>\n",
       "      <th>max</th>\n",
       "      <td>3.602415</td>\n",
       "      <td>3.745379</td>\n",
       "      <td>3.727833</td>\n",
       "      <td>4.479084</td>\n",
       "      <td>3.691625</td>\n",
       "      <td>3.942331</td>\n",
       "    </tr>\n",
       "    <tr>\n",
       "      <th>min</th>\n",
       "      <td>-4.295391</td>\n",
       "      <td>-3.436062</td>\n",
       "      <td>-3.922400</td>\n",
       "      <td>-4.465604</td>\n",
       "      <td>-3.836656</td>\n",
       "      <td>-4.157734</td>\n",
       "    </tr>\n",
       "  </tbody>\n",
       "</table>\n",
       "</div>"
      ],
      "text/plain": [
       "            a         b         c         d         e         f\n",
       "max  3.602415  3.745379  3.727833  4.479084  3.691625  3.942331\n",
       "min -4.295391 -3.436062 -3.922400 -4.465604 -3.836656 -4.157734"
      ]
     },
     "execution_count": 12,
     "metadata": {},
     "output_type": "execute_result"
    }
   ],
   "source": [
    "df.agg(['max', 'min'], axis='index')"
   ]
  },
  {
   "cell_type": "markdown",
   "metadata": {},
   "source": [
    "> 对于更复杂的情况，可以传入可调用参数。每个可调用函数都应接受单个参数 `pd.Series` 并缩减为标量："
   ]
  },
  {
   "cell_type": "code",
   "execution_count": 13,
   "metadata": {},
   "outputs": [],
   "source": [
    "def mean_and_add_42(ser:pd.Series):\n",
    "    return ser.mean() + 42\n",
    "\n",
    "def mean_and_sub_42(ser : pd.Series):\n",
    "    return ser.mean() - 42"
   ]
  },
  {
   "cell_type": "code",
   "execution_count": 14,
   "metadata": {},
   "outputs": [
    {
     "data": {
      "text/plain": [
       "mean_and_add_42    42.49416\n",
       "mean_and_sub_42   -41.50584\n",
       "dtype: float64"
      ]
     },
     "execution_count": 14,
     "metadata": {},
     "output_type": "execute_result"
    }
   ],
   "source": [
    "np.random.seed(42)\n",
    "ser = pd.Series(np.random.rand(10_000), dtype=pd.Float64Dtype())\n",
    "ser.agg([mean_and_add_42, mean_and_sub_42])"
   ]
  }
 ],
 "metadata": {
  "kernelspec": {
   "display_name": "Python 3",
   "language": "python",
   "name": "python3"
  },
  "language_info": {
   "codemirror_mode": {
    "name": "ipython",
    "version": 3
   },
   "file_extension": ".py",
   "mimetype": "text/x-python",
   "name": "python",
   "nbconvert_exporter": "python",
   "pygments_lexer": "ipython3",
   "version": "3.11.1"
  }
 },
 "nbformat": 4,
 "nbformat_minor": 2
}

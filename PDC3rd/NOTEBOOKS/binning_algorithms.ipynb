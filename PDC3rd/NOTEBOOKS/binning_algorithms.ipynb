{
 "cells": [
  {
   "cell_type": "code",
   "execution_count": 1,
   "metadata": {},
   "outputs": [
    {
     "name": "stdout",
     "output_type": "stream",
     "text": [
      "\n",
      "@File         : Binning algorithms.ipynb\n",
      "@Author(s)    : Stephen CUI\n",
      "@LastEditor(s): Stephen CUI\n",
      "@CreatedTime  : 2024-12-28 14:56:49\n",
      "@Email        : cuixuanstephen@gmail.com\n",
      "@Description  : Binning algorithms\n",
      "\n"
     ]
    }
   ],
   "source": [
    "print(\"\"\"\n",
    "@File         : Binning algorithms.ipynb\n",
    "@Author(s)    : Stephen CUI\n",
    "@LastEditor(s): Stephen CUI\n",
    "@CreatedTime  : 2024-12-28 14:56:49\n",
    "@Email        : cuixuanstephen@gmail.com\n",
    "@Description  : Binning algorithms\n",
    "\"\"\")"
   ]
  },
  {
   "cell_type": "code",
   "execution_count": 2,
   "metadata": {},
   "outputs": [],
   "source": [
    "import pandas as pd\n",
    "import numpy as np"
   ]
  },
  {
   "cell_type": "markdown",
   "metadata": {},
   "source": [
    "分箱是将连续变量归类到离散存储桶的过程。将可能无限数量的值转换为有限数量的“存储桶”以供分析非常有用。"
   ]
  },
  {
   "cell_type": "code",
   "execution_count": 3,
   "metadata": {},
   "outputs": [
    {
     "data": {
      "text/html": [
       "<div>\n",
       "<style scoped>\n",
       "    .dataframe tbody tr th:only-of-type {\n",
       "        vertical-align: middle;\n",
       "    }\n",
       "\n",
       "    .dataframe tbody tr th {\n",
       "        vertical-align: top;\n",
       "    }\n",
       "\n",
       "    .dataframe thead th {\n",
       "        text-align: right;\n",
       "    }\n",
       "</style>\n",
       "<table border=\"1\" class=\"dataframe\">\n",
       "  <thead>\n",
       "    <tr style=\"text-align: right;\">\n",
       "      <th></th>\n",
       "      <th>name</th>\n",
       "      <th>age</th>\n",
       "    </tr>\n",
       "  </thead>\n",
       "  <tbody>\n",
       "    <tr>\n",
       "      <th>0</th>\n",
       "      <td>Jane</td>\n",
       "      <td>34</td>\n",
       "    </tr>\n",
       "    <tr>\n",
       "      <th>1</th>\n",
       "      <td>John</td>\n",
       "      <td>18</td>\n",
       "    </tr>\n",
       "    <tr>\n",
       "      <th>2</th>\n",
       "      <td>Jamie</td>\n",
       "      <td>22</td>\n",
       "    </tr>\n",
       "    <tr>\n",
       "      <th>3</th>\n",
       "      <td>Jessica</td>\n",
       "      <td>36</td>\n",
       "    </tr>\n",
       "    <tr>\n",
       "      <th>4</th>\n",
       "      <td>Jackie</td>\n",
       "      <td>33</td>\n",
       "    </tr>\n",
       "  </tbody>\n",
       "</table>\n",
       "</div>"
      ],
      "text/plain": [
       "      name  age\n",
       "0     Jane   34\n",
       "1     John   18\n",
       "2    Jamie   22\n",
       "3  Jessica   36\n",
       "4   Jackie   33"
      ]
     },
     "execution_count": 3,
     "metadata": {},
     "output_type": "execute_result"
    }
   ],
   "source": [
    "df = pd.DataFrame([\n",
    "    [\"Jane\", 34],\n",
    "    [\"John\", 18],\n",
    "    [\"Jamie\", 22],\n",
    "    [\"Jessica\", 36],\n",
    "    [\"Jackie\", 33],\n",
    "    [\"Steve\", 40],\n",
    "    [\"Sam\", 30],\n",
    "    [\"Stephanie\", 66],\n",
    "    [\"Sarah\", 55],\n",
    "    [\"Aaron\", 22],\n",
    "    [\"Erin\", 28],\n",
    "    [\"Elsa\", 37],\n",
    "], columns=[\"name\", \"age\"])\n",
    "df = df.convert_dtypes(dtype_backend=\"numpy_nullable\")\n",
    "df.head()"
   ]
  },
  {
   "cell_type": "code",
   "execution_count": 4,
   "metadata": {},
   "outputs": [
    {
     "data": {
      "text/plain": [
       "0       (30.0, 42.0]\n",
       "1     (17.952, 30.0]\n",
       "2     (17.952, 30.0]\n",
       "3       (30.0, 42.0]\n",
       "4       (30.0, 42.0]\n",
       "5       (30.0, 42.0]\n",
       "6     (17.952, 30.0]\n",
       "7       (54.0, 66.0]\n",
       "8       (54.0, 66.0]\n",
       "9     (17.952, 30.0]\n",
       "10    (17.952, 30.0]\n",
       "11      (30.0, 42.0]\n",
       "Name: age, dtype: category\n",
       "Categories (4, interval[float64, right]): [(17.952, 30.0] < (30.0, 42.0] < (42.0, 54.0] < (54.0, 66.0]]"
      ]
     },
     "execution_count": 4,
     "metadata": {},
     "output_type": "execute_result"
    }
   ],
   "source": [
    "pd.cut(df['age'], bins=4)"
   ]
  },
  {
   "cell_type": "markdown",
   "metadata": {},
   "source": [
    "无论 pandas 选择哪种算法来确定存储桶，第一个存储箱中的年龄 17.952 对 pandas 内部来说都是有意义的，但对我们来说，这最终是无趣的，因为我们知道我们处理的是整数。幸运的是，这可以通过 `precision` 关键字参数来控制，以删除任何小数位："
   ]
  },
  {
   "cell_type": "code",
   "execution_count": 5,
   "metadata": {},
   "outputs": [
    {
     "data": {
      "text/plain": [
       "0     (30.0, 42.0]\n",
       "1     (18.0, 30.0]\n",
       "2     (18.0, 30.0]\n",
       "3     (30.0, 42.0]\n",
       "4     (30.0, 42.0]\n",
       "5     (30.0, 42.0]\n",
       "6     (18.0, 30.0]\n",
       "7     (54.0, 66.0]\n",
       "8     (54.0, 66.0]\n",
       "9     (18.0, 30.0]\n",
       "10    (18.0, 30.0]\n",
       "11    (30.0, 42.0]\n",
       "Name: age, dtype: category\n",
       "Categories (4, interval[float64, right]): [(18.0, 30.0] < (30.0, 42.0] < (42.0, 54.0] < (54.0, 66.0]]"
      ]
     },
     "execution_count": 5,
     "metadata": {},
     "output_type": "execute_result"
    }
   ],
   "source": [
    "pd.cut(df['age'], bins=4, precision=0)"
   ]
  },
  {
   "cell_type": "markdown",
   "metadata": {},
   "source": [
    "pd.cut并不限制我们生成大小相同的容器。如果我们想手动指定范围，可以将这些范围作为第二个参数提供："
   ]
  },
  {
   "cell_type": "code",
   "execution_count": 6,
   "metadata": {},
   "outputs": [
    {
     "data": {
      "text/plain": [
       "0     (30, 40]\n",
       "1     (10, 20]\n",
       "2     (20, 30]\n",
       "3     (30, 40]\n",
       "4     (30, 40]\n",
       "5     (30, 40]\n",
       "6     (20, 30]\n",
       "7     (60, 70]\n",
       "8     (50, 60]\n",
       "9     (20, 30]\n",
       "10    (20, 30]\n",
       "11    (30, 40]\n",
       "Name: age, dtype: category\n",
       "Categories (6, interval[int64, right]): [(10, 20] < (20, 30] < (30, 40] < (40, 50] < (50, 60] < (60, 70]]"
      ]
     },
     "execution_count": 6,
     "metadata": {},
     "output_type": "execute_result"
    }
   ],
   "source": [
    "pd.cut(df['age'], [10, 20, 30, 40, 50, 60, 70])"
   ]
  },
  {
   "cell_type": "markdown",
   "metadata": {},
   "source": [
    "可以用 `np.inf` 来指定大于和小于"
   ]
  },
  {
   "cell_type": "code",
   "execution_count": 7,
   "metadata": {},
   "outputs": [
    {
     "data": {
      "text/plain": [
       "0     (30.0, 40.0]\n",
       "1     (10.0, 20.0]\n",
       "2     (20.0, 30.0]\n",
       "3     (30.0, 40.0]\n",
       "4     (30.0, 40.0]\n",
       "5     (30.0, 40.0]\n",
       "6     (20.0, 30.0]\n",
       "7      (60.0, inf]\n",
       "8     (50.0, 60.0]\n",
       "9     (20.0, 30.0]\n",
       "10    (20.0, 30.0]\n",
       "11    (30.0, 40.0]\n",
       "Name: age, dtype: category\n",
       "Categories (6, interval[float64, right]): [(10.0, 20.0] < (20.0, 30.0] < (30.0, 40.0] < (40.0, 50.0] < (50.0, 60.0] < (60.0, inf]]"
      ]
     },
     "execution_count": 7,
     "metadata": {},
     "output_type": "execute_result"
    }
   ],
   "source": [
    "pd.cut(df[\"age\"], [10, 20, 30, 40, 50, 60, np.inf])[10, 20, 30, 40, 50, 60, np.inf]"
   ]
  },
  {
   "cell_type": "markdown",
   "metadata": {},
   "source": [
    "但是 `(60.0, inf]` 对阅读来说不是好事情，可以手动添加 `labels`。"
   ]
  },
  {
   "cell_type": "code",
   "execution_count": 8,
   "metadata": {},
   "outputs": [
    {
     "data": {
      "text/plain": [
       "0     30-40\n",
       "1     10-20\n",
       "2     20-30\n",
       "3     30-40\n",
       "4     30-40\n",
       "5     30-40\n",
       "6     20-30\n",
       "7       60+\n",
       "8     50-60\n",
       "9     20-30\n",
       "10    20-30\n",
       "11    30-40\n",
       "Name: age, dtype: category\n",
       "Categories (6, object): ['10-20' < '20-30' < '30-40' < '40-50' < '50-60' < '60+']"
      ]
     },
     "execution_count": 8,
     "metadata": {},
     "output_type": "execute_result"
    }
   ],
   "source": [
    "pd.cut(\n",
    "    df['age'], [10, 20, 30, 40, 50, 60, np.inf],\n",
    "    labels=[\"10-20\", \"20-30\", \"30-40\", \"40-50\", \"50-60\", \"60+\"]\n",
    ")"
   ]
  },
  {
   "cell_type": "markdown",
   "metadata": {},
   "source": [
    "但是，我们上面的标签并不完全正确。请注意，我们提供了 `30‑40` 和 `40‑50`，但如果某人正好是 40 岁，会发生什么情况？他们应该被放在哪个箱子里？"
   ]
  },
  {
   "cell_type": "code",
   "execution_count": 9,
   "metadata": {},
   "outputs": [
    {
     "data": {
      "text/html": [
       "<div>\n",
       "<style scoped>\n",
       "    .dataframe tbody tr th:only-of-type {\n",
       "        vertical-align: middle;\n",
       "    }\n",
       "\n",
       "    .dataframe tbody tr th {\n",
       "        vertical-align: top;\n",
       "    }\n",
       "\n",
       "    .dataframe thead th {\n",
       "        text-align: right;\n",
       "    }\n",
       "</style>\n",
       "<table border=\"1\" class=\"dataframe\">\n",
       "  <thead>\n",
       "    <tr style=\"text-align: right;\">\n",
       "      <th></th>\n",
       "      <th>name</th>\n",
       "      <th>age</th>\n",
       "      <th>age_bin</th>\n",
       "    </tr>\n",
       "  </thead>\n",
       "  <tbody>\n",
       "    <tr>\n",
       "      <th>0</th>\n",
       "      <td>Jane</td>\n",
       "      <td>34</td>\n",
       "      <td>(30, 40]</td>\n",
       "    </tr>\n",
       "    <tr>\n",
       "      <th>1</th>\n",
       "      <td>John</td>\n",
       "      <td>18</td>\n",
       "      <td>(10, 20]</td>\n",
       "    </tr>\n",
       "    <tr>\n",
       "      <th>2</th>\n",
       "      <td>Jamie</td>\n",
       "      <td>22</td>\n",
       "      <td>(20, 30]</td>\n",
       "    </tr>\n",
       "    <tr>\n",
       "      <th>3</th>\n",
       "      <td>Jessica</td>\n",
       "      <td>36</td>\n",
       "      <td>(30, 40]</td>\n",
       "    </tr>\n",
       "    <tr>\n",
       "      <th>4</th>\n",
       "      <td>Jackie</td>\n",
       "      <td>33</td>\n",
       "      <td>(30, 40]</td>\n",
       "    </tr>\n",
       "    <tr>\n",
       "      <th>5</th>\n",
       "      <td>Steve</td>\n",
       "      <td>40</td>\n",
       "      <td>(30, 40]</td>\n",
       "    </tr>\n",
       "    <tr>\n",
       "      <th>6</th>\n",
       "      <td>Sam</td>\n",
       "      <td>30</td>\n",
       "      <td>(20, 30]</td>\n",
       "    </tr>\n",
       "    <tr>\n",
       "      <th>7</th>\n",
       "      <td>Stephanie</td>\n",
       "      <td>66</td>\n",
       "      <td>(60, 999]</td>\n",
       "    </tr>\n",
       "    <tr>\n",
       "      <th>8</th>\n",
       "      <td>Sarah</td>\n",
       "      <td>55</td>\n",
       "      <td>(50, 60]</td>\n",
       "    </tr>\n",
       "    <tr>\n",
       "      <th>9</th>\n",
       "      <td>Aaron</td>\n",
       "      <td>22</td>\n",
       "      <td>(20, 30]</td>\n",
       "    </tr>\n",
       "    <tr>\n",
       "      <th>10</th>\n",
       "      <td>Erin</td>\n",
       "      <td>28</td>\n",
       "      <td>(20, 30]</td>\n",
       "    </tr>\n",
       "    <tr>\n",
       "      <th>11</th>\n",
       "      <td>Elsa</td>\n",
       "      <td>37</td>\n",
       "      <td>(30, 40]</td>\n",
       "    </tr>\n",
       "  </tbody>\n",
       "</table>\n",
       "</div>"
      ],
      "text/plain": [
       "         name  age    age_bin\n",
       "0        Jane   34   (30, 40]\n",
       "1        John   18   (10, 20]\n",
       "2       Jamie   22   (20, 30]\n",
       "3     Jessica   36   (30, 40]\n",
       "4      Jackie   33   (30, 40]\n",
       "5       Steve   40   (30, 40]\n",
       "6         Sam   30   (20, 30]\n",
       "7   Stephanie   66  (60, 999]\n",
       "8       Sarah   55   (50, 60]\n",
       "9       Aaron   22   (20, 30]\n",
       "10       Erin   28   (20, 30]\n",
       "11       Elsa   37   (30, 40]"
      ]
     },
     "execution_count": 9,
     "metadata": {},
     "output_type": "execute_result"
    }
   ],
   "source": [
    "df.assign(age_bin=lambda x: pd.cut(x[\"age\"], [10, 20, 30, 40, 50, 60, 999]))"
   ]
  },
  {
   "cell_type": "markdown",
   "metadata": {},
   "source": [
    "默认情况下，分箱是右闭区间的，这意味着每个分箱都可以被认为最多包含一个特定值。如果我们想要最多但不包括的行为，我们可以使用 `right` 来控制它："
   ]
  },
  {
   "cell_type": "code",
   "execution_count": 10,
   "metadata": {},
   "outputs": [
    {
     "data": {
      "text/html": [
       "<div>\n",
       "<style scoped>\n",
       "    .dataframe tbody tr th:only-of-type {\n",
       "        vertical-align: middle;\n",
       "    }\n",
       "\n",
       "    .dataframe tbody tr th {\n",
       "        vertical-align: top;\n",
       "    }\n",
       "\n",
       "    .dataframe thead th {\n",
       "        text-align: right;\n",
       "    }\n",
       "</style>\n",
       "<table border=\"1\" class=\"dataframe\">\n",
       "  <thead>\n",
       "    <tr style=\"text-align: right;\">\n",
       "      <th></th>\n",
       "      <th>name</th>\n",
       "      <th>age</th>\n",
       "      <th>age_bin</th>\n",
       "    </tr>\n",
       "  </thead>\n",
       "  <tbody>\n",
       "    <tr>\n",
       "      <th>0</th>\n",
       "      <td>Jane</td>\n",
       "      <td>34</td>\n",
       "      <td>[30, 40)</td>\n",
       "    </tr>\n",
       "    <tr>\n",
       "      <th>1</th>\n",
       "      <td>John</td>\n",
       "      <td>18</td>\n",
       "      <td>[10, 20)</td>\n",
       "    </tr>\n",
       "    <tr>\n",
       "      <th>2</th>\n",
       "      <td>Jamie</td>\n",
       "      <td>22</td>\n",
       "      <td>[20, 30)</td>\n",
       "    </tr>\n",
       "    <tr>\n",
       "      <th>3</th>\n",
       "      <td>Jessica</td>\n",
       "      <td>36</td>\n",
       "      <td>[30, 40)</td>\n",
       "    </tr>\n",
       "    <tr>\n",
       "      <th>4</th>\n",
       "      <td>Jackie</td>\n",
       "      <td>33</td>\n",
       "      <td>[30, 40)</td>\n",
       "    </tr>\n",
       "    <tr>\n",
       "      <th>5</th>\n",
       "      <td>Steve</td>\n",
       "      <td>40</td>\n",
       "      <td>[40, 50)</td>\n",
       "    </tr>\n",
       "    <tr>\n",
       "      <th>6</th>\n",
       "      <td>Sam</td>\n",
       "      <td>30</td>\n",
       "      <td>[30, 40)</td>\n",
       "    </tr>\n",
       "    <tr>\n",
       "      <th>7</th>\n",
       "      <td>Stephanie</td>\n",
       "      <td>66</td>\n",
       "      <td>[60, 999)</td>\n",
       "    </tr>\n",
       "    <tr>\n",
       "      <th>8</th>\n",
       "      <td>Sarah</td>\n",
       "      <td>55</td>\n",
       "      <td>[50, 60)</td>\n",
       "    </tr>\n",
       "    <tr>\n",
       "      <th>9</th>\n",
       "      <td>Aaron</td>\n",
       "      <td>22</td>\n",
       "      <td>[20, 30)</td>\n",
       "    </tr>\n",
       "    <tr>\n",
       "      <th>10</th>\n",
       "      <td>Erin</td>\n",
       "      <td>28</td>\n",
       "      <td>[20, 30)</td>\n",
       "    </tr>\n",
       "    <tr>\n",
       "      <th>11</th>\n",
       "      <td>Elsa</td>\n",
       "      <td>37</td>\n",
       "      <td>[30, 40)</td>\n",
       "    </tr>\n",
       "  </tbody>\n",
       "</table>\n",
       "</div>"
      ],
      "text/plain": [
       "         name  age    age_bin\n",
       "0        Jane   34   [30, 40)\n",
       "1        John   18   [10, 20)\n",
       "2       Jamie   22   [20, 30)\n",
       "3     Jessica   36   [30, 40)\n",
       "4      Jackie   33   [30, 40)\n",
       "5       Steve   40   [40, 50)\n",
       "6         Sam   30   [30, 40)\n",
       "7   Stephanie   66  [60, 999)\n",
       "8       Sarah   55   [50, 60)\n",
       "9       Aaron   22   [20, 30)\n",
       "10       Erin   28   [20, 30)\n",
       "11       Elsa   37   [30, 40)"
      ]
     },
     "execution_count": 10,
     "metadata": {},
     "output_type": "execute_result"
    }
   ],
   "source": [
    "df.assign(\n",
    "    age_bin=lambda x: pd.cut(x[\"age\"], [10, 20, 30, 40, 50, 60, 999],\n",
    "                             right=False)\n",
    ")"
   ]
  },
  {
   "cell_type": "code",
   "execution_count": null,
   "metadata": {},
   "outputs": [],
   "source": []
  }
 ],
 "metadata": {
  "kernelspec": {
   "display_name": "Python 3",
   "language": "python",
   "name": "python3"
  },
  "language_info": {
   "codemirror_mode": {
    "name": "ipython",
    "version": 3
   },
   "file_extension": ".py",
   "mimetype": "text/x-python",
   "name": "python",
   "nbconvert_exporter": "python",
   "pygments_lexer": "ipython3",
   "version": "3.11.1"
  }
 },
 "nbformat": 4,
 "nbformat_minor": 2
}

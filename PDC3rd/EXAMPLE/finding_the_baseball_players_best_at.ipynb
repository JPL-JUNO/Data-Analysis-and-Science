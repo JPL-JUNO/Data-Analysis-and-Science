{
 "cells": [
  {
   "cell_type": "code",
   "execution_count": 1,
   "metadata": {},
   "outputs": [
    {
     "name": "stdout",
     "output_type": "stream",
     "text": [
      "\n",
      "@File         : finding_the_baseball_players_best_at.ipynb\n",
      "@Author(s)    : Stephen CUI\n",
      "@LastEditor(s): Stephen CUI\n",
      "@CreatedTime  : 2024-12-31 22:52:49\n",
      "@Email        : cuixuanstephen@gmail.com\n",
      "@Description  : 寻找最擅长的棒球运动员\n",
      "\n"
     ]
    }
   ],
   "source": [
    "print(\"\"\"\n",
    "@File         : finding_the_baseball_players_best_at.ipynb\n",
    "@Author(s)    : Stephen CUI\n",
    "@LastEditor(s): Stephen CUI\n",
    "@CreatedTime  : 2024-12-31 22:52:49\n",
    "@Email        : cuixuanstephen@gmail.com\n",
    "@Description  : 寻找最擅长的棒球运动员\n",
    "\"\"\")"
   ]
  },
  {
   "cell_type": "code",
   "execution_count": 2,
   "metadata": {},
   "outputs": [
    {
     "name": "stdout",
     "output_type": "stream",
     "text": [
      "d:\\Data-Analysis-and-Science\\PDC3rd\n"
     ]
    }
   ],
   "source": [
    "import pandas as pd\n",
    "import numpy as np\n",
    "\n",
    "%cd ../"
   ]
  },
  {
   "cell_type": "code",
   "execution_count": 4,
   "metadata": {},
   "outputs": [
    {
     "data": {
      "text/html": [
       "<div>\n",
       "<style scoped>\n",
       "    .dataframe tbody tr th:only-of-type {\n",
       "        vertical-align: middle;\n",
       "    }\n",
       "\n",
       "    .dataframe tbody tr th {\n",
       "        vertical-align: top;\n",
       "    }\n",
       "\n",
       "    .dataframe thead th {\n",
       "        text-align: right;\n",
       "    }\n",
       "</style>\n",
       "<table border=\"1\" class=\"dataframe\">\n",
       "  <thead>\n",
       "    <tr style=\"text-align: right;\">\n",
       "      <th></th>\n",
       "      <th>ab</th>\n",
       "      <th>r</th>\n",
       "      <th>h</th>\n",
       "      <th>hr</th>\n",
       "    </tr>\n",
       "    <tr>\n",
       "      <th>id</th>\n",
       "      <th></th>\n",
       "      <th></th>\n",
       "      <th></th>\n",
       "      <th></th>\n",
       "    </tr>\n",
       "  </thead>\n",
       "  <tbody>\n",
       "    <tr>\n",
       "      <th>abadf001</th>\n",
       "      <td>0</td>\n",
       "      <td>0</td>\n",
       "      <td>0</td>\n",
       "      <td>0</td>\n",
       "    </tr>\n",
       "    <tr>\n",
       "      <th>abboa001</th>\n",
       "      <td>0</td>\n",
       "      <td>0</td>\n",
       "      <td>0</td>\n",
       "      <td>0</td>\n",
       "    </tr>\n",
       "    <tr>\n",
       "      <th>abboc001</th>\n",
       "      <td>3</td>\n",
       "      <td>0</td>\n",
       "      <td>1</td>\n",
       "      <td>0</td>\n",
       "    </tr>\n",
       "    <tr>\n",
       "      <th>abrac001</th>\n",
       "      <td>847</td>\n",
       "      <td>116</td>\n",
       "      <td>208</td>\n",
       "      <td>20</td>\n",
       "    </tr>\n",
       "    <tr>\n",
       "      <th>abrea001</th>\n",
       "      <td>0</td>\n",
       "      <td>0</td>\n",
       "      <td>0</td>\n",
       "      <td>0</td>\n",
       "    </tr>\n",
       "    <tr>\n",
       "      <th>...</th>\n",
       "      <td>...</td>\n",
       "      <td>...</td>\n",
       "      <td>...</td>\n",
       "      <td>...</td>\n",
       "    </tr>\n",
       "    <tr>\n",
       "      <th>zimmk001</th>\n",
       "      <td>0</td>\n",
       "      <td>0</td>\n",
       "      <td>0</td>\n",
       "      <td>0</td>\n",
       "    </tr>\n",
       "    <tr>\n",
       "      <th>zimmr001</th>\n",
       "      <td>255</td>\n",
       "      <td>27</td>\n",
       "      <td>62</td>\n",
       "      <td>14</td>\n",
       "    </tr>\n",
       "    <tr>\n",
       "      <th>zubet001</th>\n",
       "      <td>1</td>\n",
       "      <td>0</td>\n",
       "      <td>0</td>\n",
       "      <td>0</td>\n",
       "    </tr>\n",
       "    <tr>\n",
       "      <th>zunig001</th>\n",
       "      <td>0</td>\n",
       "      <td>0</td>\n",
       "      <td>0</td>\n",
       "      <td>0</td>\n",
       "    </tr>\n",
       "    <tr>\n",
       "      <th>zunim001</th>\n",
       "      <td>572</td>\n",
       "      <td>82</td>\n",
       "      <td>111</td>\n",
       "      <td>41</td>\n",
       "    </tr>\n",
       "  </tbody>\n",
       "</table>\n",
       "<p>2183 rows × 4 columns</p>\n",
       "</div>"
      ],
      "text/plain": [
       "           ab    r    h  hr\n",
       "id                         \n",
       "abadf001    0    0    0   0\n",
       "abboa001    0    0    0   0\n",
       "abboc001    3    0    1   0\n",
       "abrac001  847  116  208  20\n",
       "abrea001    0    0    0   0\n",
       "...       ...  ...  ...  ..\n",
       "zimmk001    0    0    0   0\n",
       "zimmr001  255   27   62  14\n",
       "zubet001    1    0    0   0\n",
       "zunig001    0    0    0   0\n",
       "zunim001  572   82  111  41\n",
       "\n",
       "[2183 rows x 4 columns]"
      ]
     },
     "execution_count": 4,
     "metadata": {},
     "output_type": "execute_result"
    }
   ],
   "source": [
    "df = pd.read_parquet('DATA/mlb_batting_summaries.parquet').set_index('id')\n",
    "\n",
    "df"
   ]
  },
  {
   "cell_type": "code",
   "execution_count": 5,
   "metadata": {},
   "outputs": [
    {
     "data": {
      "text/plain": [
       "ab    semim001\n",
       "r     freef001\n",
       "h     freef001\n",
       "hr    judga001\n",
       "dtype: string"
      ]
     },
     "execution_count": 5,
     "metadata": {},
     "output_type": "execute_result"
    }
   ],
   "source": [
    "df.idxmax()"
   ]
  },
  {
   "cell_type": "markdown",
   "metadata": {},
   "source": [
    "球员 semim001 (Marcus Semien) 的击球次数最多，freef001 (Freddie Freeman) 的跑垒和安打次数最多，而 judga001 (Aaron Judge) 在此时间范围内击出本垒打最多。"
   ]
  },
  {
   "cell_type": "markdown",
   "metadata": {},
   "source": [
    "如果你想深入了解这些伟大球员在所有类别中的表现，你可以获取 `pd.DataFrame.idxmax` 的输出，随后对这些值调用 `pd.Series.unique`，并将其用作整体 `pd.DataFrame` 的掩码："
   ]
  },
  {
   "cell_type": "code",
   "execution_count": 10,
   "metadata": {},
   "outputs": [
    {
     "data": {
      "text/html": [
       "<div>\n",
       "<style scoped>\n",
       "    .dataframe tbody tr th:only-of-type {\n",
       "        vertical-align: middle;\n",
       "    }\n",
       "\n",
       "    .dataframe tbody tr th {\n",
       "        vertical-align: top;\n",
       "    }\n",
       "\n",
       "    .dataframe thead th {\n",
       "        text-align: right;\n",
       "    }\n",
       "</style>\n",
       "<table border=\"1\" class=\"dataframe\">\n",
       "  <thead>\n",
       "    <tr style=\"text-align: right;\">\n",
       "      <th></th>\n",
       "      <th>ab</th>\n",
       "      <th>r</th>\n",
       "      <th>h</th>\n",
       "      <th>hr</th>\n",
       "    </tr>\n",
       "    <tr>\n",
       "      <th>id</th>\n",
       "      <th></th>\n",
       "      <th></th>\n",
       "      <th></th>\n",
       "      <th></th>\n",
       "    </tr>\n",
       "  </thead>\n",
       "  <tbody>\n",
       "    <tr>\n",
       "      <th>freef001</th>\n",
       "      <td>1849</td>\n",
       "      <td>368</td>\n",
       "      <td>590</td>\n",
       "      <td>81</td>\n",
       "    </tr>\n",
       "    <tr>\n",
       "      <th>judga001</th>\n",
       "      <td>1487</td>\n",
       "      <td>301</td>\n",
       "      <td>433</td>\n",
       "      <td>138</td>\n",
       "    </tr>\n",
       "    <tr>\n",
       "      <th>semim001</th>\n",
       "      <td>1979</td>\n",
       "      <td>338</td>\n",
       "      <td>521</td>\n",
       "      <td>100</td>\n",
       "    </tr>\n",
       "  </tbody>\n",
       "</table>\n",
       "</div>"
      ],
      "text/plain": [
       "            ab    r    h   hr\n",
       "id                           \n",
       "freef001  1849  368  590   81\n",
       "judga001  1487  301  433  138\n",
       "semim001  1979  338  521  100"
      ]
     },
     "execution_count": 10,
     "metadata": {},
     "output_type": "execute_result"
    }
   ],
   "source": [
    "best_players = df.idxmax().unique()\n",
    "mask = df.index.isin(best_players)\n",
    "df[mask]"
   ]
  },
  {
   "cell_type": "markdown",
   "metadata": {},
   "source": [
    "为了更好地增强这些数据的视觉效果，可以使用 `pd.DataFrame.style.highlight_max` 来非常具体地显示这些球员在哪\n",
    "个类别中表现最佳："
   ]
  },
  {
   "cell_type": "code",
   "execution_count": 16,
   "metadata": {},
   "outputs": [
    {
     "data": {
      "text/html": [
       "<style type=\"text/css\">\n",
       "#T_72be1_row0_col1, #T_72be1_row0_col2, #T_72be1_row1_col3, #T_72be1_row2_col0 {\n",
       "  background-color: green;\n",
       "}\n",
       "</style>\n",
       "<table id=\"T_72be1\">\n",
       "  <thead>\n",
       "    <tr>\n",
       "      <th class=\"blank level0\" >&nbsp;</th>\n",
       "      <th id=\"T_72be1_level0_col0\" class=\"col_heading level0 col0\" >ab</th>\n",
       "      <th id=\"T_72be1_level0_col1\" class=\"col_heading level0 col1\" >r</th>\n",
       "      <th id=\"T_72be1_level0_col2\" class=\"col_heading level0 col2\" >h</th>\n",
       "      <th id=\"T_72be1_level0_col3\" class=\"col_heading level0 col3\" >hr</th>\n",
       "    </tr>\n",
       "    <tr>\n",
       "      <th class=\"index_name level0\" >id</th>\n",
       "      <th class=\"blank col0\" >&nbsp;</th>\n",
       "      <th class=\"blank col1\" >&nbsp;</th>\n",
       "      <th class=\"blank col2\" >&nbsp;</th>\n",
       "      <th class=\"blank col3\" >&nbsp;</th>\n",
       "    </tr>\n",
       "  </thead>\n",
       "  <tbody>\n",
       "    <tr>\n",
       "      <th id=\"T_72be1_level0_row0\" class=\"row_heading level0 row0\" >freef001</th>\n",
       "      <td id=\"T_72be1_row0_col0\" class=\"data row0 col0\" >1849</td>\n",
       "      <td id=\"T_72be1_row0_col1\" class=\"data row0 col1\" >368</td>\n",
       "      <td id=\"T_72be1_row0_col2\" class=\"data row0 col2\" >590</td>\n",
       "      <td id=\"T_72be1_row0_col3\" class=\"data row0 col3\" >81</td>\n",
       "    </tr>\n",
       "    <tr>\n",
       "      <th id=\"T_72be1_level0_row1\" class=\"row_heading level0 row1\" >judga001</th>\n",
       "      <td id=\"T_72be1_row1_col0\" class=\"data row1 col0\" >1487</td>\n",
       "      <td id=\"T_72be1_row1_col1\" class=\"data row1 col1\" >301</td>\n",
       "      <td id=\"T_72be1_row1_col2\" class=\"data row1 col2\" >433</td>\n",
       "      <td id=\"T_72be1_row1_col3\" class=\"data row1 col3\" >138</td>\n",
       "    </tr>\n",
       "    <tr>\n",
       "      <th id=\"T_72be1_level0_row2\" class=\"row_heading level0 row2\" >semim001</th>\n",
       "      <td id=\"T_72be1_row2_col0\" class=\"data row2 col0\" >1979</td>\n",
       "      <td id=\"T_72be1_row2_col1\" class=\"data row2 col1\" >338</td>\n",
       "      <td id=\"T_72be1_row2_col2\" class=\"data row2 col2\" >521</td>\n",
       "      <td id=\"T_72be1_row2_col3\" class=\"data row2 col3\" >100</td>\n",
       "    </tr>\n",
       "  </tbody>\n",
       "</table>\n"
      ],
      "text/plain": [
       "<pandas.io.formats.style.Styler at 0x147a3e92850>"
      ]
     },
     "execution_count": 16,
     "metadata": {},
     "output_type": "execute_result"
    }
   ],
   "source": [
    "df[mask].style.highlight_max(color='green')"
   ]
  },
  {
   "cell_type": "code",
   "execution_count": null,
   "metadata": {},
   "outputs": [],
   "source": []
  }
 ],
 "metadata": {
  "kernelspec": {
   "display_name": "Python 3",
   "language": "python",
   "name": "python3"
  },
  "language_info": {
   "codemirror_mode": {
    "name": "ipython",
    "version": 3
   },
   "file_extension": ".py",
   "mimetype": "text/x-python",
   "name": "python",
   "nbconvert_exporter": "python",
   "pygments_lexer": "ipython3",
   "version": "3.11.1"
  }
 },
 "nbformat": 4,
 "nbformat_minor": 2
}

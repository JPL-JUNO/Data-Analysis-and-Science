{
 "cells": [
  {
   "cell_type": "code",
   "execution_count": 1,
   "metadata": {},
   "outputs": [
    {
     "name": "stdout",
     "output_type": "stream",
     "text": [
      "\n",
      "@File         : understanding_which_position_scores_the_most_per_team.ipynb\n",
      "@Author(s)    : Stephen CUI\n",
      "@LastEditor(s): Stephen CUI\n",
      "@CreatedTime  : 2025-01-01 16:47:13\n",
      "@Email        : cuixuanstephen@gmail.com\n",
      "@Description  : 了解每支球队哪个位置得分最高\n",
      "\n"
     ]
    }
   ],
   "source": [
    "print(\"\"\"\n",
    "@File         : understanding_which_position_scores_the_most_per_team.ipynb\n",
    "@Author(s)    : Stephen CUI\n",
    "@LastEditor(s): Stephen CUI\n",
    "@CreatedTime  : 2025-01-01 16:47:13\n",
    "@Email        : cuixuanstephen@gmail.com\n",
    "@Description  : 了解每支球队哪个位置得分最高\n",
    "\"\"\")"
   ]
  },
  {
   "cell_type": "code",
   "execution_count": 3,
   "metadata": {},
   "outputs": [
    {
     "name": "stdout",
     "output_type": "stream",
     "text": [
      "d:\\Data-Analysis-and-Science\\PDC3rd\n"
     ]
    }
   ],
   "source": [
    "import pandas as pd\n",
    "import numpy as np\n",
    "\n",
    "%cd ../"
   ]
  },
  {
   "cell_type": "code",
   "execution_count": 4,
   "metadata": {},
   "outputs": [
    {
     "data": {
      "text/html": [
       "<div>\n",
       "<style scoped>\n",
       "    .dataframe tbody tr th:only-of-type {\n",
       "        vertical-align: middle;\n",
       "    }\n",
       "\n",
       "    .dataframe tbody tr th {\n",
       "        vertical-align: top;\n",
       "    }\n",
       "\n",
       "    .dataframe thead th {\n",
       "        text-align: right;\n",
       "    }\n",
       "</style>\n",
       "<table border=\"1\" class=\"dataframe\">\n",
       "  <thead>\n",
       "    <tr style=\"text-align: right;\">\n",
       "      <th></th>\n",
       "      <th></th>\n",
       "      <th>1</th>\n",
       "      <th>2</th>\n",
       "      <th>3</th>\n",
       "      <th>4</th>\n",
       "      <th>5</th>\n",
       "      <th>6</th>\n",
       "      <th>7</th>\n",
       "      <th>8</th>\n",
       "      <th>9</th>\n",
       "    </tr>\n",
       "    <tr>\n",
       "      <th>year</th>\n",
       "      <th>team</th>\n",
       "      <th></th>\n",
       "      <th></th>\n",
       "      <th></th>\n",
       "      <th></th>\n",
       "      <th></th>\n",
       "      <th></th>\n",
       "      <th></th>\n",
       "      <th></th>\n",
       "      <th></th>\n",
       "    </tr>\n",
       "  </thead>\n",
       "  <tbody>\n",
       "    <tr>\n",
       "      <th rowspan=\"5\" valign=\"top\">2000</th>\n",
       "      <th>ANA</th>\n",
       "      <td>124</td>\n",
       "      <td>107</td>\n",
       "      <td>100</td>\n",
       "      <td>113</td>\n",
       "      <td>98</td>\n",
       "      <td>115</td>\n",
       "      <td>77</td>\n",
       "      <td>76</td>\n",
       "      <td>54</td>\n",
       "    </tr>\n",
       "    <tr>\n",
       "      <th>ARI</th>\n",
       "      <td>110</td>\n",
       "      <td>106</td>\n",
       "      <td>109</td>\n",
       "      <td>95</td>\n",
       "      <td>105</td>\n",
       "      <td>87</td>\n",
       "      <td>72</td>\n",
       "      <td>68</td>\n",
       "      <td>40</td>\n",
       "    </tr>\n",
       "    <tr>\n",
       "      <th>ATL</th>\n",
       "      <td>113</td>\n",
       "      <td>125</td>\n",
       "      <td>124</td>\n",
       "      <td>93</td>\n",
       "      <td>95</td>\n",
       "      <td>70</td>\n",
       "      <td>77</td>\n",
       "      <td>74</td>\n",
       "      <td>39</td>\n",
       "    </tr>\n",
       "    <tr>\n",
       "      <th>BAL</th>\n",
       "      <td>106</td>\n",
       "      <td>106</td>\n",
       "      <td>92</td>\n",
       "      <td>76</td>\n",
       "      <td>82</td>\n",
       "      <td>97</td>\n",
       "      <td>83</td>\n",
       "      <td>78</td>\n",
       "      <td>74</td>\n",
       "    </tr>\n",
       "    <tr>\n",
       "      <th>BOS</th>\n",
       "      <td>99</td>\n",
       "      <td>107</td>\n",
       "      <td>99</td>\n",
       "      <td>114</td>\n",
       "      <td>99</td>\n",
       "      <td>71</td>\n",
       "      <td>75</td>\n",
       "      <td>66</td>\n",
       "      <td>62</td>\n",
       "    </tr>\n",
       "  </tbody>\n",
       "</table>\n",
       "</div>"
      ],
      "text/plain": [
       "             1    2    3    4    5    6   7   8   9\n",
       "year team                                          \n",
       "2000 ANA   124  107  100  113   98  115  77  76  54\n",
       "     ARI   110  106  109   95  105   87  72  68  40\n",
       "     ATL   113  125  124   93   95   70  77  74  39\n",
       "     BAL   106  106   92   76   82   97  83  78  74\n",
       "     BOS    99  107   99  114   99   71  75  66  62"
      ]
     },
     "execution_count": 4,
     "metadata": {},
     "output_type": "execute_result"
    }
   ],
   "source": [
    "df = pd.read_parquet('DATA/runs_scored_by_team.parquet').set_index(['year', 'team'])\n",
    "\n",
    "df.head()"
   ]
  },
  {
   "cell_type": "code",
   "execution_count": 5,
   "metadata": {},
   "outputs": [
    {
     "data": {
      "text/plain": [
       "year  team\n",
       "2000  ANA     1\n",
       "      ARI     1\n",
       "      ATL     2\n",
       "      BAL     1\n",
       "      BOS     4\n",
       "             ..\n",
       "2023  SLN     1\n",
       "      TBA     1\n",
       "      TEX     1\n",
       "      TOR     2\n",
       "      WAS     1\n",
       "Length: 720, dtype: object"
      ]
     },
     "execution_count": 5,
     "metadata": {},
     "output_type": "execute_result"
    }
   ],
   "source": [
    "df.idxmax(axis='columns')"
   ]
  },
  {
   "cell_type": "code",
   "execution_count": 6,
   "metadata": {},
   "outputs": [
    {
     "data": {
      "text/plain": [
       "1    0.480556\n",
       "2    0.208333\n",
       "3    0.202778\n",
       "4    0.088889\n",
       "5    0.018056\n",
       "6    0.001389\n",
       "Name: proportion, dtype: float64"
      ]
     },
     "execution_count": 6,
     "metadata": {},
     "output_type": "execute_result"
    }
   ],
   "source": [
    "df.idxmax(axis='columns').value_counts(normalize=True)"
   ]
  },
  {
   "cell_type": "code",
   "execution_count": 12,
   "metadata": {},
   "outputs": [
    {
     "data": {
      "text/plain": [
       "2    0.497110\n",
       "3    0.280347\n",
       "4    0.164740\n",
       "5    0.043353\n",
       "6    0.014451\n",
       "Name: proportion, dtype: float64"
      ]
     },
     "execution_count": 12,
     "metadata": {},
     "output_type": "execute_result"
    }
   ],
   "source": [
    "mask = df.idxmax(axis='columns').eq('1')\n",
    "df[mask].drop(columns=['1']).idxmax(axis='columns').value_counts(normalize=True)"
   ]
  },
  {
   "cell_type": "code",
   "execution_count": null,
   "metadata": {},
   "outputs": [],
   "source": []
  }
 ],
 "metadata": {
  "kernelspec": {
   "display_name": "Python 3",
   "language": "python",
   "name": "python3"
  },
  "language_info": {
   "codemirror_mode": {
    "name": "ipython",
    "version": 3
   },
   "file_extension": ".py",
   "mimetype": "text/x-python",
   "name": "python",
   "nbconvert_exporter": "python",
   "pygments_lexer": "ipython3",
   "version": "3.11.1"
  }
 },
 "nbformat": 4,
 "nbformat_minor": 2
}

{
 "cells": [
  {
   "cell_type": "code",
   "execution_count": 1,
   "metadata": {},
   "outputs": [],
   "source": [
    "import pandas as pd\n",
    "\n",
    "df = pd.read_csv(\n",
    "    \"../../DATA/nyc-parking-violations-2020.csv\",\n",
    "    usecols=[\n",
    "        \"Date First Observed\",\n",
    "        \"Registration State\",\n",
    "        \"Plate ID\",\n",
    "        \"Issue Date\",\n",
    "        \"Vehicle Make\",\n",
    "        \"Street Name\",\n",
    "        \"Vehicle Color\",\n",
    "    ],\n",
    ")"
   ]
  },
  {
   "cell_type": "code",
   "execution_count": 3,
   "metadata": {},
   "outputs": [],
   "source": [
    "df = df.set_index('Issue Date')"
   ]
  },
  {
   "cell_type": "code",
   "execution_count": 5,
   "metadata": {},
   "outputs": [
    {
     "data": {
      "text/html": [
       "<div>\n",
       "<style scoped>\n",
       "    .dataframe tbody tr th:only-of-type {\n",
       "        vertical-align: middle;\n",
       "    }\n",
       "\n",
       "    .dataframe tbody tr th {\n",
       "        vertical-align: top;\n",
       "    }\n",
       "\n",
       "    .dataframe thead th {\n",
       "        text-align: right;\n",
       "    }\n",
       "</style>\n",
       "<table border=\"1\" class=\"dataframe\">\n",
       "  <thead>\n",
       "    <tr style=\"text-align: right;\">\n",
       "      <th></th>\n",
       "      <th>Plate ID</th>\n",
       "      <th>Registration State</th>\n",
       "      <th>Vehicle Make</th>\n",
       "      <th>Street Name</th>\n",
       "      <th>Date First Observed</th>\n",
       "      <th>Vehicle Color</th>\n",
       "    </tr>\n",
       "    <tr>\n",
       "      <th>Issue Date</th>\n",
       "      <th></th>\n",
       "      <th></th>\n",
       "      <th></th>\n",
       "      <th></th>\n",
       "      <th></th>\n",
       "      <th></th>\n",
       "    </tr>\n",
       "  </thead>\n",
       "  <tbody>\n",
       "    <tr>\n",
       "      <th>01/02/2020 12:00:00 AM</th>\n",
       "      <td>EHM3610</td>\n",
       "      <td>NY</td>\n",
       "      <td>MAZDA</td>\n",
       "      <td>SB 2 Avenue @ E 122</td>\n",
       "      <td>0</td>\n",
       "      <td>BK</td>\n",
       "    </tr>\n",
       "    <tr>\n",
       "      <th>01/02/2020 12:00:00 AM</th>\n",
       "      <td>AB64604</td>\n",
       "      <td>CT</td>\n",
       "      <td>TOYOT</td>\n",
       "      <td>SB 2 Avenue @ E 115</td>\n",
       "      <td>0</td>\n",
       "      <td>NaN</td>\n",
       "    </tr>\n",
       "    <tr>\n",
       "      <th>01/02/2020 12:00:00 AM</th>\n",
       "      <td>T713131C</td>\n",
       "      <td>NY</td>\n",
       "      <td>NISSA</td>\n",
       "      <td>SB 2 Avenue @ E 30 S</td>\n",
       "      <td>0</td>\n",
       "      <td>BK</td>\n",
       "    </tr>\n",
       "    <tr>\n",
       "      <th>01/02/2020 12:00:00 AM</th>\n",
       "      <td>23015MJ</td>\n",
       "      <td>NY</td>\n",
       "      <td>FORD</td>\n",
       "      <td>SB 2 Avenue @ E 72 S</td>\n",
       "      <td>0</td>\n",
       "      <td>WH</td>\n",
       "    </tr>\n",
       "    <tr>\n",
       "      <th>01/02/2020 12:00:00 AM</th>\n",
       "      <td>67493MN</td>\n",
       "      <td>NY</td>\n",
       "      <td>HIN</td>\n",
       "      <td>SB 2 Avenue @ E 96 S</td>\n",
       "      <td>0</td>\n",
       "      <td>OR</td>\n",
       "    </tr>\n",
       "    <tr>\n",
       "      <th>...</th>\n",
       "      <td>...</td>\n",
       "      <td>...</td>\n",
       "      <td>...</td>\n",
       "      <td>...</td>\n",
       "      <td>...</td>\n",
       "      <td>...</td>\n",
       "    </tr>\n",
       "    <tr>\n",
       "      <th>01/02/2020 12:00:00 AM</th>\n",
       "      <td>HDY9971</td>\n",
       "      <td>NY</td>\n",
       "      <td>JAGUA</td>\n",
       "      <td>8TH AVE</td>\n",
       "      <td>0</td>\n",
       "      <td>GRY</td>\n",
       "    </tr>\n",
       "    <tr>\n",
       "      <th>01/02/2020 12:00:00 AM</th>\n",
       "      <td>HGV3053</td>\n",
       "      <td>NY</td>\n",
       "      <td>HONDA</td>\n",
       "      <td>LENOX AVE</td>\n",
       "      <td>0</td>\n",
       "      <td>NaN</td>\n",
       "    </tr>\n",
       "    <tr>\n",
       "      <th>01/02/2020 12:00:00 AM</th>\n",
       "      <td>JBN3119</td>\n",
       "      <td>NY</td>\n",
       "      <td>BUICK</td>\n",
       "      <td>ST NICHOLAS AVE</td>\n",
       "      <td>0</td>\n",
       "      <td>BLK</td>\n",
       "    </tr>\n",
       "    <tr>\n",
       "      <th>01/02/2020 12:00:00 AM</th>\n",
       "      <td>JPB3007</td>\n",
       "      <td>NY</td>\n",
       "      <td>ME/BE</td>\n",
       "      <td>ST NICHOLAS AVE</td>\n",
       "      <td>0</td>\n",
       "      <td>GRY</td>\n",
       "    </tr>\n",
       "    <tr>\n",
       "      <th>01/02/2020 12:00:00 AM</th>\n",
       "      <td>JAG2VG</td>\n",
       "      <td>FL</td>\n",
       "      <td>FRUEH</td>\n",
       "      <td>BAISLEY BLVD</td>\n",
       "      <td>0</td>\n",
       "      <td>WHITE</td>\n",
       "    </tr>\n",
       "  </tbody>\n",
       "</table>\n",
       "<p>31520 rows × 6 columns</p>\n",
       "</div>"
      ],
      "text/plain": [
       "                        Plate ID Registration State Vehicle Make  \\\n",
       "Issue Date                                                         \n",
       "01/02/2020 12:00:00 AM   EHM3610                 NY        MAZDA   \n",
       "01/02/2020 12:00:00 AM   AB64604                 CT        TOYOT   \n",
       "01/02/2020 12:00:00 AM  T713131C                 NY        NISSA   \n",
       "01/02/2020 12:00:00 AM   23015MJ                 NY         FORD   \n",
       "01/02/2020 12:00:00 AM   67493MN                 NY          HIN   \n",
       "...                          ...                ...          ...   \n",
       "01/02/2020 12:00:00 AM   HDY9971                 NY        JAGUA   \n",
       "01/02/2020 12:00:00 AM   HGV3053                 NY        HONDA   \n",
       "01/02/2020 12:00:00 AM   JBN3119                 NY        BUICK   \n",
       "01/02/2020 12:00:00 AM   JPB3007                 NY        ME/BE   \n",
       "01/02/2020 12:00:00 AM    JAG2VG                 FL        FRUEH   \n",
       "\n",
       "                                 Street Name  Date First Observed  \\\n",
       "Issue Date                                                          \n",
       "01/02/2020 12:00:00 AM   SB 2 Avenue @ E 122                    0   \n",
       "01/02/2020 12:00:00 AM   SB 2 Avenue @ E 115                    0   \n",
       "01/02/2020 12:00:00 AM  SB 2 Avenue @ E 30 S                    0   \n",
       "01/02/2020 12:00:00 AM  SB 2 Avenue @ E 72 S                    0   \n",
       "01/02/2020 12:00:00 AM  SB 2 Avenue @ E 96 S                    0   \n",
       "...                                      ...                  ...   \n",
       "01/02/2020 12:00:00 AM               8TH AVE                    0   \n",
       "01/02/2020 12:00:00 AM             LENOX AVE                    0   \n",
       "01/02/2020 12:00:00 AM       ST NICHOLAS AVE                    0   \n",
       "01/02/2020 12:00:00 AM       ST NICHOLAS AVE                    0   \n",
       "01/02/2020 12:00:00 AM          BAISLEY BLVD                    0   \n",
       "\n",
       "                       Vehicle Color  \n",
       "Issue Date                            \n",
       "01/02/2020 12:00:00 AM            BK  \n",
       "01/02/2020 12:00:00 AM           NaN  \n",
       "01/02/2020 12:00:00 AM            BK  \n",
       "01/02/2020 12:00:00 AM            WH  \n",
       "01/02/2020 12:00:00 AM            OR  \n",
       "...                              ...  \n",
       "01/02/2020 12:00:00 AM           GRY  \n",
       "01/02/2020 12:00:00 AM           NaN  \n",
       "01/02/2020 12:00:00 AM           BLK  \n",
       "01/02/2020 12:00:00 AM           GRY  \n",
       "01/02/2020 12:00:00 AM         WHITE  \n",
       "\n",
       "[31520 rows x 6 columns]"
      ]
     },
     "execution_count": 5,
     "metadata": {},
     "output_type": "execute_result"
    }
   ],
   "source": [
    "df.loc[\"01/02/2020 12:00:00 AM\"]"
   ]
  },
  {
   "cell_type": "markdown",
   "metadata": {},
   "source": [
    "![Graphical depiction of turning Issue Date from a column into the index](../../IMAGES/4-1.png)"
   ]
  },
  {
   "cell_type": "code",
   "execution_count": 9,
   "metadata": {},
   "outputs": [
    {
     "data": {
      "text/plain": [
       "Vehicle Make\n",
       "TOYOT    3829\n",
       "HONDA    3593\n",
       "FORD     3164\n",
       "Name: count, dtype: int64"
      ]
     },
     "execution_count": 9,
     "metadata": {},
     "output_type": "execute_result"
    }
   ],
   "source": [
    "df.loc['01/02/2020 12:00:00 AM', 'Vehicle Make'].value_counts().iloc[:3]"
   ]
  },
  {
   "cell_type": "code",
   "execution_count": 10,
   "metadata": {},
   "outputs": [],
   "source": [
    "df = df.reset_index().set_index('Vehicle Color')"
   ]
  },
  {
   "cell_type": "code",
   "execution_count": 17,
   "metadata": {},
   "outputs": [
    {
     "data": {
      "text/plain": [
       "Vehicle Make\n",
       "HONDA    39353\n",
       "Name: count, dtype: int64"
      ]
     },
     "execution_count": 17,
     "metadata": {},
     "output_type": "execute_result"
    }
   ],
   "source": [
    "df.loc[['BLUE', 'RED'], 'Vehicle Make'].value_counts().head(1)"
   ]
  },
  {
   "cell_type": "markdown",
   "metadata": {},
   "source": [
    "Beyond"
   ]
  },
  {
   "cell_type": "code",
   "execution_count": 18,
   "metadata": {},
   "outputs": [],
   "source": [
    "df = df.set_index('Issue Date').sort_index()"
   ]
  },
  {
   "cell_type": "code",
   "execution_count": 19,
   "metadata": {},
   "outputs": [
    {
     "data": {
      "text/plain": [
       "Vehicle Make\n",
       "FORD     38958\n",
       "TOYOT    37096\n",
       "HONDA    35962\n",
       "Name: count, dtype: int64"
      ]
     },
     "execution_count": 19,
     "metadata": {},
     "output_type": "execute_result"
    }
   ],
   "source": [
    "df.loc['01/02/2020 12:00:00 AM':'01/10/2020 23:59:59 PM', 'Vehicle Make'].value_counts().head(3)"
   ]
  },
  {
   "cell_type": "code",
   "execution_count": null,
   "metadata": {},
   "outputs": [],
   "source": [
    "df = df.reset_index()\n",
    "(\n",
    "    df.set_index('Issue Date')\n",
    "    .sort_index()\n",
    "    .loc[\n",
    "        '01/02/2020 12:00:00 AM':'01/10/2020 23:59:59 PM',\n",
    "        'Vehicle Make'\n",
    "    ]\n",
    "    .value_counts()\n",
    "    .head(3)\n",
    ")"
   ]
  },
  {
   "cell_type": "code",
   "execution_count": 27,
   "metadata": {},
   "outputs": [
    {
     "data": {
      "text/plain": [
       "Plate ID\n",
       "BLANKPLATE    8882\n",
       "Name: count, dtype: int64"
      ]
     },
     "execution_count": 27,
     "metadata": {},
     "output_type": "execute_result"
    }
   ],
   "source": [
    "df = df.reset_index()\n",
    "df['Plate ID'].value_counts().iloc[:1]"
   ]
  },
  {
   "cell_type": "code",
   "execution_count": 28,
   "metadata": {},
   "outputs": [
    {
     "data": {
      "text/plain": [
       "Plate ID\n",
       "2704819    IN\n",
       "2704819    IN\n",
       "2704819    IN\n",
       "2704819    IN\n",
       "2704819    IN\n",
       "           ..\n",
       "2704819    IN\n",
       "2704819    IN\n",
       "2704819    IN\n",
       "2704819    IN\n",
       "2704819    IN\n",
       "Name: Registration State, Length: 1535, dtype: object"
      ]
     },
     "execution_count": 28,
     "metadata": {},
     "output_type": "execute_result"
    }
   ],
   "source": [
    "df = df.set_index('Plate ID')\n",
    "df.loc['2704819', 'Registration State']"
   ]
  },
  {
   "cell_type": "code",
   "execution_count": 29,
   "metadata": {},
   "outputs": [
    {
     "data": {
      "text/plain": [
       "Street Name\n",
       "8th Ave              395\n",
       "Penn Plz             230\n",
       "7th Ave               92\n",
       "9th Ave               63\n",
       "Broadway              57\n",
       "                    ... \n",
       "6TH AVE                1\n",
       "W 54TH ST              1\n",
       "E 39th St              1\n",
       "N/S NW C/O W 30TH      1\n",
       "E 49th St              1\n",
       "Name: count, Length: 113, dtype: int64"
      ]
     },
     "execution_count": 29,
     "metadata": {},
     "output_type": "execute_result"
    }
   ],
   "source": [
    "df.loc['2704819', 'Street Name'].value_counts()"
   ]
  },
  {
   "cell_type": "code",
   "execution_count": 30,
   "metadata": {},
   "outputs": [
    {
     "data": {
      "text/plain": [
       "Date First Observed\n",
       "0           12371344\n",
       "20200311         887\n",
       "20200205         795\n",
       "20200212         793\n",
       "20200310         770\n",
       "              ...   \n",
       "20220412           1\n",
       "20191131           1\n",
       "20200813           1\n",
       "20160614           1\n",
       "20201230           1\n",
       "Name: count, Length: 465, dtype: int64"
      ]
     },
     "execution_count": 30,
     "metadata": {},
     "output_type": "execute_result"
    }
   ],
   "source": [
    "df = df.reset_index()\n",
    "df['Date First Observed'].value_counts()"
   ]
  },
  {
   "cell_type": "code",
   "execution_count": null,
   "metadata": {},
   "outputs": [],
   "source": []
  }
 ],
 "metadata": {
  "kernelspec": {
   "display_name": "Python 3",
   "language": "python",
   "name": "python3"
  },
  "language_info": {
   "codemirror_mode": {
    "name": "ipython",
    "version": 3
   },
   "file_extension": ".py",
   "mimetype": "text/x-python",
   "name": "python",
   "nbconvert_exporter": "python",
   "pygments_lexer": "ipython3",
   "version": "3.11.1"
  }
 },
 "nbformat": 4,
 "nbformat_minor": 2
}

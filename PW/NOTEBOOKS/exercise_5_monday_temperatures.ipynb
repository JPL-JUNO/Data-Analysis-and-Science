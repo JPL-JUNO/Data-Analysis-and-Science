{
 "cells": [
  {
   "cell_type": "code",
   "execution_count": 1,
   "metadata": {},
   "outputs": [
    {
     "name": "stdout",
     "output_type": "stream",
     "text": [
      "\n",
      "@File         : exercise_5_monday_temperatures.ipynb\n",
      "@Author(s)    : Stephen CUI\n",
      "@LastEditor(s): Stephen CUI\n",
      "@CreatedTime  : 2024-10-03 11:07:32\n",
      "@Email        : cuixuanstephen@gmail.com\n",
      "@Description  : 周一气温\n",
      "\n"
     ]
    }
   ],
   "source": [
    "print(\"\"\"\n",
    "@File         : exercise_5_monday_temperatures.ipynb\n",
    "@Author(s)    : Stephen CUI\n",
    "@LastEditor(s): Stephen CUI\n",
    "@CreatedTime  : 2024-10-03 11:07:32\n",
    "@Email        : cuixuanstephen@gmail.com\n",
    "@Description  : 周一气温\n",
    "\"\"\")"
   ]
  },
  {
   "cell_type": "code",
   "execution_count": 2,
   "metadata": {},
   "outputs": [],
   "source": [
    "import pandas as pd\n",
    "import numpy as np"
   ]
  },
  {
   "cell_type": "markdown",
   "metadata": {},
   "source": [
    "刚接触 Pandas 的新手通常认为系列索引必须是唯一的。毕竟，Python 字符串、列表或元组中的索引是唯一的，Python 字典中的键也是如此。"
   ]
  },
  {
   "cell_type": "markdown",
   "metadata": {},
   "source": [
    "但是 pandas 索引中的值可以重复，这使得使用相同索引检索值变得更容易。如果索引包含用户 ID、国家代码或电子邮件地址，我们可以使用它来检索与特定索引值相关的数据，否则需要更混乱、更长的掩码索引。"
   ]
  },
  {
   "cell_type": "markdown",
   "metadata": {},
   "source": [
    "> 应该使用条件判断得到的掩码索引来进行重复值的索引，而不是使用重复索引来进行。这会带来很多不必要的麻烦。尤其是在涉及到广播机制时。"
   ]
  },
  {
   "cell_type": "code",
   "execution_count": 4,
   "metadata": {},
   "outputs": [
    {
     "data": {
      "text/plain": [
       "Sun    17.711371\n",
       "Mon    21.100976\n",
       "Tue    14.951909\n",
       "Wed    18.954122\n",
       "Thu    19.203875\n",
       "Fri    22.704228\n",
       "Sat    21.073296\n",
       "Sun    21.776864\n",
       "Mon    16.730857\n",
       "Tue    19.351932\n",
       "Wed    23.919877\n",
       "Thu    27.467156\n",
       "Fri    13.704672\n",
       "Sat    27.569619\n",
       "Sun    26.729377\n",
       "Mon    23.906557\n",
       "Tue    21.322278\n",
       "Wed    18.430386\n",
       "Thu    27.290103\n",
       "Fri    29.801292\n",
       "Sat    29.008174\n",
       "Sun    26.575519\n",
       "Mon    21.786902\n",
       "Tue    13.958407\n",
       "Wed    19.977729\n",
       "Thu    23.282375\n",
       "Fri    13.558193\n",
       "Sat    21.975610\n",
       "dtype: float64"
      ]
     },
     "execution_count": 4,
     "metadata": {},
     "output_type": "execute_result"
    }
   ],
   "source": [
    "g = np.random.default_rng(0)\n",
    "g.normal(20, 5, 28)\n",
    "days = \"Sun Mon Tue Wed Thu Fri Sat\".split()\n",
    "s = pd.Series(g.normal(20, 5, 28), index=days * 4)\n",
    "s"
   ]
  },
  {
   "cell_type": "code",
   "execution_count": 5,
   "metadata": {},
   "outputs": [
    {
     "data": {
      "text/plain": [
       "Sun    22\n",
       "Mon    23\n",
       "Tue    14\n",
       "Wed    17\n",
       "Thu    18\n",
       "Fri    14\n",
       "Sat    29\n",
       "Sun    18\n",
       "Mon    22\n",
       "Tue    19\n",
       "Wed    28\n",
       "Thu    27\n",
       "Fri    23\n",
       "Sat     9\n",
       "Sun    20\n",
       "Mon    23\n",
       "Tue    25\n",
       "Wed    17\n",
       "Thu    29\n",
       "Fri    13\n",
       "Sat    17\n",
       "Sun    25\n",
       "Mon    20\n",
       "Tue    30\n",
       "Wed    21\n",
       "Thu    17\n",
       "Fri    18\n",
       "Sat    15\n",
       "dtype: int8"
      ]
     },
     "execution_count": 5,
     "metadata": {},
     "output_type": "execute_result"
    }
   ],
   "source": [
    "s = pd.Series(g.normal(20, 5, 28), index=days * 4).round().astype(np.int8)\n",
    "s"
   ]
  },
  {
   "cell_type": "markdown",
   "metadata": {},
   "source": [
    "通常，当我们通过 `loc` 从 `Series` 中检索值时，我们希望返回单个值。但如果索引重复，我们将返回多个值。而在 pandas 中，多个值会作为一个 `Series` 返回。"
   ]
  },
  {
   "cell_type": "code",
   "execution_count": 6,
   "metadata": {},
   "outputs": [
    {
     "data": {
      "text/plain": [
       "Mon    23\n",
       "Mon    22\n",
       "Mon    23\n",
       "Mon    20\n",
       "dtype: int8"
      ]
     },
     "execution_count": 6,
     "metadata": {},
     "output_type": "execute_result"
    }
   ],
   "source": [
    "s.loc['Mon']"
   ]
  },
  {
   "cell_type": "code",
   "execution_count": 7,
   "metadata": {},
   "outputs": [
    {
     "data": {
      "text/plain": [
       "22.0"
      ]
     },
     "execution_count": 7,
     "metadata": {},
     "output_type": "execute_result"
    }
   ],
   "source": [
    "s.loc['Mon'].mean()"
   ]
  },
  {
   "cell_type": "markdown",
   "metadata": {},
   "source": [
    "Beyond"
   ]
  },
  {
   "cell_type": "code",
   "execution_count": 9,
   "metadata": {},
   "outputs": [
    {
     "data": {
      "text/plain": [
       "19.375"
      ]
     },
     "execution_count": 9,
     "metadata": {},
     "output_type": "execute_result"
    }
   ],
   "source": [
    "s[['Sun', 'Sat']].mean()"
   ]
  },
  {
   "cell_type": "code",
   "execution_count": 10,
   "metadata": {},
   "outputs": [
    {
     "data": {
      "text/plain": [
       "Wed    17\n",
       "Sat    29\n",
       "Mon    22\n",
       "Wed    28\n",
       "Sun    20\n",
       "Mon    23\n",
       "Thu    29\n",
       "Sat    17\n",
       "Sun    25\n",
       "Tue    30\n",
       "dtype: int8"
      ]
     },
     "execution_count": 10,
     "metadata": {},
     "output_type": "execute_result"
    }
   ],
   "source": [
    "s[s.diff() > 2]"
   ]
  },
  {
   "cell_type": "code",
   "execution_count": 12,
   "metadata": {},
   "outputs": [
    {
     "data": {
      "text/plain": [
       "17    4\n",
       "23    3\n",
       "Name: count, dtype: int64"
      ]
     },
     "execution_count": 12,
     "metadata": {},
     "output_type": "execute_result"
    }
   ],
   "source": [
    "s.value_counts().iloc[:2]"
   ]
  },
  {
   "cell_type": "code",
   "execution_count": null,
   "metadata": {},
   "outputs": [],
   "source": []
  }
 ],
 "metadata": {
  "kernelspec": {
   "display_name": "Python 3",
   "language": "python",
   "name": "python3"
  },
  "language_info": {
   "codemirror_mode": {
    "name": "ipython",
    "version": 3
   },
   "file_extension": ".py",
   "mimetype": "text/x-python",
   "name": "python",
   "nbconvert_exporter": "python",
   "pygments_lexer": "ipython3",
   "version": "3.11.1"
  }
 },
 "nbformat": 4,
 "nbformat_minor": 2
}

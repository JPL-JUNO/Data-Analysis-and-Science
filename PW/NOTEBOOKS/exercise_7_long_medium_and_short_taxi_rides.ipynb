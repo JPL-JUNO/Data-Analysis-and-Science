{
 "cells": [
  {
   "cell_type": "code",
   "execution_count": 1,
   "metadata": {},
   "outputs": [
    {
     "name": "stdout",
     "output_type": "stream",
     "text": [
      "\n",
      "@File         : exercise_7_long_medium_and_short_taxi_rides.ipynb\n",
      "@Author(s)    : Stephen CUI\n",
      "@LastEditor(s): Stephen CUI\n",
      "@CreatedTime  : 2024-10-03 12:11:01\n",
      "@Email        : cuixuanstephen@gmail.com\n",
      "@Description  : 长途、中程和短途出租车行程\n",
      "\n"
     ]
    }
   ],
   "source": [
    "print(\"\"\"\n",
    "@File         : exercise_7_long_medium_and_short_taxi_rides.ipynb\n",
    "@Author(s)    : Stephen CUI\n",
    "@LastEditor(s): Stephen CUI\n",
    "@CreatedTime  : 2024-10-03 12:11:01\n",
    "@Email        : cuixuanstephen@gmail.com\n",
    "@Description  : 长途、中程和短途出租车行程\n",
    "\"\"\")"
   ]
  },
  {
   "cell_type": "code",
   "execution_count": 2,
   "metadata": {},
   "outputs": [],
   "source": [
    "import pandas as pd\n",
    "import numpy as np\n",
    "\n",
    "s = pd.read_csv(\"../DATA/taxi-distance.csv\", header=None).squeeze()"
   ]
  },
  {
   "cell_type": "markdown",
   "metadata": {},
   "source": [
    "结合使用比较和赋值："
   ]
  },
  {
   "cell_type": "code",
   "execution_count": 5,
   "metadata": {},
   "outputs": [
    {
     "data": {
      "text/plain": [
       "0\n",
       "short     5890\n",
       "medium    3402\n",
       "long       707\n",
       "Name: count, dtype: int64"
      ]
     },
     "execution_count": 5,
     "metadata": {},
     "output_type": "execute_result"
    }
   ],
   "source": [
    "categories = s.astype(str)\n",
    "categories.loc[:] = 'medium'\n",
    "categories.loc[s <= 2] = 'short'\n",
    "categories.loc[s > 10] = 'long'\n",
    "categories.value_counts()"
   ]
  },
  {
   "cell_type": "markdown",
   "metadata": {},
   "source": [
    "> `pd.cut` 不是 Series 方法，而是 `pd` 中的一个顶层命名空间中的函数。"
   ]
  },
  {
   "cell_type": "markdown",
   "metadata": {},
   "source": [
    "我们将向其传递几个参数：\n",
    "- Series\n",
    "- `bins` 参数\n",
    "- `labels` 参数\n",
    "\n",
    "请注意，左侧的 `bin` 边界不包括该 `bin`，而右侧的 `bin` 边界则包括该 `bin`。在换句话说，通过指定中等大小的箱子在 2 到 10 之间，这意味着 > 2 但 <= 10。这意味着第一个边界需要小于s 中的最小值。但是，我们可以通过传递 `include_lowest=True` 关键字参数来解决这个问题，这可以确保传递给 bins 的最低值包含在第一个 bin 中。"
   ]
  },
  {
   "cell_type": "code",
   "execution_count": 6,
   "metadata": {},
   "outputs": [
    {
     "data": {
      "text/plain": [
       "0        short\n",
       "1        short\n",
       "2        short\n",
       "3       medium\n",
       "4        short\n",
       "         ...  \n",
       "9994    medium\n",
       "9995    medium\n",
       "9996    medium\n",
       "9997     short\n",
       "9998    medium\n",
       "Name: 0, Length: 9999, dtype: category\n",
       "Categories (3, object): ['short' < 'medium' < 'long']"
      ]
     },
     "execution_count": 6,
     "metadata": {},
     "output_type": "execute_result"
    }
   ],
   "source": [
    "pd.cut(\n",
    "    s, bins=[0, 2, 10, s.max()], include_lowest=True, labels=[\"short\", \"medium\", \"long\"]\n",
    ")"
   ]
  },
  {
   "cell_type": "code",
   "execution_count": 7,
   "metadata": {},
   "outputs": [
    {
     "data": {
      "text/plain": [
       "0\n",
       "short     5890\n",
       "medium    3402\n",
       "long       707\n",
       "Name: count, dtype: int64"
      ]
     },
     "execution_count": 7,
     "metadata": {},
     "output_type": "execute_result"
    }
   ],
   "source": [
    "pd.cut(\n",
    "    s, bins=[0, 2, 10, s.max()], include_lowest=True, labels=[\"short\", \"medium\", \"long\"]\n",
    ").value_counts()"
   ]
  },
  {
   "cell_type": "markdown",
   "metadata": {},
   "source": [
    "Beyond"
   ]
  },
  {
   "cell_type": "code",
   "execution_count": 8,
   "metadata": {},
   "outputs": [
    {
     "data": {
      "text/plain": [
       "count    9999.000000\n",
       "mean        3.158511\n",
       "std         4.037516\n",
       "min         0.000000\n",
       "25%         1.000000\n",
       "50%         1.700000\n",
       "75%         3.300000\n",
       "max        64.600000\n",
       "Name: 0, dtype: float64"
      ]
     },
     "execution_count": 8,
     "metadata": {},
     "output_type": "execute_result"
    }
   ],
   "source": [
    "s.describe()"
   ]
  },
  {
   "cell_type": "markdown",
   "metadata": {},
   "source": [
    "由于平均值明显高于中位数，因此我们的数据集中似乎存在一些非常长的行程，从而拉高了平均值。果然，我们看到标准差是 4，但我们至少有一次行程长度 > 64 英里。"
   ]
  },
  {
   "cell_type": "code",
   "execution_count": 9,
   "metadata": {},
   "outputs": [
    {
     "data": {
      "text/plain": [
       "0\n",
       "short     4333\n",
       "medium    2387\n",
       "long       487\n",
       "Name: count, dtype: int64"
      ]
     },
     "execution_count": 9,
     "metadata": {},
     "output_type": "execute_result"
    }
   ],
   "source": [
    "passenger_count = pd.read_csv(\"../DATA/taxi-passenger-count.csv\", header=None).squeeze()\n",
    "pd.cut(\n",
    "    s[passenger_count == 1],\n",
    "    bins=[s.min(), 2, 10, s.max()],\n",
    "    include_lowest=True,\n",
    "    labels=[\"short\", \"medium\", \"long\"],\n",
    ").value_counts()"
   ]
  },
  {
   "cell_type": "markdown",
   "metadata": {},
   "source": [
    "> 如果 s.min() 大于 2 怎么办？"
   ]
  },
  {
   "cell_type": "code",
   "execution_count": 10,
   "metadata": {},
   "outputs": [
    {
     "data": {
      "text/plain": [
       "0\n",
       "short     7179\n",
       "medium      26\n",
       "long         2\n",
       "Name: count, dtype: int64"
      ]
     },
     "execution_count": 10,
     "metadata": {},
     "output_type": "execute_result"
    }
   ],
   "source": [
    "pd.cut(\n",
    "    s[passenger_count == 1], bins=3, labels=[\"short\", \"medium\", \"long\"]\n",
    ").value_counts()"
   ]
  },
  {
   "cell_type": "markdown",
   "metadata": {},
   "source": [
    "`pd.cut` 获取从 `s.min()` 到 `s.max()` 的间隔，将其分为三个相等的部分。"
   ]
  }
 ],
 "metadata": {
  "kernelspec": {
   "display_name": "Python 3",
   "language": "python",
   "name": "python3"
  },
  "language_info": {
   "codemirror_mode": {
    "name": "ipython",
    "version": 3
   },
   "file_extension": ".py",
   "mimetype": "text/x-python",
   "name": "python",
   "nbconvert_exporter": "python",
   "pygments_lexer": "ipython3",
   "version": "3.11.1"
  }
 },
 "nbformat": 4,
 "nbformat_minor": 2
}

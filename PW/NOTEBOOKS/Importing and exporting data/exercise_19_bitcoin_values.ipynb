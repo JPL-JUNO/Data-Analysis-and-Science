{
 "cells": [
  {
   "cell_type": "markdown",
   "metadata": {},
   "source": [
    "```python\n",
    "import requests\n",
    "from io import StringIO\n",
    "\n",
    "r = requests.get(\"https://data_for_you.com/data.csv\")\n",
    "s = StringIO(r.content.decode())\n",
    "df = pd.read_csv(s)\n",
    "```"
   ]
  },
  {
   "cell_type": "code",
   "execution_count": 1,
   "metadata": {},
   "outputs": [],
   "source": [
    "import pandas as pd\n",
    "\n",
    "df = pd.read_csv(\n",
    "    \"https://api.blockchain.info/charts/market-price?format=csv\",\n",
    "    header=None,\n",
    "    names=[\"date\", \"value\"],\n",
    ")"
   ]
  },
  {
   "cell_type": "code",
   "execution_count": 2,
   "metadata": {},
   "outputs": [
    {
     "data": {
      "text/html": [
       "<div>\n",
       "<style scoped>\n",
       "    .dataframe tbody tr th:only-of-type {\n",
       "        vertical-align: middle;\n",
       "    }\n",
       "\n",
       "    .dataframe tbody tr th {\n",
       "        vertical-align: top;\n",
       "    }\n",
       "\n",
       "    .dataframe thead th {\n",
       "        text-align: right;\n",
       "    }\n",
       "</style>\n",
       "<table border=\"1\" class=\"dataframe\">\n",
       "  <thead>\n",
       "    <tr style=\"text-align: right;\">\n",
       "      <th></th>\n",
       "      <th>date</th>\n",
       "      <th>value</th>\n",
       "    </tr>\n",
       "  </thead>\n",
       "  <tbody>\n",
       "    <tr>\n",
       "      <th>0</th>\n",
       "      <td>2023-10-06 00:00:00</td>\n",
       "      <td>27416.69</td>\n",
       "    </tr>\n",
       "    <tr>\n",
       "      <th>1</th>\n",
       "      <td>2023-10-07 00:00:00</td>\n",
       "      <td>27946.61</td>\n",
       "    </tr>\n",
       "    <tr>\n",
       "      <th>2</th>\n",
       "      <td>2023-10-08 00:00:00</td>\n",
       "      <td>27973.26</td>\n",
       "    </tr>\n",
       "    <tr>\n",
       "      <th>3</th>\n",
       "      <td>2023-10-09 00:00:00</td>\n",
       "      <td>27937.18</td>\n",
       "    </tr>\n",
       "    <tr>\n",
       "      <th>4</th>\n",
       "      <td>2023-10-10 00:00:00</td>\n",
       "      <td>27581.42</td>\n",
       "    </tr>\n",
       "  </tbody>\n",
       "</table>\n",
       "</div>"
      ],
      "text/plain": [
       "                  date     value\n",
       "0  2023-10-06 00:00:00  27416.69\n",
       "1  2023-10-07 00:00:00  27946.61\n",
       "2  2023-10-08 00:00:00  27973.26\n",
       "3  2023-10-09 00:00:00  27937.18\n",
       "4  2023-10-10 00:00:00  27581.42"
      ]
     },
     "execution_count": 2,
     "metadata": {},
     "output_type": "execute_result"
    }
   ],
   "source": [
    "df.head()"
   ]
  },
  {
   "cell_type": "code",
   "execution_count": 4,
   "metadata": {},
   "outputs": [
    {
     "data": {
      "text/plain": [
       "62079.73"
      ]
     },
     "execution_count": 4,
     "metadata": {},
     "output_type": "execute_result"
    }
   ],
   "source": [
    "df.iloc[-1].value"
   ]
  },
  {
   "cell_type": "code",
   "execution_count": 5,
   "metadata": {},
   "outputs": [
    {
     "data": {
      "text/plain": [
       "62079.73"
      ]
     },
     "execution_count": 5,
     "metadata": {},
     "output_type": "execute_result"
    }
   ],
   "source": [
    "df.iloc[-1, 1]"
   ]
  },
  {
   "cell_type": "code",
   "execution_count": 6,
   "metadata": {},
   "outputs": [
    {
     "data": {
      "text/html": [
       "<div>\n",
       "<style scoped>\n",
       "    .dataframe tbody tr th:only-of-type {\n",
       "        vertical-align: middle;\n",
       "    }\n",
       "\n",
       "    .dataframe tbody tr th {\n",
       "        vertical-align: top;\n",
       "    }\n",
       "\n",
       "    .dataframe thead th {\n",
       "        text-align: right;\n",
       "    }\n",
       "</style>\n",
       "<table border=\"1\" class=\"dataframe\">\n",
       "  <thead>\n",
       "    <tr style=\"text-align: right;\">\n",
       "      <th></th>\n",
       "      <th>date</th>\n",
       "      <th>value</th>\n",
       "    </tr>\n",
       "  </thead>\n",
       "  <tbody>\n",
       "    <tr>\n",
       "      <th>160</th>\n",
       "      <td>2024-03-14 00:00:00</td>\n",
       "      <td>73094.37</td>\n",
       "    </tr>\n",
       "  </tbody>\n",
       "</table>\n",
       "</div>"
      ],
      "text/plain": [
       "                    date     value\n",
       "160  2024-03-14 00:00:00  73094.37"
      ]
     },
     "execution_count": 6,
     "metadata": {},
     "output_type": "execute_result"
    }
   ],
   "source": [
    "df.loc[df[\"value\"] == df[\"value\"].max()]"
   ]
  },
  {
   "cell_type": "code",
   "execution_count": 7,
   "metadata": {},
   "outputs": [
    {
     "data": {
      "text/html": [
       "<div>\n",
       "<style scoped>\n",
       "    .dataframe tbody tr th:only-of-type {\n",
       "        vertical-align: middle;\n",
       "    }\n",
       "\n",
       "    .dataframe tbody tr th {\n",
       "        vertical-align: top;\n",
       "    }\n",
       "\n",
       "    .dataframe thead th {\n",
       "        text-align: right;\n",
       "    }\n",
       "</style>\n",
       "<table border=\"1\" class=\"dataframe\">\n",
       "  <thead>\n",
       "    <tr style=\"text-align: right;\">\n",
       "      <th></th>\n",
       "      <th>date</th>\n",
       "      <th>value</th>\n",
       "    </tr>\n",
       "  </thead>\n",
       "  <tbody>\n",
       "    <tr>\n",
       "      <th>7</th>\n",
       "      <td>2023-10-13 00:00:00</td>\n",
       "      <td>26758.66</td>\n",
       "    </tr>\n",
       "  </tbody>\n",
       "</table>\n",
       "</div>"
      ],
      "text/plain": [
       "                  date     value\n",
       "7  2023-10-13 00:00:00  26758.66"
      ]
     },
     "execution_count": 7,
     "metadata": {},
     "output_type": "execute_result"
    }
   ],
   "source": [
    "df.loc[df[\"value\"] == df[\"value\"].min()]"
   ]
  },
  {
   "cell_type": "code",
   "execution_count": 10,
   "metadata": {},
   "outputs": [
    {
     "data": {
      "text/html": [
       "<div>\n",
       "<style scoped>\n",
       "    .dataframe tbody tr th:only-of-type {\n",
       "        vertical-align: middle;\n",
       "    }\n",
       "\n",
       "    .dataframe tbody tr th {\n",
       "        vertical-align: top;\n",
       "    }\n",
       "\n",
       "    .dataframe thead th {\n",
       "        text-align: right;\n",
       "    }\n",
       "</style>\n",
       "<table border=\"1\" class=\"dataframe\">\n",
       "  <thead>\n",
       "    <tr style=\"text-align: right;\">\n",
       "      <th></th>\n",
       "      <th>date</th>\n",
       "      <th>value</th>\n",
       "    </tr>\n",
       "  </thead>\n",
       "  <tbody>\n",
       "    <tr>\n",
       "      <th>160</th>\n",
       "      <td>2024-03-14 00:00:00</td>\n",
       "      <td>73094.37</td>\n",
       "    </tr>\n",
       "  </tbody>\n",
       "</table>\n",
       "</div>"
      ],
      "text/plain": [
       "                    date     value\n",
       "160  2024-03-14 00:00:00  73094.37"
      ]
     },
     "execution_count": 10,
     "metadata": {},
     "output_type": "execute_result"
    }
   ],
   "source": [
    "df.iloc[[df['value'].argmax()]]"
   ]
  },
  {
   "cell_type": "code",
   "execution_count": 11,
   "metadata": {},
   "outputs": [
    {
     "data": {
      "text/html": [
       "<div>\n",
       "<style scoped>\n",
       "    .dataframe tbody tr th:only-of-type {\n",
       "        vertical-align: middle;\n",
       "    }\n",
       "\n",
       "    .dataframe tbody tr th {\n",
       "        vertical-align: top;\n",
       "    }\n",
       "\n",
       "    .dataframe thead th {\n",
       "        text-align: right;\n",
       "    }\n",
       "</style>\n",
       "<table border=\"1\" class=\"dataframe\">\n",
       "  <thead>\n",
       "    <tr style=\"text-align: right;\">\n",
       "      <th></th>\n",
       "      <th>date</th>\n",
       "      <th>value</th>\n",
       "    </tr>\n",
       "  </thead>\n",
       "  <tbody>\n",
       "    <tr>\n",
       "      <th>7</th>\n",
       "      <td>2023-10-13 00:00:00</td>\n",
       "      <td>26758.66</td>\n",
       "    </tr>\n",
       "  </tbody>\n",
       "</table>\n",
       "</div>"
      ],
      "text/plain": [
       "                  date     value\n",
       "7  2023-10-13 00:00:00  26758.66"
      ]
     },
     "execution_count": 11,
     "metadata": {},
     "output_type": "execute_result"
    }
   ],
   "source": [
    "df.iloc[[df['value'].argmin()]]"
   ]
  },
  {
   "cell_type": "code",
   "execution_count": 16,
   "metadata": {},
   "outputs": [
    {
     "data": {
      "text/plain": [
       "value    2024-03-14 00:00:00\n",
       "dtype: object"
      ]
     },
     "execution_count": 16,
     "metadata": {},
     "output_type": "execute_result"
    }
   ],
   "source": [
    "df.set_index('date').idxmax()"
   ]
  },
  {
   "cell_type": "code",
   "execution_count": 17,
   "metadata": {},
   "outputs": [
    {
     "data": {
      "text/plain": [
       "value    2023-10-13 00:00:00\n",
       "dtype: object"
      ]
     },
     "execution_count": 17,
     "metadata": {},
     "output_type": "execute_result"
    }
   ],
   "source": [
    "df.set_index('date').idxmin()"
   ]
  },
  {
   "cell_type": "code",
   "execution_count": 19,
   "metadata": {},
   "outputs": [
    {
     "data": {
      "text/html": [
       "<div>\n",
       "<style scoped>\n",
       "    .dataframe tbody tr th:only-of-type {\n",
       "        vertical-align: middle;\n",
       "    }\n",
       "\n",
       "    .dataframe tbody tr th {\n",
       "        vertical-align: top;\n",
       "    }\n",
       "\n",
       "    .dataframe thead th {\n",
       "        text-align: right;\n",
       "    }\n",
       "</style>\n",
       "<table border=\"1\" class=\"dataframe\">\n",
       "  <thead>\n",
       "    <tr style=\"text-align: right;\">\n",
       "      <th></th>\n",
       "      <th>value</th>\n",
       "    </tr>\n",
       "    <tr>\n",
       "      <th>date</th>\n",
       "      <th></th>\n",
       "    </tr>\n",
       "  </thead>\n",
       "  <tbody>\n",
       "    <tr>\n",
       "      <th>2023-10-13 00:00:00</th>\n",
       "      <td>26758.66</td>\n",
       "    </tr>\n",
       "  </tbody>\n",
       "</table>\n",
       "</div>"
      ],
      "text/plain": [
       "                        value\n",
       "date                         \n",
       "2023-10-13 00:00:00  26758.66"
      ]
     },
     "execution_count": 19,
     "metadata": {},
     "output_type": "execute_result"
    }
   ],
   "source": [
    "df.set_index('date').loc[df.set_index('date').idxmin()]"
   ]
  },
  {
   "cell_type": "markdown",
   "metadata": {},
   "source": [
    "![Selecting the minimum value from a data frame with a mask index](../../IMAGES/3-10.png)"
   ]
  },
  {
   "cell_type": "code",
   "execution_count": 21,
   "metadata": {},
   "outputs": [
    {
     "data": {
      "text/html": [
       "<div>\n",
       "<style scoped>\n",
       "    .dataframe tbody tr th:only-of-type {\n",
       "        vertical-align: middle;\n",
       "    }\n",
       "\n",
       "    .dataframe tbody tr th {\n",
       "        vertical-align: top;\n",
       "    }\n",
       "\n",
       "    .dataframe thead th {\n",
       "        text-align: right;\n",
       "    }\n",
       "</style>\n",
       "<table border=\"1\" class=\"dataframe\">\n",
       "  <thead>\n",
       "    <tr style=\"text-align: right;\">\n",
       "      <th></th>\n",
       "      <th>value</th>\n",
       "    </tr>\n",
       "  </thead>\n",
       "  <tbody>\n",
       "    <tr>\n",
       "      <th>idxmin</th>\n",
       "      <td>2023-10-13 00:00:00</td>\n",
       "    </tr>\n",
       "    <tr>\n",
       "      <th>idxmax</th>\n",
       "      <td>2024-03-14 00:00:00</td>\n",
       "    </tr>\n",
       "  </tbody>\n",
       "</table>\n",
       "</div>"
      ],
      "text/plain": [
       "                      value\n",
       "idxmin  2023-10-13 00:00:00\n",
       "idxmax  2024-03-14 00:00:00"
      ]
     },
     "execution_count": 21,
     "metadata": {},
     "output_type": "execute_result"
    }
   ],
   "source": [
    "df.set_index('date').agg(['idxmin', 'idxmax'])"
   ]
  },
  {
   "cell_type": "markdown",
   "metadata": {},
   "source": [
    "Beyond"
   ]
  },
  {
   "cell_type": "code",
   "execution_count": 23,
   "metadata": {},
   "outputs": [
    {
     "data": {
      "text/plain": [
       "62079.73"
      ]
     },
     "execution_count": 23,
     "metadata": {},
     "output_type": "execute_result"
    }
   ],
   "source": [
    "pd.read_csv('https://api.blockchain.info/charts/market-price?format=csv', header=None,\n",
    "            names=['date', 'value']).iloc[-1, 1]"
   ]
  },
  {
   "cell_type": "code",
   "execution_count": 24,
   "metadata": {},
   "outputs": [
    {
     "data": {
      "text/html": [
       "<div>\n",
       "<style scoped>\n",
       "    .dataframe tbody tr th:only-of-type {\n",
       "        vertical-align: middle;\n",
       "    }\n",
       "\n",
       "    .dataframe tbody tr th {\n",
       "        vertical-align: top;\n",
       "    }\n",
       "\n",
       "    .dataframe thead th {\n",
       "        text-align: right;\n",
       "    }\n",
       "</style>\n",
       "<table border=\"1\" class=\"dataframe\">\n",
       "  <thead>\n",
       "    <tr style=\"text-align: right;\">\n",
       "      <th></th>\n",
       "      <th>Open</th>\n",
       "      <th>High</th>\n",
       "      <th>Low</th>\n",
       "      <th>Close Close price adjusted for splits.</th>\n",
       "      <th>Adj Close Adjusted close price adjusted for splits and dividend and/or capital gain distributions.</th>\n",
       "      <th>Volume</th>\n",
       "    </tr>\n",
       "    <tr>\n",
       "      <th>Date</th>\n",
       "      <th></th>\n",
       "      <th></th>\n",
       "      <th></th>\n",
       "      <th></th>\n",
       "      <th></th>\n",
       "      <th></th>\n",
       "    </tr>\n",
       "  </thead>\n",
       "  <tbody>\n",
       "    <tr>\n",
       "      <th>Oct 4, 2024</th>\n",
       "      <td>5737.48</td>\n",
       "      <td>5753.21</td>\n",
       "      <td>5702.83</td>\n",
       "      <td>5751.07</td>\n",
       "      <td>5751.07</td>\n",
       "      <td>3479400000</td>\n",
       "    </tr>\n",
       "    <tr>\n",
       "      <th>Oct 3, 2024</th>\n",
       "      <td>5698.19</td>\n",
       "      <td>5718.78</td>\n",
       "      <td>5677.37</td>\n",
       "      <td>5699.94</td>\n",
       "      <td>5699.94</td>\n",
       "      <td>3597450000</td>\n",
       "    </tr>\n",
       "    <tr>\n",
       "      <th>Oct 2, 2024</th>\n",
       "      <td>5698.14</td>\n",
       "      <td>5719.63</td>\n",
       "      <td>5674.00</td>\n",
       "      <td>5709.54</td>\n",
       "      <td>5709.54</td>\n",
       "      <td>3829050000</td>\n",
       "    </tr>\n",
       "    <tr>\n",
       "      <th>Oct 1, 2024</th>\n",
       "      <td>5757.73</td>\n",
       "      <td>5757.73</td>\n",
       "      <td>5681.28</td>\n",
       "      <td>5708.75</td>\n",
       "      <td>5708.75</td>\n",
       "      <td>4025180000</td>\n",
       "    </tr>\n",
       "    <tr>\n",
       "      <th>Sep 30, 2024</th>\n",
       "      <td>5726.52</td>\n",
       "      <td>5765.14</td>\n",
       "      <td>5703.53</td>\n",
       "      <td>5762.48</td>\n",
       "      <td>5762.48</td>\n",
       "      <td>4425730000</td>\n",
       "    </tr>\n",
       "    <tr>\n",
       "      <th>...</th>\n",
       "      <td>...</td>\n",
       "      <td>...</td>\n",
       "      <td>...</td>\n",
       "      <td>...</td>\n",
       "      <td>...</td>\n",
       "      <td>...</td>\n",
       "    </tr>\n",
       "    <tr>\n",
       "      <th>Oct 12, 2023</th>\n",
       "      <td>4380.94</td>\n",
       "      <td>4385.85</td>\n",
       "      <td>4325.43</td>\n",
       "      <td>4349.61</td>\n",
       "      <td>4349.61</td>\n",
       "      <td>3713140000</td>\n",
       "    </tr>\n",
       "    <tr>\n",
       "      <th>Oct 11, 2023</th>\n",
       "      <td>4366.59</td>\n",
       "      <td>4378.64</td>\n",
       "      <td>4345.34</td>\n",
       "      <td>4376.95</td>\n",
       "      <td>4376.95</td>\n",
       "      <td>3601660000</td>\n",
       "    </tr>\n",
       "    <tr>\n",
       "      <th>Oct 10, 2023</th>\n",
       "      <td>4339.75</td>\n",
       "      <td>4385.46</td>\n",
       "      <td>4339.64</td>\n",
       "      <td>4358.24</td>\n",
       "      <td>4358.24</td>\n",
       "      <td>3520240000</td>\n",
       "    </tr>\n",
       "    <tr>\n",
       "      <th>Oct 9, 2023</th>\n",
       "      <td>4289.02</td>\n",
       "      <td>4341.73</td>\n",
       "      <td>4283.79</td>\n",
       "      <td>4335.66</td>\n",
       "      <td>4335.66</td>\n",
       "      <td>3174630000</td>\n",
       "    </tr>\n",
       "    <tr>\n",
       "      <th>Oct 6, 2023</th>\n",
       "      <td>4234.79</td>\n",
       "      <td>4324.10</td>\n",
       "      <td>4219.55</td>\n",
       "      <td>4308.50</td>\n",
       "      <td>4308.50</td>\n",
       "      <td>3902030000</td>\n",
       "    </tr>\n",
       "  </tbody>\n",
       "</table>\n",
       "<p>251 rows × 6 columns</p>\n",
       "</div>"
      ],
      "text/plain": [
       "                 Open     High      Low  \\\n",
       "Date                                      \n",
       "Oct 4, 2024   5737.48  5753.21  5702.83   \n",
       "Oct 3, 2024   5698.19  5718.78  5677.37   \n",
       "Oct 2, 2024   5698.14  5719.63  5674.00   \n",
       "Oct 1, 2024   5757.73  5757.73  5681.28   \n",
       "Sep 30, 2024  5726.52  5765.14  5703.53   \n",
       "...               ...      ...      ...   \n",
       "Oct 12, 2023  4380.94  4385.85  4325.43   \n",
       "Oct 11, 2023  4366.59  4378.64  4345.34   \n",
       "Oct 10, 2023  4339.75  4385.46  4339.64   \n",
       "Oct 9, 2023   4289.02  4341.73  4283.79   \n",
       "Oct 6, 2023   4234.79  4324.10  4219.55   \n",
       "\n",
       "              Close Close price adjusted for splits.  \\\n",
       "Date                                                   \n",
       "Oct 4, 2024                                  5751.07   \n",
       "Oct 3, 2024                                  5699.94   \n",
       "Oct 2, 2024                                  5709.54   \n",
       "Oct 1, 2024                                  5708.75   \n",
       "Sep 30, 2024                                 5762.48   \n",
       "...                                              ...   \n",
       "Oct 12, 2023                                 4349.61   \n",
       "Oct 11, 2023                                 4376.95   \n",
       "Oct 10, 2023                                 4358.24   \n",
       "Oct 9, 2023                                  4335.66   \n",
       "Oct 6, 2023                                  4308.50   \n",
       "\n",
       "              Adj Close Adjusted close price adjusted for splits and dividend and/or capital gain distributions.  \\\n",
       "Date                                                                                                               \n",
       "Oct 4, 2024                                             5751.07                                                    \n",
       "Oct 3, 2024                                             5699.94                                                    \n",
       "Oct 2, 2024                                             5709.54                                                    \n",
       "Oct 1, 2024                                             5708.75                                                    \n",
       "Sep 30, 2024                                            5762.48                                                    \n",
       "...                                                         ...                                                    \n",
       "Oct 12, 2023                                            4349.61                                                    \n",
       "Oct 11, 2023                                            4376.95                                                    \n",
       "Oct 10, 2023                                            4358.24                                                    \n",
       "Oct 9, 2023                                             4335.66                                                    \n",
       "Oct 6, 2023                                             4308.50                                                    \n",
       "\n",
       "                  Volume  \n",
       "Date                      \n",
       "Oct 4, 2024   3479400000  \n",
       "Oct 3, 2024   3597450000  \n",
       "Oct 2, 2024   3829050000  \n",
       "Oct 1, 2024   4025180000  \n",
       "Sep 30, 2024  4425730000  \n",
       "...                  ...  \n",
       "Oct 12, 2023  3713140000  \n",
       "Oct 11, 2023  3601660000  \n",
       "Oct 10, 2023  3520240000  \n",
       "Oct 9, 2023   3174630000  \n",
       "Oct 6, 2023   3902030000  \n",
       "\n",
       "[251 rows x 6 columns]"
      ]
     },
     "execution_count": 24,
     "metadata": {},
     "output_type": "execute_result"
    }
   ],
   "source": [
    "import requests\n",
    "from io import StringIO\n",
    "\n",
    "r = requests.get('https://finance.yahoo.com/quote/%5EGSPC/history?p=%5EGSPC', \n",
    "                 headers={'User-Agent': 'Mozilla/5.0'})\n",
    "df = pd.read_html(StringIO(r.content.decode()))[0].set_index('Date').iloc[:-1]\n",
    "df"
   ]
  }
 ],
 "metadata": {
  "kernelspec": {
   "display_name": "Python 3",
   "language": "python",
   "name": "python3"
  },
  "language_info": {
   "codemirror_mode": {
    "name": "ipython",
    "version": 3
   },
   "file_extension": ".py",
   "mimetype": "text/x-python",
   "name": "python",
   "nbconvert_exporter": "python",
   "pygments_lexer": "ipython3",
   "version": "3.11.1"
  }
 },
 "nbformat": 4,
 "nbformat_minor": 2
}

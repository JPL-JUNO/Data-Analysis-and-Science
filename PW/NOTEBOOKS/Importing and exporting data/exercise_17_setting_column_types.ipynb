{
 "cells": [
  {
   "cell_type": "code",
   "execution_count": 1,
   "metadata": {},
   "outputs": [],
   "source": [
    "import pandas as pd\n",
    "import numpy as np\n",
    "\n",
    "df = pd.read_csv(\n",
    "    \"../../DATA/nyc_taxi_2020-01.csv\",\n",
    "    usecols=[\"passenger_count\", \"total_amount\", \"payment_type\"],\n",
    "    dtype={\n",
    "        \"passenger_count\": np.float32,\n",
    "        \"total_amount\": np.float32,\n",
    "        \"payment_type\": np.float32,\n",
    "    },\n",
    ")"
   ]
  },
  {
   "cell_type": "code",
   "execution_count": 2,
   "metadata": {},
   "outputs": [
    {
     "data": {
      "text/plain": [
       "passenger_count    6339567\n",
       "payment_type       6339567\n",
       "total_amount       6405008\n",
       "dtype: int64"
      ]
     },
     "execution_count": 2,
     "metadata": {},
     "output_type": "execute_result"
    }
   ],
   "source": [
    "df.count()"
   ]
  },
  {
   "cell_type": "code",
   "execution_count": 3,
   "metadata": {},
   "outputs": [],
   "source": [
    "df = df.dropna().copy()"
   ]
  },
  {
   "cell_type": "markdown",
   "metadata": {},
   "source": [
    "即使 `df.dropna()` 返回一个新的数据框，为了提高效率，其数据也可能与其他数据框共享。我们可能需要修改数据框。因此，修改数据框可能会导致 `SettingWithCopyWarning` 。为了避免这种情况，我们可以对数据使用 `copy()` 以确保幕后没有任何共享数据。"
   ]
  },
  {
   "cell_type": "code",
   "execution_count": 4,
   "metadata": {},
   "outputs": [],
   "source": [
    "df[\"passenger_count\"] = df[\"passenger_count\"].astype(np.int8)\n",
    "df[\"payment_type\"] = df[\"payment_type\"].astype(np.int8)"
   ]
  },
  {
   "cell_type": "markdown",
   "metadata": {},
   "source": [
    "Beyond"
   ]
  },
  {
   "cell_type": "code",
   "execution_count": 6,
   "metadata": {},
   "outputs": [
    {
     "name": "stderr",
     "output_type": "stream",
     "text": [
      "C:\\Users\\JPL-JUNO\\AppData\\Local\\Temp\\ipykernel_19020\\467815824.py:12: FutureWarning: The behavior of DataFrame concatenation with empty or all-NA entries is deprecated. In a future version, this will no longer exclude empty or all-NA columns when determining the result dtypes. To retain the old behavior, exclude the relevant entries before the concat operation.\n",
      "  df.loc[\"VendorID\"] = df[\"VendorID\"].astype(np.int8)\n"
     ]
    }
   ],
   "source": [
    "df = pd.read_csv(\n",
    "    \"../../DATA/nyc_taxi_2020-01.csv\",\n",
    "    usecols=[\"VendorID\", \"trip_distance\", \"tip_amount\", \"total_amount\"],\n",
    "    dtype={\n",
    "        \"VendorID\": np.float32,\n",
    "        \"trip_distance\": np.float32,\n",
    "        \"tip_amount\": np.float32,\n",
    "        \"total_amount\": np.float32,\n",
    "    },\n",
    ")\n",
    "df = df.dropna().copy()\n",
    "df.loc[\"VendorID\"] = df[\"VendorID\"].astype(np.int8)"
   ]
  },
  {
   "cell_type": "code",
   "execution_count": 7,
   "metadata": {},
   "outputs": [],
   "source": [
    "df = pd.read_csv(\n",
    "    \"../../DATA/nyc_taxi_2020-01.csv\",\n",
    "    usecols=[\"VendorID\", \"trip_distance\", \"tip_amount\", \"total_amount\"],\n",
    "    dtype={\n",
    "        \"VendorID\": np.float32,\n",
    "        \"trip_distance\": np.float32,\n",
    "        \"tip_amount\": np.float32,\n",
    "        \"total_amount\": np.float32,\n",
    "    },\n",
    ")\n",
    "\n",
    "df['VendorID'] = df['VendorID'].fillna(3)\n",
    "df['VendorID'] = df['VendorID'].astype(np.int8)"
   ]
  },
  {
   "cell_type": "code",
   "execution_count": 8,
   "metadata": {},
   "outputs": [
    {
     "data": {
      "text/plain": [
       "Index                 128\n",
       "VendorID          6405008\n",
       "trip_distance    25620032\n",
       "tip_amount       25620032\n",
       "total_amount     25620032\n",
       "dtype: int64"
      ]
     },
     "execution_count": 8,
     "metadata": {},
     "output_type": "execute_result"
    }
   ],
   "source": [
    "df.memory_usage()"
   ]
  },
  {
   "cell_type": "code",
   "execution_count": 9,
   "metadata": {},
   "outputs": [],
   "source": [
    "df = pd.read_csv(\n",
    "    \"../../DATA/nyc_taxi_2020-01.csv\",\n",
    "    usecols=[\"VendorID\", \"trip_distance\", \"tip_amount\", \"total_amount\"],\n",
    "    dtype={\n",
    "        \"VendorID\": np.float64,\n",
    "        \"trip_distance\": np.float64,\n",
    "        \"tip_amount\": np.float64,\n",
    "        \"total_amount\": np.float64,\n",
    "    },\n",
    ")"
   ]
  },
  {
   "cell_type": "code",
   "execution_count": 10,
   "metadata": {},
   "outputs": [
    {
     "data": {
      "text/plain": [
       "Index                 128\n",
       "VendorID         51240064\n",
       "trip_distance    51240064\n",
       "tip_amount       51240064\n",
       "total_amount     51240064\n",
       "dtype: int64"
      ]
     },
     "execution_count": 10,
     "metadata": {},
     "output_type": "execute_result"
    }
   ],
   "source": [
    "df.memory_usage()"
   ]
  }
 ],
 "metadata": {
  "kernelspec": {
   "display_name": "Python 3",
   "language": "python",
   "name": "python3"
  },
  "language_info": {
   "codemirror_mode": {
    "name": "ipython",
    "version": 3
   },
   "file_extension": ".py",
   "mimetype": "text/x-python",
   "name": "python",
   "nbconvert_exporter": "python",
   "pygments_lexer": "ipython3",
   "version": "3.11.1"
  }
 },
 "nbformat": 4,
 "nbformat_minor": 2
}

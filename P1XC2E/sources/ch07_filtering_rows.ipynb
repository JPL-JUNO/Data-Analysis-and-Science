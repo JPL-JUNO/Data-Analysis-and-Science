{
 "cells": [
  {
   "cell_type": "code",
   "execution_count": 1,
   "metadata": {},
   "outputs": [
    {
     "name": "stdout",
     "output_type": "stream",
     "text": [
      "\n",
      "@File         : ch07_filtering_rows.ipynb\n",
      "@Author(s)    : Stephen CUI\n",
      "@LastEditor(s): Stephen CUI\n",
      "@CreatedTime  : 2024-08-05 19:20:26\n",
      "@Email        : cuixuanstephen@gmail.com\n",
      "@Description  : 过滤行\n",
      "\n"
     ]
    }
   ],
   "source": [
    "print(\"\"\"\n",
    "@File         : ch07_filtering_rows.ipynb\n",
    "@Author(s)    : Stephen CUI\n",
    "@LastEditor(s): Stephen CUI\n",
    "@CreatedTime  : 2024-08-05 19:20:26\n",
    "@Email        : cuixuanstephen@gmail.com\n",
    "@Description  : 过滤行\n",
    "\"\"\")"
   ]
  },
  {
   "cell_type": "code",
   "execution_count": 2,
   "metadata": {},
   "outputs": [],
   "source": [
    "import pandas as pd\n",
    "import numpy as np"
   ]
  },
  {
   "cell_type": "code",
   "execution_count": 3,
   "metadata": {},
   "outputs": [
    {
     "name": "stdout",
     "output_type": "stream",
     "text": [
      "d:\\Data-Analysis-and-Science\\P1XC2E\n"
     ]
    }
   ],
   "source": [
    "%cd ../"
   ]
  },
  {
   "cell_type": "markdown",
   "metadata": {},
   "source": [
    "从数据集中过滤数据是最常见和最基本的操作之一。使用布尔索引，有多种方法可以在 Pandas 中过滤（或子集化）数据。布尔索引（也称为布尔选择）可能是一个令人困惑的术语，但在 Pandas 领域，**它指的是通过提供布尔数组来选择行**， Pandas Series 具有相同的索引，但每行都有一个 True 或 False。这个名字来自 NumPy，其中有类似的过滤逻辑，因此虽然它实际上是一个包含布尔值的 Series，但它也被称为布尔数组。"
   ]
  },
  {
   "cell_type": "markdown",
   "metadata": {},
   "source": [
    "## 计算布尔统计数据"
   ]
  },
  {
   "cell_type": "code",
   "execution_count": 4,
   "metadata": {},
   "outputs": [
    {
     "data": {
      "text/html": [
       "<div>\n",
       "<style scoped>\n",
       "    .dataframe tbody tr th:only-of-type {\n",
       "        vertical-align: middle;\n",
       "    }\n",
       "\n",
       "    .dataframe tbody tr th {\n",
       "        vertical-align: top;\n",
       "    }\n",
       "\n",
       "    .dataframe thead th {\n",
       "        text-align: right;\n",
       "    }\n",
       "</style>\n",
       "<table border=\"1\" class=\"dataframe\">\n",
       "  <thead>\n",
       "    <tr style=\"text-align: right;\">\n",
       "      <th></th>\n",
       "      <th>duration</th>\n",
       "    </tr>\n",
       "    <tr>\n",
       "      <th>movie_title</th>\n",
       "      <th></th>\n",
       "    </tr>\n",
       "  </thead>\n",
       "  <tbody>\n",
       "    <tr>\n",
       "      <th>Avatar</th>\n",
       "      <td>178.0</td>\n",
       "    </tr>\n",
       "    <tr>\n",
       "      <th>Pirates of the Caribbean: At World's End</th>\n",
       "      <td>169.0</td>\n",
       "    </tr>\n",
       "    <tr>\n",
       "      <th>Spectre</th>\n",
       "      <td>148.0</td>\n",
       "    </tr>\n",
       "    <tr>\n",
       "      <th>The Dark Knight Rises</th>\n",
       "      <td>164.0</td>\n",
       "    </tr>\n",
       "    <tr>\n",
       "      <th>Star Wars: Episode VII - The Force Awakens</th>\n",
       "      <td>NaN</td>\n",
       "    </tr>\n",
       "  </tbody>\n",
       "</table>\n",
       "</div>"
      ],
      "text/plain": [
       "                                            duration\n",
       "movie_title                                         \n",
       "Avatar                                         178.0\n",
       "Pirates of the Caribbean: At World's End       169.0\n",
       "Spectre                                        148.0\n",
       "The Dark Knight Rises                          164.0\n",
       "Star Wars: Episode VII - The Force Awakens       NaN"
      ]
     },
     "execution_count": 4,
     "metadata": {},
     "output_type": "execute_result"
    }
   ],
   "source": [
    "movie = pd.read_csv('data/movie.csv', index_col='movie_title')\n",
    "movie[['duration']].head()"
   ]
  },
  {
   "cell_type": "code",
   "execution_count": 5,
   "metadata": {},
   "outputs": [
    {
     "data": {
      "text/plain": [
       "movie_title\n",
       "Avatar                                         True\n",
       "Pirates of the Caribbean: At World's End       True\n",
       "Spectre                                        True\n",
       "The Dark Knight Rises                          True\n",
       "Star Wars: Episode VII - The Force Awakens    False\n",
       "Name: duration, dtype: bool"
      ]
     },
     "execution_count": 5,
     "metadata": {},
     "output_type": "execute_result"
    }
   ],
   "source": [
    "movie_2_hours = movie['duration'] > 120\n",
    "movie_2_hours.head()"
   ]
  },
  {
   "cell_type": "code",
   "execution_count": 6,
   "metadata": {},
   "outputs": [
    {
     "data": {
      "text/plain": [
       "1039"
      ]
     },
     "execution_count": 6,
     "metadata": {},
     "output_type": "execute_result"
    }
   ],
   "source": [
    "movie_2_hours.sum()"
   ]
  },
  {
   "cell_type": "code",
   "execution_count": 7,
   "metadata": {},
   "outputs": [
    {
     "data": {
      "text/plain": [
       "21.13506916192026"
      ]
     },
     "execution_count": 7,
     "metadata": {},
     "output_type": "execute_result"
    }
   ],
   "source": [
    "movie_2_hours.mean() * 100"
   ]
  },
  {
   "cell_type": "markdown",
   "metadata": {},
   "source": [
    "有个小问题，是否要排除那些不具有市场的影片？"
   ]
  },
  {
   "cell_type": "code",
   "execution_count": 8,
   "metadata": {},
   "outputs": [
    {
     "data": {
      "text/plain": [
       "21.199755152009793"
      ]
     },
     "execution_count": 8,
     "metadata": {},
     "output_type": "execute_result"
    }
   ],
   "source": [
    "movie['duration'].dropna().gt(120).mean().__mul__(100)"
   ]
  },
  {
   "cell_type": "code",
   "execution_count": 9,
   "metadata": {},
   "outputs": [
    {
     "data": {
      "text/plain": [
       "count      4916\n",
       "unique        2\n",
       "top       False\n",
       "freq       3877\n",
       "Name: duration, dtype: object"
      ]
     },
     "execution_count": 9,
     "metadata": {},
     "output_type": "execute_result"
    }
   ],
   "source": [
    "movie_2_hours.describe()"
   ]
  },
  {
   "cell_type": "markdown",
   "metadata": {},
   "source": [
    "pandas 将 `.describe` 方法应用于布尔数组的方式与应用于对象或字符串列的方式相同，即显示频率信息。这是考虑布尔数组的自然方式，而不是显示分位数。"
   ]
  },
  {
   "cell_type": "code",
   "execution_count": 10,
   "metadata": {},
   "outputs": [
    {
     "data": {
      "text/plain": [
       "count    4916.000000\n",
       "mean        0.211351\n",
       "std         0.408308\n",
       "min         0.000000\n",
       "25%         0.000000\n",
       "50%         0.000000\n",
       "75%         0.000000\n",
       "max         1.000000\n",
       "Name: duration, dtype: float64"
      ]
     },
     "execution_count": 10,
     "metadata": {},
     "output_type": "execute_result"
    }
   ],
   "source": [
    "movie_2_hours.astype(int).describe()"
   ]
  },
  {
   "cell_type": "code",
   "execution_count": 11,
   "metadata": {},
   "outputs": [
    {
     "data": {
      "text/plain": [
       "0.9777687130328371"
      ]
     },
     "execution_count": 11,
     "metadata": {},
     "output_type": "execute_result"
    }
   ],
   "source": [
    "actors = movie[\n",
    "    [\"actor_1_facebook_likes\", \"actor_2_facebook_likes\"]\n",
    "].dropna()\n",
    "\n",
    "(\n",
    "    actors['actor_1_facebook_likes'] > actors['actor_2_facebook_likes']\n",
    ").mean()"
   ]
  },
  {
   "cell_type": "markdown",
   "metadata": {},
   "source": [
    "## 构造多个布尔条件"
   ]
  },
  {
   "cell_type": "markdown",
   "metadata": {},
   "source": [
    "在 Python 中，布尔表达式使用内置逻辑运算符 `and`、`or` 和 `not`。这些关键字不适用于 pandas 中的布尔索引，因此分别替换为 `&`、`|` 和 `~`。此外，在组合表达式时，每个表达式都必须括在括号中，否则会引发错误（由于运算符优先级）。"
   ]
  },
  {
   "cell_type": "code",
   "execution_count": 12,
   "metadata": {},
   "outputs": [],
   "source": [
    "criterial1 = movie.imdb_score > 8\n",
    "criterial2 = movie.content_rating == \"PG-13\"\n",
    "criterial3 = (movie.title_year < 2000) | (movie.title_year > 2009)"
   ]
  },
  {
   "cell_type": "code",
   "execution_count": 13,
   "metadata": {},
   "outputs": [
    {
     "data": {
      "text/plain": [
       "movie_title\n",
       "Avatar                                        False\n",
       "Pirates of the Caribbean: At World's End      False\n",
       "Spectre                                       False\n",
       "The Dark Knight Rises                          True\n",
       "Star Wars: Episode VII - The Force Awakens    False\n",
       "dtype: bool"
      ]
     },
     "execution_count": 13,
     "metadata": {},
     "output_type": "execute_result"
    }
   ],
   "source": [
    "criteria_final = criterial1 & criterial2 & criterial3\n",
    "criteria_final.head()"
   ]
  },
  {
   "cell_type": "code",
   "execution_count": null,
   "metadata": {},
   "outputs": [],
   "source": []
  }
 ],
 "metadata": {
  "kernelspec": {
   "display_name": "Python 3",
   "language": "python",
   "name": "python3"
  },
  "language_info": {
   "codemirror_mode": {
    "name": "ipython",
    "version": 3
   },
   "file_extension": ".py",
   "mimetype": "text/x-python",
   "name": "python",
   "nbconvert_exporter": "python",
   "pygments_lexer": "ipython3",
   "version": "3.11.1"
  }
 },
 "nbformat": 4,
 "nbformat_minor": 2
}

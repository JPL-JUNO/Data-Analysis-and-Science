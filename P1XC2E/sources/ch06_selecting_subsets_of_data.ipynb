{
 "cells": [
  {
   "cell_type": "code",
   "execution_count": null,
   "metadata": {},
   "outputs": [],
   "source": [
    "print(\"\"\"\n",
    "@File         : ch06_selecting_subsets_of_data.ipynb\n",
    "@Author(s)    : Stephen CUI\n",
    "@LastEditor(s): Stephen CUI\n",
    "@CreatedTime  : 2024-07-31 23:21:21\n",
    "@Email        : cuixuanstephen@gmail.com\n",
    "@Description  : 选择数据子集\n",
    "\"\"\")"
   ]
  },
  {
   "cell_type": "code",
   "execution_count": null,
   "metadata": {},
   "outputs": [],
   "source": [
    "import pandas as pd\n",
    "import numpy as np"
   ]
  },
  {
   "cell_type": "code",
   "execution_count": null,
   "metadata": {},
   "outputs": [],
   "source": [
    "%cd ../"
   ]
  },
  {
   "cell_type": "markdown",
   "metadata": {},
   "source": [
    "Series 或 DataFrame 中数据的每个维度都在 Index 对象中标记。正是这个 Index 将 Pandas 数据结构与 NumPy 的 n 维数组区分开来。索引为每行和每列数据提供有意义的标签，Pandas 用户可以通过使用这些标签来选择数据。此外，Pandas 还允许用户根据行和列的位置选择数据。"
   ]
  },
  {
   "cell_type": "markdown",
   "metadata": {},
   "source": [
    "按标签或位置选择数据并非 Pandas 独有的功能。Python 字典和列表是内置数据结构，它们只能以其中一种方式选择数据。字典和列表都有精确的指令和有限的索引用例。字典的键（其标签）必须是不可变对象，例如字符串、整数或元组。列表必须使用整数（位置）或切片对象进行选择。字典只能通过将键传递给索引运算符来一次选择一个对象。通过这种方式，Pandas 结合了使用整数（与列表）和标签（与字典）选择数据的能力。"
   ]
  },
  {
   "cell_type": "markdown",
   "metadata": {},
   "source": [
    "## 选择 Series 数据"
   ]
  },
  {
   "cell_type": "markdown",
   "metadata": {},
   "source": [
    "Series 和 DataFrames 是复杂的数据容器，具有多个属性，它们使用索引操作以不同的方式选择数据。除了索引运算符本身之外，还有 `.iloc` 和 `.loc` 属性可用，并以自己独特的方式使用索引运算符。\n",
    "\n",
    "Series 和 DataFrames 允许按位置（如 Python 列表）和按标签（如 Python 字典）进行选择。当我们从 `.iloc` 属性索引时，pandas 仅按位置进行选择，其工作方式与 Python 列表类似。`.loc` 属性仅按索引标签进行选择，其工作方式与 Python 字典类似。"
   ]
  },
  {
   "cell_type": "markdown",
   "metadata": {},
   "source": [
    "`.loc` 和 `.iloc` 属性在 Series 和 DataFrames 上都可用。`.iloc` 按位置选择 Series 数据，以及如何使用 `.loc` 按标签选择 Series 数据。这些索引器接受标量值、列表和切片。"
   ]
  },
  {
   "cell_type": "markdown",
   "metadata": {},
   "source": [
    "这个术语可能会让人困惑。索引操作是指在变量后面加上括号 `[]`。例如，给定一个 Series `s`，您可以通过以下方式选择数据：`s[item]` 和 `s.loc[item]`。第一个直接对 Series 执行索引操作。第二个对 `.loc` 属性执行索引操作。"
   ]
  },
  {
   "cell_type": "code",
   "execution_count": null,
   "metadata": {},
   "outputs": [],
   "source": [
    "college = pd.read_csv('data/college.csv', index_col='INSTNM')\n",
    "city = college['CITY']\n",
    "city.sample(2)"
   ]
  },
  {
   "cell_type": "code",
   "execution_count": null,
   "metadata": {},
   "outputs": [],
   "source": [
    "city[\"Alabama A & M University\"]"
   ]
  },
  {
   "cell_type": "markdown",
   "metadata": {},
   "source": [
    "使用 `.loc` 属性按名称提取标量值："
   ]
  },
  {
   "cell_type": "code",
   "execution_count": null,
   "metadata": {},
   "outputs": [],
   "source": [
    "city.loc['Alabama A & M University']"
   ]
  },
  {
   "cell_type": "markdown",
   "metadata": {},
   "source": [
    "使用 `.iloc` 属性按位置拉出标量值："
   ]
  },
  {
   "cell_type": "code",
   "execution_count": null,
   "metadata": {},
   "outputs": [],
   "source": [
    "city.iloc[0]"
   ]
  },
  {
   "cell_type": "code",
   "execution_count": null,
   "metadata": {},
   "outputs": [],
   "source": [
    "city[\n",
    "    [\n",
    "        'Alabama A & M University',\n",
    "        'Alabama State University'\n",
    "    ]\n",
    "]"
   ]
  },
  {
   "cell_type": "code",
   "execution_count": null,
   "metadata": {},
   "outputs": [],
   "source": [
    "city.loc[\n",
    "    [\n",
    "        'Alabama A & M University',\n",
    "        'Alabama State University'\n",
    "    ]\n",
    "]"
   ]
  },
  {
   "cell_type": "code",
   "execution_count": null,
   "metadata": {},
   "outputs": [],
   "source": [
    "city.iloc[[0, 4]]"
   ]
  },
  {
   "cell_type": "code",
   "execution_count": null,
   "metadata": {},
   "outputs": [],
   "source": [
    "city[\"Alabama A & M University\":\"Alabama State University\"]"
   ]
  },
  {
   "cell_type": "code",
   "execution_count": null,
   "metadata": {},
   "outputs": [],
   "source": [
    "city[0:5]"
   ]
  },
  {
   "cell_type": "code",
   "execution_count": null,
   "metadata": {},
   "outputs": [],
   "source": [
    "city.loc[\"Alabama A & M University\":\"Alabama State University\"]"
   ]
  },
  {
   "cell_type": "code",
   "execution_count": null,
   "metadata": {},
   "outputs": [],
   "source": [
    "city.iloc[0:5]"
   ]
  },
  {
   "cell_type": "code",
   "execution_count": null,
   "metadata": {},
   "outputs": [],
   "source": [
    "alabama_mask = city.isin([\"Birmingham\", \"Montgomery\"])\n",
    "city[alabama_mask]"
   ]
  },
  {
   "cell_type": "code",
   "execution_count": null,
   "metadata": {},
   "outputs": [],
   "source": [
    "s = pd.Series([10, 20, 35, 28], index=[5, 2, 3, 1])"
   ]
  },
  {
   "cell_type": "code",
   "execution_count": null,
   "metadata": {},
   "outputs": [],
   "source": [
    "s[0:4]\n",
    "# 将被弃用"
   ]
  },
  {
   "cell_type": "markdown",
   "metadata": {},
   "source": [
    "当您直接在 Series 上使用切片进行索引时，它会使用位置，否则它会按标签进行索引。"
   ]
  },
  {
   "cell_type": "code",
   "execution_count": null,
   "metadata": {},
   "outputs": [],
   "source": [
    "s[5]"
   ]
  },
  {
   "cell_type": "code",
   "execution_count": null,
   "metadata": {},
   "outputs": [],
   "source": [
    "s[1]"
   ]
  },
  {
   "cell_type": "markdown",
   "metadata": {},
   "source": [
    "> 请记住，按位置切片时，pandas 使用半开区间（左闭右开）。半开区间包括第一个索引，但不包括结束索引。但是，按标签切片时，pandas 使用闭区间，包括开始和结束索引。这种行为与 Python 总体上不一致，但对于标签来说很实用。"
   ]
  },
  {
   "cell_type": "markdown",
   "metadata": {},
   "source": [
    "使用 `.loc` 切片时需要小心谨慎。如果起始索引出现在终止索引之后，则将返回一个空的 Series，而不会出现异常："
   ]
  },
  {
   "cell_type": "code",
   "execution_count": null,
   "metadata": {},
   "outputs": [],
   "source": [
    "city.loc[\"Reid State Technical College\":\"Alabama State University\"]"
   ]
  },
  {
   "cell_type": "markdown",
   "metadata": {},
   "source": [
    "## 选择 DataFrame 行"
   ]
  },
  {
   "cell_type": "markdown",
   "metadata": {},
   "source": [
    "选择 DataFrame 行最明确和首选的方法是使用 `.iloc` 和 `.loc`。它们都能够按行或按行和列进行选择。"
   ]
  },
  {
   "cell_type": "code",
   "execution_count": null,
   "metadata": {},
   "outputs": [],
   "source": [
    "college.sample(5, random_state=42)"
   ]
  },
  {
   "cell_type": "code",
   "execution_count": null,
   "metadata": {},
   "outputs": [],
   "source": [
    "college.iloc[60]"
   ]
  },
  {
   "cell_type": "code",
   "execution_count": null,
   "metadata": {},
   "outputs": [],
   "source": [
    "college.loc['University of Alaska Anchorage']"
   ]
  },
  {
   "cell_type": "code",
   "execution_count": null,
   "metadata": {},
   "outputs": [],
   "source": [
    "college.iloc[[60, 99, 3]]"
   ]
  },
  {
   "cell_type": "code",
   "execution_count": null,
   "metadata": {},
   "outputs": [],
   "source": [
    "labels = [\n",
    "    \"University of Alaska Anchorage\",\n",
    "    \"International Academy of Hair Design\",\n",
    "    \"University of Alabama in Huntsville\",\n",
    "]"
   ]
  },
  {
   "cell_type": "code",
   "execution_count": null,
   "metadata": {},
   "outputs": [],
   "source": [
    "college.loc[labels]"
   ]
  },
  {
   "cell_type": "code",
   "execution_count": null,
   "metadata": {},
   "outputs": [],
   "source": [
    "college.iloc[99: 102]"
   ]
  },
  {
   "cell_type": "code",
   "execution_count": null,
   "metadata": {},
   "outputs": [],
   "source": [
    "start = 'International Academy of Hair Design'\n",
    "stop = 'Mesa Community College'\n",
    "college.loc[start:stop]"
   ]
  },
  {
   "cell_type": "markdown",
   "metadata": {},
   "source": [
    "## 同时选择 DataFrame 的行和列"
   ]
  },
  {
   "cell_type": "markdown",
   "metadata": {},
   "source": [
    "有很多种方法可以选择行和列。从 DataFrame 中选择一个或多个列的最简单方法是索引 DataFrame。但是，这种方法有一个限制。直接在 DataFrame 上建立索引不允许您同时选择行和列。要选择行和列，您需要将用逗号分隔的有效行和列选择传递给 `.iloc` 或 `.loc`。"
   ]
  },
  {
   "cell_type": "markdown",
   "metadata": {},
   "source": [
    "选择行和列的通用形式将类似于以下代码：\n",
    "\n",
    "`df.iloc[row_idxs, column_idxs]`\n",
    "\n",
    "`df.loc[row_names, column_names]`"
   ]
  },
  {
   "cell_type": "markdown",
   "metadata": {},
   "source": [
    "Where `row_idxs` and `column_idxs` can be scalar integers, lists of integers, or integer slices. While `row_names` and `column_names` can be the scalar names, lists of names, or names slices, `row_names` can also be a Boolean array."
   ]
  },
  {
   "cell_type": "code",
   "execution_count": null,
   "metadata": {},
   "outputs": [],
   "source": [
    "college.iloc[:3, :4]"
   ]
  },
  {
   "cell_type": "code",
   "execution_count": null,
   "metadata": {},
   "outputs": [],
   "source": [
    "college.loc[:'Amridge University', :'MENONLY']"
   ]
  },
  {
   "cell_type": "code",
   "execution_count": null,
   "metadata": {},
   "outputs": [],
   "source": [
    "college.iloc[:, [4, 6]].head()"
   ]
  },
  {
   "cell_type": "code",
   "execution_count": null,
   "metadata": {},
   "outputs": [],
   "source": [
    "college.loc[:, [\"WOMENONLY\", \"SATVRMID\"]].head()"
   ]
  },
  {
   "cell_type": "code",
   "execution_count": null,
   "metadata": {},
   "outputs": [],
   "source": [
    "college.iloc[[100, 200], [7, 15]]"
   ]
  },
  {
   "cell_type": "code",
   "execution_count": null,
   "metadata": {},
   "outputs": [],
   "source": [
    "rows = [\n",
    "    \"GateWay Community College\",\n",
    "    \"American Baptist Seminary of the West\",\n",
    "]\n",
    "columns = [\"SATMTMID\", \"UGDS_NHPI\"]\n",
    "college.loc[rows, columns]"
   ]
  },
  {
   "cell_type": "code",
   "execution_count": null,
   "metadata": {},
   "outputs": [],
   "source": [
    "college.iloc[5, -4]"
   ]
  },
  {
   "cell_type": "code",
   "execution_count": null,
   "metadata": {},
   "outputs": [],
   "source": [
    "college.loc[\"The University of Alabama\", \"PCTFLOAN\"]"
   ]
  },
  {
   "cell_type": "code",
   "execution_count": null,
   "metadata": {},
   "outputs": [],
   "source": [
    "college.iloc[90:80:-2, 5]"
   ]
  },
  {
   "cell_type": "code",
   "execution_count": null,
   "metadata": {},
   "outputs": [],
   "source": [
    "start = \"Empire Beauty School-Flagstaff\"\n",
    "stop = \"Arizona State University-Tempe\"\n",
    "college.loc[start:stop:-2, 'RELAFFIL']"
   ]
  },
  {
   "cell_type": "markdown",
   "metadata": {},
   "source": [
    "同时选择行和列的关键之一是了解括号中逗号的用法。逗号左侧的选择始终根据行索引选择行。逗号右侧的选择始终根据列索引选择列。"
   ]
  },
  {
   "cell_type": "markdown",
   "metadata": {},
   "source": [
    "## 选择包含整数和标签的数据"
   ]
  },
  {
   "cell_type": "markdown",
   "metadata": {},
   "source": [
    "在早期版本的 pandas 中，`.ix` 可用于按位置和标签选择数据。虽然这对于那些特定情况来说很方便，但它本质上是模棱两可的，并且让许多 pandas 用户感到困惑。`.ix` 索引器随后已被弃用，因此应避免使用。"
   ]
  },
  {
   "cell_type": "code",
   "execution_count": null,
   "metadata": {},
   "outputs": [],
   "source": [
    "col_start = college.columns.get_loc('UGDS_WHITE')\n",
    "col_end = college.columns.get_loc('UGDS_UNKN') + 1\n",
    "col_start, col_end"
   ]
  },
  {
   "cell_type": "code",
   "execution_count": null,
   "metadata": {},
   "outputs": [],
   "source": [
    "college.iloc[:5, col_start:col_end]"
   ]
  },
  {
   "cell_type": "code",
   "execution_count": null,
   "metadata": {},
   "outputs": [],
   "source": [
    "row_start = college.index[10]\n",
    "row_end = college.index[15]\n",
    "college.loc[row_start:row_end, \"UGDS_WHITE\":\"UGDS_UNKN\"]"
   ]
  },
  {
   "cell_type": "code",
   "execution_count": null,
   "metadata": {},
   "outputs": [],
   "source": [
    "try:\n",
    "    college.ix[10:16, 'UGDS_WHITE':'UGDS_UNKN']\n",
    "except AttributeError:\n",
    "    print(\"removed from pandas 1.0, so don't do this\")"
   ]
  },
  {
   "cell_type": "markdown",
   "metadata": {},
   "source": [
    "> 通过将 `.loc` 和 `.iloc` 链接在一起可以实现相同的结果，但链接索引器通常不是一个好主意。它可能会更慢，并且还不确定它是返回视图还是副本（这在查看数据时没有问题，但在更新数据时可能会有问题。您可能会看到臭名昭著的 `SettingWithCopyWarning` 警告）："
   ]
  },
  {
   "cell_type": "code",
   "execution_count": null,
   "metadata": {},
   "outputs": [],
   "source": [
    "college.iloc[10:16].loc[:, 'UGDS_WHITE':'UGDS_UNKN']"
   ]
  },
  {
   "cell_type": "markdown",
   "metadata": {},
   "source": [
    "## 按字典顺序切片（Slicing lexicographically）"
   ]
  },
  {
   "cell_type": "markdown",
   "metadata": {},
   "source": [
    "`.loc` 属性通常根据索引的确切字符串标签选择数据。但是，它还允许您根据索引中值的字典顺序选择数据。\n",
    "\n",
    "具体来说，`.loc` 允许您使用切片符号按字典顺序选择具有索引的所有行。这仅在索引已排序时才有效。"
   ]
  },
  {
   "cell_type": "markdown",
   "metadata": {},
   "source": [
    "> 日期类型的 Index 似乎可以这样做，也是需要排序"
   ]
  },
  {
   "cell_type": "code",
   "execution_count": null,
   "metadata": {},
   "outputs": [],
   "source": [
    "college.loc['Sp':'Su']"
   ]
  },
  {
   "cell_type": "code",
   "execution_count": null,
   "metadata": {},
   "outputs": [],
   "source": [
    "college = college.sort_index()\n",
    "college.loc['Sp':'Su']"
   ]
  },
  {
   "cell_type": "markdown",
   "metadata": {},
   "source": [
    "`.loc` 的正常行为是根据传递给它的确切标签来选择数据。如果在索引中找不到这些标签，它会引发 KeyError 。但是，当索引按字典顺序排序并且将切片传递给它时，此行为存在一个特殊例外。现在可以在切片的开始和结束标签之间进行选择，即使索引中找不到这些值。\n",
    "\n",
    "像这样的切片仍然是封闭的，并且包含最后一个索引。"
   ]
  },
  {
   "cell_type": "code",
   "execution_count": null,
   "metadata": {},
   "outputs": [],
   "source": [
    "college = college.sort_index(ascending=False)\n",
    "college.index.is_monotonic_decreasing"
   ]
  },
  {
   "cell_type": "code",
   "execution_count": null,
   "metadata": {},
   "outputs": [],
   "source": [
    "college.loc['E':'B']"
   ]
  },
  {
   "cell_type": "code",
   "execution_count": null,
   "metadata": {},
   "outputs": [],
   "source": []
  }
 ],
 "metadata": {
  "kernelspec": {
   "display_name": "Python 3",
   "language": "python",
   "name": "python3"
  },
  "language_info": {
   "codemirror_mode": {
    "name": "ipython",
    "version": 3
   },
   "file_extension": ".py",
   "mimetype": "text/x-python",
   "name": "python",
   "nbconvert_exporter": "python",
   "pygments_lexer": "ipython3",
   "version": "3.11.1"
  }
 },
 "nbformat": 4,
 "nbformat_minor": 2
}

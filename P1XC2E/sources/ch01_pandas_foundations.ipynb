{
 "cells": [
  {
   "cell_type": "code",
   "execution_count": 2,
   "metadata": {},
   "outputs": [
    {
     "name": "stdout",
     "output_type": "stream",
     "text": [
      "\n",
      "@File         : ch01_pandas_foundations.ipynb\n",
      "@Author(s)    : Stephen CUI\n",
      "@LastEditor(s): Stephen CUI\n",
      "@CreatedTime  : 2024-07-20 14:21:13\n",
      "@Email        : cuixuanstephen@gmail.com\n",
      "@Description  : Pandas 基础\n",
      "\n"
     ]
    }
   ],
   "source": [
    "print(\n",
    "\"\"\"\n",
    "@File         : ch01_pandas_foundations.ipynb\n",
    "@Author(s)    : Stephen CUI\n",
    "@LastEditor(s): Stephen CUI\n",
    "@CreatedTime  : 2024-07-20 14:21:13\n",
    "@Email        : cuixuanstephen@gmail.com\n",
    "@Description  : Pandas 基础\n",
    "\"\"\"\n",
    ")"
   ]
  },
  {
   "cell_type": "code",
   "execution_count": 3,
   "metadata": {},
   "outputs": [
    {
     "name": "stdout",
     "output_type": "stream",
     "text": [
      "d:\\DS_Works\\Data-Analysis-and-Science\\P1XC2E\n"
     ]
    }
   ],
   "source": [
    "%cd ../"
   ]
  },
  {
   "cell_type": "markdown",
   "metadata": {},
   "source": [
    "## 介绍"
   ]
  },
  {
   "cell_type": "markdown",
   "metadata": {},
   "source": [
    "许多 Series 方法会返回另一个 Series 作为输出。这导致可以连续调用其他方法，这称为方法链（method chaining）。\n",
    "\n",
    "Series 和 DataFrame 的 Index 组件是 pandas 与大多数其他数据分析库的区别所在，也是理解许多操作如何工作的关键。当我们\n",
    "将其用作 Series 值的有意义标签时，我们将对这个强大的对象有所了解。"
   ]
  },
  {
   "cell_type": "markdown",
   "metadata": {},
   "source": [
    "## Pandas 数据框"
   ]
  },
  {
   "cell_type": "markdown",
   "metadata": {},
   "source": [
    "从视觉上看，pandas DataFrame 的输出显示（在 Jupyter Notebook 中）似乎只不过是一个由行和列组成的普通数据表。隐藏\n",
    "在表面之下的是三个组成部分：索引、列和数据。"
   ]
  },
  {
   "cell_type": "markdown",
   "metadata": {},
   "source": []
  }
 ],
 "metadata": {
  "kernelspec": {
   "display_name": "Python 3",
   "language": "python",
   "name": "python3"
  },
  "language_info": {
   "codemirror_mode": {
    "name": "ipython",
    "version": 3
   },
   "file_extension": ".py",
   "mimetype": "text/x-python",
   "name": "python",
   "nbconvert_exporter": "python",
   "pygments_lexer": "ipython3",
   "version": "3.11.1"
  }
 },
 "nbformat": 4,
 "nbformat_minor": 2
}

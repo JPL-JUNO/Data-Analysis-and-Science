{
 "cells": [
  {
   "cell_type": "code",
   "execution_count": 1,
   "metadata": {},
   "outputs": [
    {
     "name": "stdout",
     "output_type": "stream",
     "text": [
      "\n",
      "@File         : ch03_creating_and_persisting_dataframes.ipynb\n",
      "@Author(s)    : Stephen CUI\n",
      "@LastEditor(s): Stephen CUI\n",
      "@CreatedTime  : 2024-07-21 17:32:17\n",
      "@Email        : cuixuanstephen@gmail.com\n",
      "@Description  : 创建和持久化 DataFrames\n",
      "\n"
     ]
    }
   ],
   "source": [
    "print(\"\"\"\n",
    "@File         : ch03_creating_and_persisting_dataframes.ipynb\n",
    "@Author(s)    : Stephen CUI\n",
    "@LastEditor(s): Stephen CUI\n",
    "@CreatedTime  : 2024-07-21 17:32:17\n",
    "@Email        : cuixuanstephen@gmail.com\n",
    "@Description  : 创建和持久化 DataFrames\n",
    "\"\"\")"
   ]
  },
  {
   "cell_type": "code",
   "execution_count": 2,
   "metadata": {},
   "outputs": [
    {
     "name": "stdout",
     "output_type": "stream",
     "text": [
      "d:\\Data-Analysis-and-Science\\P1XC2E\n"
     ]
    }
   ],
   "source": [
    "%cd ../"
   ]
  },
  {
   "cell_type": "code",
   "execution_count": 3,
   "metadata": {},
   "outputs": [],
   "source": [
    "import pandas as pd\n",
    "import numpy as np"
   ]
  },
  {
   "cell_type": "markdown",
   "metadata": {},
   "source": [
    "## 从头创建 DataFrames"
   ]
  },
  {
   "cell_type": "code",
   "execution_count": 4,
   "metadata": {},
   "outputs": [],
   "source": [
    "fname = [\"Paul\", \"John\", \"Richard\", \"George\"]\n",
    "lname = [\"McCartney\", \"Lennon\", \"Starkey\", \"Harrison\"]\n",
    "birth = [1942, 1940, 1940, 1943]"
   ]
  },
  {
   "cell_type": "code",
   "execution_count": 5,
   "metadata": {},
   "outputs": [],
   "source": [
    "people = {'first': fname, 'last': fname, 'birth': birth}"
   ]
  },
  {
   "cell_type": "code",
   "execution_count": 6,
   "metadata": {},
   "outputs": [
    {
     "data": {
      "text/html": [
       "<div>\n",
       "<style scoped>\n",
       "    .dataframe tbody tr th:only-of-type {\n",
       "        vertical-align: middle;\n",
       "    }\n",
       "\n",
       "    .dataframe tbody tr th {\n",
       "        vertical-align: top;\n",
       "    }\n",
       "\n",
       "    .dataframe thead th {\n",
       "        text-align: right;\n",
       "    }\n",
       "</style>\n",
       "<table border=\"1\" class=\"dataframe\">\n",
       "  <thead>\n",
       "    <tr style=\"text-align: right;\">\n",
       "      <th></th>\n",
       "      <th>first</th>\n",
       "      <th>last</th>\n",
       "      <th>birth</th>\n",
       "    </tr>\n",
       "  </thead>\n",
       "  <tbody>\n",
       "    <tr>\n",
       "      <th>0</th>\n",
       "      <td>Paul</td>\n",
       "      <td>Paul</td>\n",
       "      <td>1942</td>\n",
       "    </tr>\n",
       "    <tr>\n",
       "      <th>1</th>\n",
       "      <td>John</td>\n",
       "      <td>John</td>\n",
       "      <td>1940</td>\n",
       "    </tr>\n",
       "    <tr>\n",
       "      <th>2</th>\n",
       "      <td>Richard</td>\n",
       "      <td>Richard</td>\n",
       "      <td>1940</td>\n",
       "    </tr>\n",
       "    <tr>\n",
       "      <th>3</th>\n",
       "      <td>George</td>\n",
       "      <td>George</td>\n",
       "      <td>1943</td>\n",
       "    </tr>\n",
       "  </tbody>\n",
       "</table>\n",
       "</div>"
      ],
      "text/plain": [
       "     first     last  birth\n",
       "0     Paul     Paul   1942\n",
       "1     John     John   1940\n",
       "2  Richard  Richard   1940\n",
       "3   George   George   1943"
      ]
     },
     "execution_count": 6,
     "metadata": {},
     "output_type": "execute_result"
    }
   ],
   "source": [
    "beatles = pd.DataFrame(people)\n",
    "beatles"
   ]
  },
  {
   "cell_type": "markdown",
   "metadata": {},
   "source": [
    "默认情况下，当我们调用构造函数时， pandas 将为我们的 DataFrame 创建一个RangeIndex："
   ]
  },
  {
   "cell_type": "code",
   "execution_count": 7,
   "metadata": {},
   "outputs": [
    {
     "data": {
      "text/plain": [
       "RangeIndex(start=0, stop=4, step=1)"
      ]
     },
     "execution_count": 7,
     "metadata": {},
     "output_type": "execute_result"
    }
   ],
   "source": [
    "beatles.index"
   ]
  },
  {
   "cell_type": "markdown",
   "metadata": {},
   "source": [
    "如果需要，我们可以为 DataFrame 指定另一个索引："
   ]
  },
  {
   "cell_type": "code",
   "execution_count": 8,
   "metadata": {},
   "outputs": [
    {
     "data": {
      "text/html": [
       "<div>\n",
       "<style scoped>\n",
       "    .dataframe tbody tr th:only-of-type {\n",
       "        vertical-align: middle;\n",
       "    }\n",
       "\n",
       "    .dataframe tbody tr th {\n",
       "        vertical-align: top;\n",
       "    }\n",
       "\n",
       "    .dataframe thead th {\n",
       "        text-align: right;\n",
       "    }\n",
       "</style>\n",
       "<table border=\"1\" class=\"dataframe\">\n",
       "  <thead>\n",
       "    <tr style=\"text-align: right;\">\n",
       "      <th></th>\n",
       "      <th>first</th>\n",
       "      <th>last</th>\n",
       "      <th>birth</th>\n",
       "    </tr>\n",
       "  </thead>\n",
       "  <tbody>\n",
       "    <tr>\n",
       "      <th>a</th>\n",
       "      <td>Paul</td>\n",
       "      <td>Paul</td>\n",
       "      <td>1942</td>\n",
       "    </tr>\n",
       "    <tr>\n",
       "      <th>b</th>\n",
       "      <td>John</td>\n",
       "      <td>John</td>\n",
       "      <td>1940</td>\n",
       "    </tr>\n",
       "    <tr>\n",
       "      <th>c</th>\n",
       "      <td>Richard</td>\n",
       "      <td>Richard</td>\n",
       "      <td>1940</td>\n",
       "    </tr>\n",
       "    <tr>\n",
       "      <th>d</th>\n",
       "      <td>George</td>\n",
       "      <td>George</td>\n",
       "      <td>1943</td>\n",
       "    </tr>\n",
       "  </tbody>\n",
       "</table>\n",
       "</div>"
      ],
      "text/plain": [
       "     first     last  birth\n",
       "a     Paul     Paul   1942\n",
       "b     John     John   1940\n",
       "c  Richard  Richard   1940\n",
       "d   George   George   1943"
      ]
     },
     "execution_count": 8,
     "metadata": {},
     "output_type": "execute_result"
    }
   ],
   "source": [
    "pd.DataFrame(people, index=['a', 'b', 'c', 'd'])"
   ]
  },
  {
   "cell_type": "code",
   "execution_count": 10,
   "metadata": {},
   "outputs": [
    {
     "data": {
      "text/html": [
       "<div>\n",
       "<style scoped>\n",
       "    .dataframe tbody tr th:only-of-type {\n",
       "        vertical-align: middle;\n",
       "    }\n",
       "\n",
       "    .dataframe tbody tr th {\n",
       "        vertical-align: top;\n",
       "    }\n",
       "\n",
       "    .dataframe thead th {\n",
       "        text-align: right;\n",
       "    }\n",
       "</style>\n",
       "<table border=\"1\" class=\"dataframe\">\n",
       "  <thead>\n",
       "    <tr style=\"text-align: right;\">\n",
       "      <th></th>\n",
       "      <th>first</th>\n",
       "      <th>last</th>\n",
       "      <th>birth</th>\n",
       "    </tr>\n",
       "  </thead>\n",
       "  <tbody>\n",
       "    <tr>\n",
       "      <th>0</th>\n",
       "      <td>Paul</td>\n",
       "      <td>McCartney</td>\n",
       "      <td>1942</td>\n",
       "    </tr>\n",
       "    <tr>\n",
       "      <th>1</th>\n",
       "      <td>John</td>\n",
       "      <td>Lennon</td>\n",
       "      <td>1940</td>\n",
       "    </tr>\n",
       "    <tr>\n",
       "      <th>2</th>\n",
       "      <td>Richard</td>\n",
       "      <td>Starkey</td>\n",
       "      <td>1940</td>\n",
       "    </tr>\n",
       "    <tr>\n",
       "      <th>3</th>\n",
       "      <td>George</td>\n",
       "      <td>Harrison</td>\n",
       "      <td>1943</td>\n",
       "    </tr>\n",
       "  </tbody>\n",
       "</table>\n",
       "</div>"
      ],
      "text/plain": [
       "     first       last  birth\n",
       "0     Paul  McCartney   1942\n",
       "1     John     Lennon   1940\n",
       "2  Richard    Starkey   1940\n",
       "3   George   Harrison   1943"
      ]
     },
     "execution_count": 10,
     "metadata": {},
     "output_type": "execute_result"
    }
   ],
   "source": [
    "pd.DataFrame(\n",
    "    [\n",
    "        {\n",
    "            \"first\": \"Paul\",\n",
    "            \"last\": \"McCartney\",\n",
    "            \"birth\": 1942,\n",
    "            },       \n",
    "        {\n",
    "            \"first\": \"John\",\n",
    "            \"last\": \"Lennon\",\n",
    "            \"birth\": 1940,\n",
    "            },       \n",
    "        {\n",
    "            \"first\": \"Richard\",\n",
    "            \"last\": \"Starkey\",\n",
    "            \"birth\": 1940,\n",
    "            },\n",
    "        {\n",
    "            \"first\": \"George\",\n",
    "            \"last\": \"Harrison\",\n",
    "            \"birth\": 1943,\n",
    "            }\n",
    "    ]\n",
    ")"
   ]
  },
  {
   "cell_type": "markdown",
   "metadata": {},
   "source": [
    "请注意，当您使用字典行时，列是按键的字母顺序排序的。您可以使用 `columns` 参数来指定列顺序。\n",
    "> 新版本中似乎没有这种说法"
   ]
  },
  {
   "cell_type": "markdown",
   "metadata": {},
   "source": [
    "## 写入 CSV"
   ]
  },
  {
   "cell_type": "markdown",
   "metadata": {},
   "source": [
    "DataFrame 上有几个以 to_ 开头的方法。这些是导出 DataFrame 的方法。我们将使用 `.to_csv` 方法。"
   ]
  },
  {
   "cell_type": "code",
   "execution_count": 11,
   "metadata": {},
   "outputs": [
    {
     "data": {
      "text/html": [
       "<div>\n",
       "<style scoped>\n",
       "    .dataframe tbody tr th:only-of-type {\n",
       "        vertical-align: middle;\n",
       "    }\n",
       "\n",
       "    .dataframe tbody tr th {\n",
       "        vertical-align: top;\n",
       "    }\n",
       "\n",
       "    .dataframe thead th {\n",
       "        text-align: right;\n",
       "    }\n",
       "</style>\n",
       "<table border=\"1\" class=\"dataframe\">\n",
       "  <thead>\n",
       "    <tr style=\"text-align: right;\">\n",
       "      <th></th>\n",
       "      <th>first</th>\n",
       "      <th>last</th>\n",
       "      <th>birth</th>\n",
       "    </tr>\n",
       "  </thead>\n",
       "  <tbody>\n",
       "    <tr>\n",
       "      <th>0</th>\n",
       "      <td>Paul</td>\n",
       "      <td>Paul</td>\n",
       "      <td>1942</td>\n",
       "    </tr>\n",
       "    <tr>\n",
       "      <th>1</th>\n",
       "      <td>John</td>\n",
       "      <td>John</td>\n",
       "      <td>1940</td>\n",
       "    </tr>\n",
       "    <tr>\n",
       "      <th>2</th>\n",
       "      <td>Richard</td>\n",
       "      <td>Richard</td>\n",
       "      <td>1940</td>\n",
       "    </tr>\n",
       "    <tr>\n",
       "      <th>3</th>\n",
       "      <td>George</td>\n",
       "      <td>George</td>\n",
       "      <td>1943</td>\n",
       "    </tr>\n",
       "  </tbody>\n",
       "</table>\n",
       "</div>"
      ],
      "text/plain": [
       "     first     last  birth\n",
       "0     Paul     Paul   1942\n",
       "1     John     John   1940\n",
       "2  Richard  Richard   1940\n",
       "3   George   George   1943"
      ]
     },
     "execution_count": 11,
     "metadata": {},
     "output_type": "execute_result"
    }
   ],
   "source": [
    "beatles"
   ]
  },
  {
   "cell_type": "code",
   "execution_count": 12,
   "metadata": {},
   "outputs": [],
   "source": [
    "from io import StringIO"
   ]
  },
  {
   "cell_type": "code",
   "execution_count": 13,
   "metadata": {},
   "outputs": [],
   "source": [
    "fout = StringIO()\n",
    "beatles.to_csv(fout)\n",
    "# 示例中将\n",
    "# 其写入字符串缓冲区，但您通常会使用文件名。"
   ]
  },
  {
   "cell_type": "code",
   "execution_count": 14,
   "metadata": {},
   "outputs": [
    {
     "name": "stdout",
     "output_type": "stream",
     "text": [
      ",first,last,birth\n",
      "0,Paul,Paul,1942\n",
      "1,John,John,1940\n",
      "2,Richard,Richard,1940\n",
      "3,George,George,1943\n",
      "\n"
     ]
    }
   ],
   "source": [
    "print(fout.getvalue())"
   ]
  },
  {
   "cell_type": "code",
   "execution_count": 15,
   "metadata": {},
   "outputs": [],
   "source": [
    "_ = fout.seek(0)"
   ]
  },
  {
   "cell_type": "code",
   "execution_count": 16,
   "metadata": {},
   "outputs": [
    {
     "data": {
      "text/html": [
       "<div>\n",
       "<style scoped>\n",
       "    .dataframe tbody tr th:only-of-type {\n",
       "        vertical-align: middle;\n",
       "    }\n",
       "\n",
       "    .dataframe tbody tr th {\n",
       "        vertical-align: top;\n",
       "    }\n",
       "\n",
       "    .dataframe thead th {\n",
       "        text-align: right;\n",
       "    }\n",
       "</style>\n",
       "<table border=\"1\" class=\"dataframe\">\n",
       "  <thead>\n",
       "    <tr style=\"text-align: right;\">\n",
       "      <th></th>\n",
       "      <th>Unnamed: 0</th>\n",
       "      <th>first</th>\n",
       "      <th>last</th>\n",
       "      <th>birth</th>\n",
       "    </tr>\n",
       "  </thead>\n",
       "  <tbody>\n",
       "    <tr>\n",
       "      <th>0</th>\n",
       "      <td>0</td>\n",
       "      <td>Paul</td>\n",
       "      <td>Paul</td>\n",
       "      <td>1942</td>\n",
       "    </tr>\n",
       "    <tr>\n",
       "      <th>1</th>\n",
       "      <td>1</td>\n",
       "      <td>John</td>\n",
       "      <td>John</td>\n",
       "      <td>1940</td>\n",
       "    </tr>\n",
       "    <tr>\n",
       "      <th>2</th>\n",
       "      <td>2</td>\n",
       "      <td>Richard</td>\n",
       "      <td>Richard</td>\n",
       "      <td>1940</td>\n",
       "    </tr>\n",
       "    <tr>\n",
       "      <th>3</th>\n",
       "      <td>3</td>\n",
       "      <td>George</td>\n",
       "      <td>George</td>\n",
       "      <td>1943</td>\n",
       "    </tr>\n",
       "  </tbody>\n",
       "</table>\n",
       "</div>"
      ],
      "text/plain": [
       "   Unnamed: 0    first     last  birth\n",
       "0           0     Paul     Paul   1942\n",
       "1           1     John     John   1940\n",
       "2           2  Richard  Richard   1940\n",
       "3           3   George   George   1943"
      ]
     },
     "execution_count": 16,
     "metadata": {},
     "output_type": "execute_result"
    }
   ],
   "source": [
    "pd.read_csv(fout)"
   ]
  },
  {
   "cell_type": "code",
   "execution_count": 17,
   "metadata": {},
   "outputs": [
    {
     "data": {
      "text/html": [
       "<div>\n",
       "<style scoped>\n",
       "    .dataframe tbody tr th:only-of-type {\n",
       "        vertical-align: middle;\n",
       "    }\n",
       "\n",
       "    .dataframe tbody tr th {\n",
       "        vertical-align: top;\n",
       "    }\n",
       "\n",
       "    .dataframe thead th {\n",
       "        text-align: right;\n",
       "    }\n",
       "</style>\n",
       "<table border=\"1\" class=\"dataframe\">\n",
       "  <thead>\n",
       "    <tr style=\"text-align: right;\">\n",
       "      <th></th>\n",
       "      <th>first</th>\n",
       "      <th>last</th>\n",
       "      <th>birth</th>\n",
       "    </tr>\n",
       "  </thead>\n",
       "  <tbody>\n",
       "    <tr>\n",
       "      <th>0</th>\n",
       "      <td>Paul</td>\n",
       "      <td>Paul</td>\n",
       "      <td>1942</td>\n",
       "    </tr>\n",
       "    <tr>\n",
       "      <th>1</th>\n",
       "      <td>John</td>\n",
       "      <td>John</td>\n",
       "      <td>1940</td>\n",
       "    </tr>\n",
       "    <tr>\n",
       "      <th>2</th>\n",
       "      <td>Richard</td>\n",
       "      <td>Richard</td>\n",
       "      <td>1940</td>\n",
       "    </tr>\n",
       "    <tr>\n",
       "      <th>3</th>\n",
       "      <td>George</td>\n",
       "      <td>George</td>\n",
       "      <td>1943</td>\n",
       "    </tr>\n",
       "  </tbody>\n",
       "</table>\n",
       "</div>"
      ],
      "text/plain": [
       "     first     last  birth\n",
       "0     Paul     Paul   1942\n",
       "1     John     John   1940\n",
       "2  Richard  Richard   1940\n",
       "3   George   George   1943"
      ]
     },
     "execution_count": 17,
     "metadata": {},
     "output_type": "execute_result"
    }
   ],
   "source": [
    "_ = fout.seek(0)\n",
    "pd.read_csv(fout, index_col=0)"
   ]
  },
  {
   "cell_type": "code",
   "execution_count": 19,
   "metadata": {},
   "outputs": [
    {
     "name": "stdout",
     "output_type": "stream",
     "text": [
      "first,last,birth\n",
      "Paul,Paul,1942\n",
      "John,John,1940\n",
      "Richard,Richard,1940\n",
      "George,George,1943\n",
      "\n"
     ]
    }
   ],
   "source": [
    "fout = StringIO()\n",
    "beatles.to_csv(fout, index=False)\n",
    "print(fout.getvalue())"
   ]
  },
  {
   "cell_type": "markdown",
   "metadata": {},
   "source": [
    "## 读取大型 CSV 文件"
   ]
  },
  {
   "cell_type": "markdown",
   "metadata": {},
   "source": [
    "pandas 库是一种内存工具。您需要能够将数据放入内存中才能使用 pandas。如果您遇到要处理的大型 CSV 文件，则有几个选项。如果您可以一次处理部分内容，则可以将其读入块并处理每个块。或者，如果您知道应该有足够的内存来加载文件，则有一些提示可以帮助缩减文件大小。"
   ]
  },
  {
   "cell_type": "markdown",
   "metadata": {},
   "source": [
    "> 请注意，一般来说，您应拥有比要操作的 DataFrame 大小多三到十倍的内存。额外的内存应能为您提供足够的额外空间来执行许多常见操作。"
   ]
  },
  {
   "cell_type": "markdown",
   "metadata": {},
   "source": [
    "**假设文件比实际大很多，或者我的机器的内存有限，以至于当 pandas 尝试使用 read_csv 加载它时，出现内存错误。**"
   ]
  },
  {
   "cell_type": "code",
   "execution_count": 20,
   "metadata": {},
   "outputs": [],
   "source": [
    "diamonds = pd.read_csv('data/diamonds.csv', nrows=1000)"
   ]
  },
  {
   "cell_type": "code",
   "execution_count": 21,
   "metadata": {},
   "outputs": [
    {
     "data": {
      "text/html": [
       "<div>\n",
       "<style scoped>\n",
       "    .dataframe tbody tr th:only-of-type {\n",
       "        vertical-align: middle;\n",
       "    }\n",
       "\n",
       "    .dataframe tbody tr th {\n",
       "        vertical-align: top;\n",
       "    }\n",
       "\n",
       "    .dataframe thead th {\n",
       "        text-align: right;\n",
       "    }\n",
       "</style>\n",
       "<table border=\"1\" class=\"dataframe\">\n",
       "  <thead>\n",
       "    <tr style=\"text-align: right;\">\n",
       "      <th></th>\n",
       "      <th>carat</th>\n",
       "      <th>cut</th>\n",
       "      <th>color</th>\n",
       "      <th>clarity</th>\n",
       "      <th>depth</th>\n",
       "      <th>table</th>\n",
       "      <th>price</th>\n",
       "      <th>x</th>\n",
       "      <th>y</th>\n",
       "      <th>z</th>\n",
       "    </tr>\n",
       "  </thead>\n",
       "  <tbody>\n",
       "    <tr>\n",
       "      <th>0</th>\n",
       "      <td>0.23</td>\n",
       "      <td>Ideal</td>\n",
       "      <td>E</td>\n",
       "      <td>SI2</td>\n",
       "      <td>61.5</td>\n",
       "      <td>55.0</td>\n",
       "      <td>326</td>\n",
       "      <td>3.95</td>\n",
       "      <td>3.98</td>\n",
       "      <td>2.43</td>\n",
       "    </tr>\n",
       "    <tr>\n",
       "      <th>1</th>\n",
       "      <td>0.21</td>\n",
       "      <td>Premium</td>\n",
       "      <td>E</td>\n",
       "      <td>SI1</td>\n",
       "      <td>59.8</td>\n",
       "      <td>61.0</td>\n",
       "      <td>326</td>\n",
       "      <td>3.89</td>\n",
       "      <td>3.84</td>\n",
       "      <td>2.31</td>\n",
       "    </tr>\n",
       "    <tr>\n",
       "      <th>2</th>\n",
       "      <td>0.23</td>\n",
       "      <td>Good</td>\n",
       "      <td>E</td>\n",
       "      <td>VS1</td>\n",
       "      <td>56.9</td>\n",
       "      <td>65.0</td>\n",
       "      <td>327</td>\n",
       "      <td>4.05</td>\n",
       "      <td>4.07</td>\n",
       "      <td>2.31</td>\n",
       "    </tr>\n",
       "    <tr>\n",
       "      <th>3</th>\n",
       "      <td>0.29</td>\n",
       "      <td>Premium</td>\n",
       "      <td>I</td>\n",
       "      <td>VS2</td>\n",
       "      <td>62.4</td>\n",
       "      <td>58.0</td>\n",
       "      <td>334</td>\n",
       "      <td>4.20</td>\n",
       "      <td>4.23</td>\n",
       "      <td>2.63</td>\n",
       "    </tr>\n",
       "    <tr>\n",
       "      <th>4</th>\n",
       "      <td>0.31</td>\n",
       "      <td>Good</td>\n",
       "      <td>J</td>\n",
       "      <td>SI2</td>\n",
       "      <td>63.3</td>\n",
       "      <td>58.0</td>\n",
       "      <td>335</td>\n",
       "      <td>4.34</td>\n",
       "      <td>4.35</td>\n",
       "      <td>2.75</td>\n",
       "    </tr>\n",
       "    <tr>\n",
       "      <th>...</th>\n",
       "      <td>...</td>\n",
       "      <td>...</td>\n",
       "      <td>...</td>\n",
       "      <td>...</td>\n",
       "      <td>...</td>\n",
       "      <td>...</td>\n",
       "      <td>...</td>\n",
       "      <td>...</td>\n",
       "      <td>...</td>\n",
       "      <td>...</td>\n",
       "    </tr>\n",
       "    <tr>\n",
       "      <th>995</th>\n",
       "      <td>0.54</td>\n",
       "      <td>Ideal</td>\n",
       "      <td>D</td>\n",
       "      <td>VVS2</td>\n",
       "      <td>61.4</td>\n",
       "      <td>52.0</td>\n",
       "      <td>2897</td>\n",
       "      <td>5.30</td>\n",
       "      <td>5.34</td>\n",
       "      <td>3.26</td>\n",
       "    </tr>\n",
       "    <tr>\n",
       "      <th>996</th>\n",
       "      <td>0.72</td>\n",
       "      <td>Ideal</td>\n",
       "      <td>E</td>\n",
       "      <td>SI1</td>\n",
       "      <td>62.5</td>\n",
       "      <td>55.0</td>\n",
       "      <td>2897</td>\n",
       "      <td>5.69</td>\n",
       "      <td>5.74</td>\n",
       "      <td>3.57</td>\n",
       "    </tr>\n",
       "    <tr>\n",
       "      <th>997</th>\n",
       "      <td>0.72</td>\n",
       "      <td>Good</td>\n",
       "      <td>F</td>\n",
       "      <td>VS1</td>\n",
       "      <td>59.4</td>\n",
       "      <td>61.0</td>\n",
       "      <td>2897</td>\n",
       "      <td>5.82</td>\n",
       "      <td>5.89</td>\n",
       "      <td>3.48</td>\n",
       "    </tr>\n",
       "    <tr>\n",
       "      <th>998</th>\n",
       "      <td>0.74</td>\n",
       "      <td>Premium</td>\n",
       "      <td>D</td>\n",
       "      <td>VS2</td>\n",
       "      <td>61.8</td>\n",
       "      <td>58.0</td>\n",
       "      <td>2897</td>\n",
       "      <td>5.81</td>\n",
       "      <td>5.77</td>\n",
       "      <td>3.58</td>\n",
       "    </tr>\n",
       "    <tr>\n",
       "      <th>999</th>\n",
       "      <td>1.12</td>\n",
       "      <td>Premium</td>\n",
       "      <td>J</td>\n",
       "      <td>SI2</td>\n",
       "      <td>60.6</td>\n",
       "      <td>59.0</td>\n",
       "      <td>2898</td>\n",
       "      <td>6.68</td>\n",
       "      <td>6.61</td>\n",
       "      <td>4.03</td>\n",
       "    </tr>\n",
       "  </tbody>\n",
       "</table>\n",
       "<p>1000 rows × 10 columns</p>\n",
       "</div>"
      ],
      "text/plain": [
       "     carat      cut color clarity  depth  table  price     x     y     z\n",
       "0     0.23    Ideal     E     SI2   61.5   55.0    326  3.95  3.98  2.43\n",
       "1     0.21  Premium     E     SI1   59.8   61.0    326  3.89  3.84  2.31\n",
       "2     0.23     Good     E     VS1   56.9   65.0    327  4.05  4.07  2.31\n",
       "3     0.29  Premium     I     VS2   62.4   58.0    334  4.20  4.23  2.63\n",
       "4     0.31     Good     J     SI2   63.3   58.0    335  4.34  4.35  2.75\n",
       "..     ...      ...   ...     ...    ...    ...    ...   ...   ...   ...\n",
       "995   0.54    Ideal     D    VVS2   61.4   52.0   2897  5.30  5.34  3.26\n",
       "996   0.72    Ideal     E     SI1   62.5   55.0   2897  5.69  5.74  3.57\n",
       "997   0.72     Good     F     VS1   59.4   61.0   2897  5.82  5.89  3.48\n",
       "998   0.74  Premium     D     VS2   61.8   58.0   2897  5.81  5.77  3.58\n",
       "999   1.12  Premium     J     SI2   60.6   59.0   2898  6.68  6.61  4.03\n",
       "\n",
       "[1000 rows x 10 columns]"
      ]
     },
     "execution_count": 21,
     "metadata": {},
     "output_type": "execute_result"
    }
   ],
   "source": [
    "diamonds"
   ]
  },
  {
   "cell_type": "code",
   "execution_count": 22,
   "metadata": {},
   "outputs": [
    {
     "name": "stdout",
     "output_type": "stream",
     "text": [
      "<class 'pandas.core.frame.DataFrame'>\n",
      "RangeIndex: 1000 entries, 0 to 999\n",
      "Data columns (total 10 columns):\n",
      " #   Column   Non-Null Count  Dtype  \n",
      "---  ------   --------------  -----  \n",
      " 0   carat    1000 non-null   float64\n",
      " 1   cut      1000 non-null   object \n",
      " 2   color    1000 non-null   object \n",
      " 3   clarity  1000 non-null   object \n",
      " 4   depth    1000 non-null   float64\n",
      " 5   table    1000 non-null   float64\n",
      " 6   price    1000 non-null   int64  \n",
      " 7   x        1000 non-null   float64\n",
      " 8   y        1000 non-null   float64\n",
      " 9   z        1000 non-null   float64\n",
      "dtypes: float64(6), int64(1), object(3)\n",
      "memory usage: 78.2+ KB\n"
     ]
    }
   ],
   "source": [
    "diamonds.info()"
   ]
  },
  {
   "cell_type": "markdown",
   "metadata": {},
   "source": [
    "使用 `read_csv` 的 `dtype` 参数告诉它使用正确的（或更小的）数字类型："
   ]
  },
  {
   "cell_type": "code",
   "execution_count": 24,
   "metadata": {},
   "outputs": [],
   "source": [
    "diamonds2 = pd.read_csv('data/diamonds.csv', nrows=1000,\n",
    "                        dtype={\n",
    "                            'carat': np.float32,\n",
    "                            'depth': np.float32,\n",
    "                            'table': np.float32,\n",
    "                            'x': np.float32,\n",
    "                            'y': np.float32,\n",
    "                            'z': np.float32,\n",
    "                            'price': np.int16,\n",
    "                        })"
   ]
  },
  {
   "cell_type": "code",
   "execution_count": 25,
   "metadata": {},
   "outputs": [
    {
     "name": "stdout",
     "output_type": "stream",
     "text": [
      "<class 'pandas.core.frame.DataFrame'>\n",
      "RangeIndex: 1000 entries, 0 to 999\n",
      "Data columns (total 10 columns):\n",
      " #   Column   Non-Null Count  Dtype  \n",
      "---  ------   --------------  -----  \n",
      " 0   carat    1000 non-null   float32\n",
      " 1   cut      1000 non-null   object \n",
      " 2   color    1000 non-null   object \n",
      " 3   clarity  1000 non-null   object \n",
      " 4   depth    1000 non-null   float32\n",
      " 5   table    1000 non-null   float32\n",
      " 6   price    1000 non-null   int16  \n",
      " 7   x        1000 non-null   float32\n",
      " 8   y        1000 non-null   float32\n",
      " 9   z        1000 non-null   float32\n",
      "dtypes: float32(6), int16(1), object(3)\n",
      "memory usage: 49.0+ KB\n"
     ]
    }
   ],
   "source": [
    "diamonds2.info()"
   ]
  },
  {
   "cell_type": "markdown",
   "metadata": {},
   "source": [
    "如果基数较低(分类变量)，则可以将它们转换为分类列以节省更多内存："
   ]
  },
  {
   "cell_type": "code",
   "execution_count": 27,
   "metadata": {},
   "outputs": [],
   "source": [
    "diamonds3 = pd.read_csv('data/diamonds.csv', nrows=1000,\n",
    "                        dtype={\n",
    "                            'carat': np.float32,\n",
    "                            'depth': np.float32,\n",
    "                            'table': np.float32,\n",
    "                            'x': np.float32,\n",
    "                            'y': np.float32,\n",
    "                            'z': np.float32,\n",
    "                            'price': np.int16,\n",
    "                            'cut': 'category',\n",
    "                            'color': 'category',\n",
    "                            'clarity': 'category',\n",
    "                        })"
   ]
  },
  {
   "cell_type": "code",
   "execution_count": 28,
   "metadata": {},
   "outputs": [
    {
     "name": "stdout",
     "output_type": "stream",
     "text": [
      "<class 'pandas.core.frame.DataFrame'>\n",
      "RangeIndex: 1000 entries, 0 to 999\n",
      "Data columns (total 10 columns):\n",
      " #   Column   Non-Null Count  Dtype   \n",
      "---  ------   --------------  -----   \n",
      " 0   carat    1000 non-null   float32 \n",
      " 1   cut      1000 non-null   category\n",
      " 2   color    1000 non-null   category\n",
      " 3   clarity  1000 non-null   category\n",
      " 4   depth    1000 non-null   float32 \n",
      " 5   table    1000 non-null   float32 \n",
      " 6   price    1000 non-null   int16   \n",
      " 7   x        1000 non-null   float32 \n",
      " 8   y        1000 non-null   float32 \n",
      " 9   z        1000 non-null   float32 \n",
      "dtypes: category(3), float32(6), int16(1)\n",
      "memory usage: 29.4 KB\n"
     ]
    }
   ],
   "source": [
    "diamonds3.info()"
   ]
  },
  {
   "cell_type": "markdown",
   "metadata": {},
   "source": [
    "如果您可以一次处理数据块并且不需要将全部数据都放在内存中，则可以使用 `chunksize` 参数："
   ]
  },
  {
   "cell_type": "code",
   "execution_count": 29,
   "metadata": {},
   "outputs": [],
   "source": [
    "cols = ['carat', 'cut', 'color', 'clarity', 'depth', 'table', 'price']\n",
    "diamonds_iter = pd.read_csv('data/diamonds.csv', nrows=1000,\n",
    "    dtype={'carat': np.float32, 'depth': np.float32,\n",
    "           'table': np.float32, 'price': np.int16,\n",
    "           'cut': 'category', 'color': 'category',\n",
    "           'clarity': 'category'},\n",
    "    usecols=cols,\n",
    "    chunksize=200)"
   ]
  },
  {
   "cell_type": "code",
   "execution_count": 32,
   "metadata": {},
   "outputs": [],
   "source": [
    "def process(df):\n",
    "    return f'processed {df.size} items'"
   ]
  },
  {
   "cell_type": "code",
   "execution_count": 33,
   "metadata": {},
   "outputs": [],
   "source": [
    "for chunk in diamonds_iter:\n",
    "    process(chunk)"
   ]
  },
  {
   "cell_type": "markdown",
   "metadata": {},
   "source": [
    "由于 CSV 文件不包含有关类型的信息，因此 pandas 会尝试推断列的类型。如果列的所有值都是整数且没有缺失值，则使用 int64 类型。如果列是数字但不是整数，或者有缺失值，则使用 float64。这些数据类型可能会存储您需要的更多信息。"
   ]
  },
  {
   "cell_type": "markdown",
   "metadata": {},
   "source": [
    "从 pandas 0.24 开始，有一种新类型 “Int64” （注意是大写），它支持缺少数字的整数类型。如果要使用此类型，您需要使用 dtype 参数指定它，因为 pandas 会将缺少数字的整数转换为 float64。"
   ]
  },
  {
   "cell_type": "markdown",
   "metadata": {},
   "source": [
    "如果列不是数字，pandas 会将其转换为对象列，并将值视为字符串。pandas 中的字符串值会占用大量内存，因为每个值都存储为 Python 字符串。如果我们将它们转换为分类值，pandas 将使用更少的内存，因为它只存储一次字符串，而不是为每一行创建新的字符串（即使它们重复）。"
   ]
  },
  {
   "cell_type": "code",
   "execution_count": 34,
   "metadata": {},
   "outputs": [
    {
     "data": {
      "text/plain": [
       "iinfo(min=-128, max=127, dtype=int8)"
      ]
     },
     "execution_count": 34,
     "metadata": {},
     "output_type": "execute_result"
    }
   ],
   "source": [
    "np.iinfo(np.int8)"
   ]
  },
  {
   "cell_type": "code",
   "execution_count": 37,
   "metadata": {},
   "outputs": [
    {
     "data": {
      "text/plain": [
       "finfo(resolution=0.001, min=-6.55040e+04, max=6.55040e+04, dtype=float16)"
      ]
     },
     "execution_count": 37,
     "metadata": {},
     "output_type": "execute_result"
    }
   ],
   "source": [
    "np.finfo(np.float16)"
   ]
  },
  {
   "cell_type": "code",
   "execution_count": 38,
   "metadata": {},
   "outputs": [
    {
     "data": {
      "text/plain": [
       "8128"
      ]
     },
     "execution_count": 38,
     "metadata": {},
     "output_type": "execute_result"
    }
   ],
   "source": [
    "diamonds.price.memory_usage()"
   ]
  },
  {
   "cell_type": "code",
   "execution_count": 39,
   "metadata": {},
   "outputs": [
    {
     "data": {
      "text/plain": [
       "8000"
      ]
     },
     "execution_count": 39,
     "metadata": {},
     "output_type": "execute_result"
    }
   ],
   "source": [
    "diamonds.price.memory_usage(index=False)"
   ]
  },
  {
   "cell_type": "markdown",
   "metadata": {},
   "source": [
    "可以使用 `.memory_usage` 方法询问 DataFrame 或 Series 使用了多少字节。请注意，这还包括索引的内存要求。此外，您需要传递 `deep=True` 才能获取具有 object 类型的 Series 的使用情况："
   ]
  },
  {
   "cell_type": "code",
   "execution_count": 41,
   "metadata": {},
   "outputs": [
    {
     "data": {
      "text/plain": [
       "8128"
      ]
     },
     "execution_count": 41,
     "metadata": {},
     "output_type": "execute_result"
    }
   ],
   "source": [
    "diamonds.cut.memory_usage()"
   ]
  },
  {
   "cell_type": "code",
   "execution_count": 40,
   "metadata": {},
   "outputs": [
    {
     "data": {
      "text/plain": [
       "63461"
      ]
     },
     "execution_count": 40,
     "metadata": {},
     "output_type": "execute_result"
    }
   ],
   "source": [
    "diamonds.cut.memory_usage(deep=True)"
   ]
  },
  {
   "cell_type": "markdown",
   "metadata": {},
   "source": [
    "将数据保存为您喜欢的格式后，您可以将其保存为可跟踪类型的二进制格式，例如 Feather 格式（pandas 利用 pyarrow 库来实现此目的）。此格式旨在实现语言之间结构化数据的内存传输，并经过优化，以便可以按原样使用数据而无需进行内部转换。定义类型后，从此格式读取数据会更快、更轻松："
   ]
  },
  {
   "cell_type": "code",
   "execution_count": 44,
   "metadata": {},
   "outputs": [],
   "source": [
    "diamonds3.to_feather('data/d.arr')\n",
    "diamonds5 = pd.read_feather('data/d.arr')"
   ]
  },
  {
   "cell_type": "markdown",
   "metadata": {},
   "source": [
    "另一个二进制选项是 Parquet 格式。Feather 针对内存结构优化二进制数据，而 Parquet 针对磁盘格式进行优化。"
   ]
  },
  {
   "cell_type": "code",
   "execution_count": 45,
   "metadata": {},
   "outputs": [],
   "source": [
    "diamonds3.to_parquet('data/d.pqt')"
   ]
  },
  {
   "cell_type": "markdown",
   "metadata": {},
   "source": [
    "## 使用 Excel 文件"
   ]
  },
  {
   "cell_type": "code",
   "execution_count": 46,
   "metadata": {},
   "outputs": [
    {
     "name": "stderr",
     "output_type": "stream",
     "text": [
      "C:\\Users\\JPL-JUNO\\AppData\\Local\\Temp\\ipykernel_10184\\1825376602.py:1: FutureWarning: As the xlwt package is no longer maintained, the xlwt engine will be removed in a future version of pandas. This is the only engine in pandas that supports writing in the xls format. Install openpyxl and write to an xlsx file instead. You can set the option io.excel.xls.writer to 'xlwt' to silence this warning. While this option is deprecated and will also raise a warning, it can be globally set and the warning suppressed.\n",
      "  beatles.to_excel('data/beat.xls')\n"
     ]
    }
   ],
   "source": [
    "beatles.to_excel('data/beat.xls')"
   ]
  },
  {
   "cell_type": "code",
   "execution_count": 47,
   "metadata": {},
   "outputs": [],
   "source": [
    "beatles.to_excel('data/beat.xlsx')"
   ]
  },
  {
   "cell_type": "code",
   "execution_count": 50,
   "metadata": {},
   "outputs": [
    {
     "data": {
      "text/html": [
       "<div>\n",
       "<style scoped>\n",
       "    .dataframe tbody tr th:only-of-type {\n",
       "        vertical-align: middle;\n",
       "    }\n",
       "\n",
       "    .dataframe tbody tr th {\n",
       "        vertical-align: top;\n",
       "    }\n",
       "\n",
       "    .dataframe thead th {\n",
       "        text-align: right;\n",
       "    }\n",
       "</style>\n",
       "<table border=\"1\" class=\"dataframe\">\n",
       "  <thead>\n",
       "    <tr style=\"text-align: right;\">\n",
       "      <th></th>\n",
       "      <th>Unnamed: 0</th>\n",
       "      <th>first</th>\n",
       "      <th>last</th>\n",
       "      <th>birth</th>\n",
       "    </tr>\n",
       "  </thead>\n",
       "  <tbody>\n",
       "    <tr>\n",
       "      <th>0</th>\n",
       "      <td>0</td>\n",
       "      <td>Paul</td>\n",
       "      <td>Paul</td>\n",
       "      <td>1942</td>\n",
       "    </tr>\n",
       "    <tr>\n",
       "      <th>1</th>\n",
       "      <td>1</td>\n",
       "      <td>John</td>\n",
       "      <td>John</td>\n",
       "      <td>1940</td>\n",
       "    </tr>\n",
       "    <tr>\n",
       "      <th>2</th>\n",
       "      <td>2</td>\n",
       "      <td>Richard</td>\n",
       "      <td>Richard</td>\n",
       "      <td>1940</td>\n",
       "    </tr>\n",
       "    <tr>\n",
       "      <th>3</th>\n",
       "      <td>3</td>\n",
       "      <td>George</td>\n",
       "      <td>George</td>\n",
       "      <td>1943</td>\n",
       "    </tr>\n",
       "  </tbody>\n",
       "</table>\n",
       "</div>"
      ],
      "text/plain": [
       "   Unnamed: 0    first     last  birth\n",
       "0           0     Paul     Paul   1942\n",
       "1           1     John     John   1940\n",
       "2           2  Richard  Richard   1940\n",
       "3           3   George   George   1943"
      ]
     },
     "execution_count": 50,
     "metadata": {},
     "output_type": "execute_result"
    }
   ],
   "source": [
    "beat2 = pd.read_excel('data/beat.xls')\n",
    "beat2"
   ]
  },
  {
   "cell_type": "code",
   "execution_count": 52,
   "metadata": {},
   "outputs": [
    {
     "data": {
      "text/html": [
       "<div>\n",
       "<style scoped>\n",
       "    .dataframe tbody tr th:only-of-type {\n",
       "        vertical-align: middle;\n",
       "    }\n",
       "\n",
       "    .dataframe tbody tr th {\n",
       "        vertical-align: top;\n",
       "    }\n",
       "\n",
       "    .dataframe thead th {\n",
       "        text-align: right;\n",
       "    }\n",
       "</style>\n",
       "<table border=\"1\" class=\"dataframe\">\n",
       "  <thead>\n",
       "    <tr style=\"text-align: right;\">\n",
       "      <th></th>\n",
       "      <th>first</th>\n",
       "      <th>last</th>\n",
       "      <th>birth</th>\n",
       "    </tr>\n",
       "  </thead>\n",
       "  <tbody>\n",
       "    <tr>\n",
       "      <th>0</th>\n",
       "      <td>Paul</td>\n",
       "      <td>Paul</td>\n",
       "      <td>1942</td>\n",
       "    </tr>\n",
       "    <tr>\n",
       "      <th>1</th>\n",
       "      <td>John</td>\n",
       "      <td>John</td>\n",
       "      <td>1940</td>\n",
       "    </tr>\n",
       "    <tr>\n",
       "      <th>2</th>\n",
       "      <td>Richard</td>\n",
       "      <td>Richard</td>\n",
       "      <td>1940</td>\n",
       "    </tr>\n",
       "    <tr>\n",
       "      <th>3</th>\n",
       "      <td>George</td>\n",
       "      <td>George</td>\n",
       "      <td>1943</td>\n",
       "    </tr>\n",
       "  </tbody>\n",
       "</table>\n",
       "</div>"
      ],
      "text/plain": [
       "     first     last  birth\n",
       "0     Paul     Paul   1942\n",
       "1     John     John   1940\n",
       "2  Richard  Richard   1940\n",
       "3   George   George   1943"
      ]
     },
     "execution_count": 52,
     "metadata": {},
     "output_type": "execute_result"
    }
   ],
   "source": [
    "beat2 = pd.read_excel('data/beat.xls', index_col=0)\n",
    "beat2"
   ]
  },
  {
   "cell_type": "code",
   "execution_count": 54,
   "metadata": {},
   "outputs": [
    {
     "data": {
      "text/plain": [
       "first    object\n",
       "last     object\n",
       "birth     int64\n",
       "dtype: object"
      ]
     },
     "execution_count": 54,
     "metadata": {},
     "output_type": "execute_result"
    }
   ],
   "source": [
    "beat2.dtypes"
   ]
  },
  {
   "cell_type": "markdown",
   "metadata": {},
   "source": [
    "可以传递 `sheet_name` 给 `.to_excel` 方法来告诉它要创建的工作表的名称："
   ]
  },
  {
   "cell_type": "code",
   "execution_count": 57,
   "metadata": {},
   "outputs": [],
   "source": [
    "xl_writer = pd.ExcelWriter('data/beat2.xlsx')"
   ]
  },
  {
   "cell_type": "code",
   "execution_count": 58,
   "metadata": {},
   "outputs": [],
   "source": [
    "beatles.to_excel(xl_writer, sheet_name='All')\n",
    "beatles[beatles.birth < 1941].to_excel(xl_writer, sheet_name='1940')\n",
    "xl_writer.close()"
   ]
  },
  {
   "cell_type": "markdown",
   "metadata": {},
   "source": [
    "## 使用 ZIP 文件"
   ]
  },
  {
   "cell_type": "markdown",
   "metadata": {},
   "source": [
    "如果 CSV 文件是 ZIP 文件中的唯一文件，则只需调用 `read_csv` 函数即可"
   ]
  },
  {
   "cell_type": "code",
   "execution_count": 60,
   "metadata": {},
   "outputs": [
    {
     "name": "stderr",
     "output_type": "stream",
     "text": [
      "C:\\Users\\JPL-JUNO\\AppData\\Local\\Temp\\ipykernel_10184\\1805605770.py:1: DtypeWarning: Columns (70,71,72,73,74,76,79) have mixed types. Specify dtype option on import or set low_memory=False.\n",
      "  autos = pd.read_csv('data/vehicles.csv.zip')\n"
     ]
    },
    {
     "data": {
      "text/html": [
       "<div>\n",
       "<style scoped>\n",
       "    .dataframe tbody tr th:only-of-type {\n",
       "        vertical-align: middle;\n",
       "    }\n",
       "\n",
       "    .dataframe tbody tr th {\n",
       "        vertical-align: top;\n",
       "    }\n",
       "\n",
       "    .dataframe thead th {\n",
       "        text-align: right;\n",
       "    }\n",
       "</style>\n",
       "<table border=\"1\" class=\"dataframe\">\n",
       "  <thead>\n",
       "    <tr style=\"text-align: right;\">\n",
       "      <th></th>\n",
       "      <th>barrels08</th>\n",
       "      <th>barrelsA08</th>\n",
       "      <th>charge120</th>\n",
       "      <th>charge240</th>\n",
       "      <th>city08</th>\n",
       "      <th>city08U</th>\n",
       "      <th>cityA08</th>\n",
       "      <th>cityA08U</th>\n",
       "      <th>cityCD</th>\n",
       "      <th>cityE</th>\n",
       "      <th>...</th>\n",
       "      <th>mfrCode</th>\n",
       "      <th>c240Dscr</th>\n",
       "      <th>charge240b</th>\n",
       "      <th>c240bDscr</th>\n",
       "      <th>createdOn</th>\n",
       "      <th>modifiedOn</th>\n",
       "      <th>startStop</th>\n",
       "      <th>phevCity</th>\n",
       "      <th>phevHwy</th>\n",
       "      <th>phevComb</th>\n",
       "    </tr>\n",
       "  </thead>\n",
       "  <tbody>\n",
       "    <tr>\n",
       "      <th>0</th>\n",
       "      <td>15.695714</td>\n",
       "      <td>0.0</td>\n",
       "      <td>0.0</td>\n",
       "      <td>0.0</td>\n",
       "      <td>19</td>\n",
       "      <td>0.0</td>\n",
       "      <td>0</td>\n",
       "      <td>0.0</td>\n",
       "      <td>0.0</td>\n",
       "      <td>0.0</td>\n",
       "      <td>...</td>\n",
       "      <td>NaN</td>\n",
       "      <td>NaN</td>\n",
       "      <td>0.0</td>\n",
       "      <td>NaN</td>\n",
       "      <td>Tue Jan 01 00:00:00 EST 2013</td>\n",
       "      <td>Tue Jan 01 00:00:00 EST 2013</td>\n",
       "      <td>NaN</td>\n",
       "      <td>0</td>\n",
       "      <td>0</td>\n",
       "      <td>0</td>\n",
       "    </tr>\n",
       "    <tr>\n",
       "      <th>1</th>\n",
       "      <td>29.964545</td>\n",
       "      <td>0.0</td>\n",
       "      <td>0.0</td>\n",
       "      <td>0.0</td>\n",
       "      <td>9</td>\n",
       "      <td>0.0</td>\n",
       "      <td>0</td>\n",
       "      <td>0.0</td>\n",
       "      <td>0.0</td>\n",
       "      <td>0.0</td>\n",
       "      <td>...</td>\n",
       "      <td>NaN</td>\n",
       "      <td>NaN</td>\n",
       "      <td>0.0</td>\n",
       "      <td>NaN</td>\n",
       "      <td>Tue Jan 01 00:00:00 EST 2013</td>\n",
       "      <td>Tue Jan 01 00:00:00 EST 2013</td>\n",
       "      <td>NaN</td>\n",
       "      <td>0</td>\n",
       "      <td>0</td>\n",
       "      <td>0</td>\n",
       "    </tr>\n",
       "    <tr>\n",
       "      <th>2</th>\n",
       "      <td>12.207778</td>\n",
       "      <td>0.0</td>\n",
       "      <td>0.0</td>\n",
       "      <td>0.0</td>\n",
       "      <td>23</td>\n",
       "      <td>0.0</td>\n",
       "      <td>0</td>\n",
       "      <td>0.0</td>\n",
       "      <td>0.0</td>\n",
       "      <td>0.0</td>\n",
       "      <td>...</td>\n",
       "      <td>NaN</td>\n",
       "      <td>NaN</td>\n",
       "      <td>0.0</td>\n",
       "      <td>NaN</td>\n",
       "      <td>Tue Jan 01 00:00:00 EST 2013</td>\n",
       "      <td>Tue Jan 01 00:00:00 EST 2013</td>\n",
       "      <td>NaN</td>\n",
       "      <td>0</td>\n",
       "      <td>0</td>\n",
       "      <td>0</td>\n",
       "    </tr>\n",
       "    <tr>\n",
       "      <th>3</th>\n",
       "      <td>29.964545</td>\n",
       "      <td>0.0</td>\n",
       "      <td>0.0</td>\n",
       "      <td>0.0</td>\n",
       "      <td>10</td>\n",
       "      <td>0.0</td>\n",
       "      <td>0</td>\n",
       "      <td>0.0</td>\n",
       "      <td>0.0</td>\n",
       "      <td>0.0</td>\n",
       "      <td>...</td>\n",
       "      <td>NaN</td>\n",
       "      <td>NaN</td>\n",
       "      <td>0.0</td>\n",
       "      <td>NaN</td>\n",
       "      <td>Tue Jan 01 00:00:00 EST 2013</td>\n",
       "      <td>Tue Jan 01 00:00:00 EST 2013</td>\n",
       "      <td>NaN</td>\n",
       "      <td>0</td>\n",
       "      <td>0</td>\n",
       "      <td>0</td>\n",
       "    </tr>\n",
       "    <tr>\n",
       "      <th>4</th>\n",
       "      <td>17.347895</td>\n",
       "      <td>0.0</td>\n",
       "      <td>0.0</td>\n",
       "      <td>0.0</td>\n",
       "      <td>17</td>\n",
       "      <td>0.0</td>\n",
       "      <td>0</td>\n",
       "      <td>0.0</td>\n",
       "      <td>0.0</td>\n",
       "      <td>0.0</td>\n",
       "      <td>...</td>\n",
       "      <td>NaN</td>\n",
       "      <td>NaN</td>\n",
       "      <td>0.0</td>\n",
       "      <td>NaN</td>\n",
       "      <td>Tue Jan 01 00:00:00 EST 2013</td>\n",
       "      <td>Tue Jan 01 00:00:00 EST 2013</td>\n",
       "      <td>NaN</td>\n",
       "      <td>0</td>\n",
       "      <td>0</td>\n",
       "      <td>0</td>\n",
       "    </tr>\n",
       "    <tr>\n",
       "      <th>...</th>\n",
       "      <td>...</td>\n",
       "      <td>...</td>\n",
       "      <td>...</td>\n",
       "      <td>...</td>\n",
       "      <td>...</td>\n",
       "      <td>...</td>\n",
       "      <td>...</td>\n",
       "      <td>...</td>\n",
       "      <td>...</td>\n",
       "      <td>...</td>\n",
       "      <td>...</td>\n",
       "      <td>...</td>\n",
       "      <td>...</td>\n",
       "      <td>...</td>\n",
       "      <td>...</td>\n",
       "      <td>...</td>\n",
       "      <td>...</td>\n",
       "      <td>...</td>\n",
       "      <td>...</td>\n",
       "      <td>...</td>\n",
       "      <td>...</td>\n",
       "    </tr>\n",
       "    <tr>\n",
       "      <th>39096</th>\n",
       "      <td>14.982273</td>\n",
       "      <td>0.0</td>\n",
       "      <td>0.0</td>\n",
       "      <td>0.0</td>\n",
       "      <td>19</td>\n",
       "      <td>0.0</td>\n",
       "      <td>0</td>\n",
       "      <td>0.0</td>\n",
       "      <td>0.0</td>\n",
       "      <td>0.0</td>\n",
       "      <td>...</td>\n",
       "      <td>NaN</td>\n",
       "      <td>NaN</td>\n",
       "      <td>0.0</td>\n",
       "      <td>NaN</td>\n",
       "      <td>Tue Jan 01 00:00:00 EST 2013</td>\n",
       "      <td>Tue Jan 01 00:00:00 EST 2013</td>\n",
       "      <td>NaN</td>\n",
       "      <td>0</td>\n",
       "      <td>0</td>\n",
       "      <td>0</td>\n",
       "    </tr>\n",
       "    <tr>\n",
       "      <th>39097</th>\n",
       "      <td>14.330870</td>\n",
       "      <td>0.0</td>\n",
       "      <td>0.0</td>\n",
       "      <td>0.0</td>\n",
       "      <td>20</td>\n",
       "      <td>0.0</td>\n",
       "      <td>0</td>\n",
       "      <td>0.0</td>\n",
       "      <td>0.0</td>\n",
       "      <td>0.0</td>\n",
       "      <td>...</td>\n",
       "      <td>NaN</td>\n",
       "      <td>NaN</td>\n",
       "      <td>0.0</td>\n",
       "      <td>NaN</td>\n",
       "      <td>Tue Jan 01 00:00:00 EST 2013</td>\n",
       "      <td>Tue Jan 01 00:00:00 EST 2013</td>\n",
       "      <td>NaN</td>\n",
       "      <td>0</td>\n",
       "      <td>0</td>\n",
       "      <td>0</td>\n",
       "    </tr>\n",
       "    <tr>\n",
       "      <th>39098</th>\n",
       "      <td>15.695714</td>\n",
       "      <td>0.0</td>\n",
       "      <td>0.0</td>\n",
       "      <td>0.0</td>\n",
       "      <td>18</td>\n",
       "      <td>0.0</td>\n",
       "      <td>0</td>\n",
       "      <td>0.0</td>\n",
       "      <td>0.0</td>\n",
       "      <td>0.0</td>\n",
       "      <td>...</td>\n",
       "      <td>NaN</td>\n",
       "      <td>NaN</td>\n",
       "      <td>0.0</td>\n",
       "      <td>NaN</td>\n",
       "      <td>Tue Jan 01 00:00:00 EST 2013</td>\n",
       "      <td>Tue Jan 01 00:00:00 EST 2013</td>\n",
       "      <td>NaN</td>\n",
       "      <td>0</td>\n",
       "      <td>0</td>\n",
       "      <td>0</td>\n",
       "    </tr>\n",
       "    <tr>\n",
       "      <th>39099</th>\n",
       "      <td>15.695714</td>\n",
       "      <td>0.0</td>\n",
       "      <td>0.0</td>\n",
       "      <td>0.0</td>\n",
       "      <td>18</td>\n",
       "      <td>0.0</td>\n",
       "      <td>0</td>\n",
       "      <td>0.0</td>\n",
       "      <td>0.0</td>\n",
       "      <td>0.0</td>\n",
       "      <td>...</td>\n",
       "      <td>NaN</td>\n",
       "      <td>NaN</td>\n",
       "      <td>0.0</td>\n",
       "      <td>NaN</td>\n",
       "      <td>Tue Jan 01 00:00:00 EST 2013</td>\n",
       "      <td>Tue Jan 01 00:00:00 EST 2013</td>\n",
       "      <td>NaN</td>\n",
       "      <td>0</td>\n",
       "      <td>0</td>\n",
       "      <td>0</td>\n",
       "    </tr>\n",
       "    <tr>\n",
       "      <th>39100</th>\n",
       "      <td>18.311667</td>\n",
       "      <td>0.0</td>\n",
       "      <td>0.0</td>\n",
       "      <td>0.0</td>\n",
       "      <td>16</td>\n",
       "      <td>0.0</td>\n",
       "      <td>0</td>\n",
       "      <td>0.0</td>\n",
       "      <td>0.0</td>\n",
       "      <td>0.0</td>\n",
       "      <td>...</td>\n",
       "      <td>NaN</td>\n",
       "      <td>NaN</td>\n",
       "      <td>0.0</td>\n",
       "      <td>NaN</td>\n",
       "      <td>Tue Jan 01 00:00:00 EST 2013</td>\n",
       "      <td>Tue Jan 01 00:00:00 EST 2013</td>\n",
       "      <td>NaN</td>\n",
       "      <td>0</td>\n",
       "      <td>0</td>\n",
       "      <td>0</td>\n",
       "    </tr>\n",
       "  </tbody>\n",
       "</table>\n",
       "<p>39101 rows × 83 columns</p>\n",
       "</div>"
      ],
      "text/plain": [
       "       barrels08  barrelsA08  charge120  charge240  city08  city08U  cityA08  \\\n",
       "0      15.695714         0.0        0.0        0.0      19      0.0        0   \n",
       "1      29.964545         0.0        0.0        0.0       9      0.0        0   \n",
       "2      12.207778         0.0        0.0        0.0      23      0.0        0   \n",
       "3      29.964545         0.0        0.0        0.0      10      0.0        0   \n",
       "4      17.347895         0.0        0.0        0.0      17      0.0        0   \n",
       "...          ...         ...        ...        ...     ...      ...      ...   \n",
       "39096  14.982273         0.0        0.0        0.0      19      0.0        0   \n",
       "39097  14.330870         0.0        0.0        0.0      20      0.0        0   \n",
       "39098  15.695714         0.0        0.0        0.0      18      0.0        0   \n",
       "39099  15.695714         0.0        0.0        0.0      18      0.0        0   \n",
       "39100  18.311667         0.0        0.0        0.0      16      0.0        0   \n",
       "\n",
       "       cityA08U  cityCD  cityE  ...  mfrCode  c240Dscr  charge240b  c240bDscr  \\\n",
       "0           0.0     0.0    0.0  ...      NaN       NaN         0.0        NaN   \n",
       "1           0.0     0.0    0.0  ...      NaN       NaN         0.0        NaN   \n",
       "2           0.0     0.0    0.0  ...      NaN       NaN         0.0        NaN   \n",
       "3           0.0     0.0    0.0  ...      NaN       NaN         0.0        NaN   \n",
       "4           0.0     0.0    0.0  ...      NaN       NaN         0.0        NaN   \n",
       "...         ...     ...    ...  ...      ...       ...         ...        ...   \n",
       "39096       0.0     0.0    0.0  ...      NaN       NaN         0.0        NaN   \n",
       "39097       0.0     0.0    0.0  ...      NaN       NaN         0.0        NaN   \n",
       "39098       0.0     0.0    0.0  ...      NaN       NaN         0.0        NaN   \n",
       "39099       0.0     0.0    0.0  ...      NaN       NaN         0.0        NaN   \n",
       "39100       0.0     0.0    0.0  ...      NaN       NaN         0.0        NaN   \n",
       "\n",
       "                          createdOn                    modifiedOn  startStop  \\\n",
       "0      Tue Jan 01 00:00:00 EST 2013  Tue Jan 01 00:00:00 EST 2013        NaN   \n",
       "1      Tue Jan 01 00:00:00 EST 2013  Tue Jan 01 00:00:00 EST 2013        NaN   \n",
       "2      Tue Jan 01 00:00:00 EST 2013  Tue Jan 01 00:00:00 EST 2013        NaN   \n",
       "3      Tue Jan 01 00:00:00 EST 2013  Tue Jan 01 00:00:00 EST 2013        NaN   \n",
       "4      Tue Jan 01 00:00:00 EST 2013  Tue Jan 01 00:00:00 EST 2013        NaN   \n",
       "...                             ...                           ...        ...   \n",
       "39096  Tue Jan 01 00:00:00 EST 2013  Tue Jan 01 00:00:00 EST 2013        NaN   \n",
       "39097  Tue Jan 01 00:00:00 EST 2013  Tue Jan 01 00:00:00 EST 2013        NaN   \n",
       "39098  Tue Jan 01 00:00:00 EST 2013  Tue Jan 01 00:00:00 EST 2013        NaN   \n",
       "39099  Tue Jan 01 00:00:00 EST 2013  Tue Jan 01 00:00:00 EST 2013        NaN   \n",
       "39100  Tue Jan 01 00:00:00 EST 2013  Tue Jan 01 00:00:00 EST 2013        NaN   \n",
       "\n",
       "       phevCity  phevHwy  phevComb  \n",
       "0             0        0         0  \n",
       "1             0        0         0  \n",
       "2             0        0         0  \n",
       "3             0        0         0  \n",
       "4             0        0         0  \n",
       "...         ...      ...       ...  \n",
       "39096         0        0         0  \n",
       "39097         0        0         0  \n",
       "39098         0        0         0  \n",
       "39099         0        0         0  \n",
       "39100         0        0         0  \n",
       "\n",
       "[39101 rows x 83 columns]"
      ]
     },
     "execution_count": 60,
     "metadata": {},
     "output_type": "execute_result"
    }
   ],
   "source": [
    "autos = pd.read_csv('data/vehicles.csv.zip')\n",
    "autos"
   ]
  },
  {
   "cell_type": "code",
   "execution_count": 61,
   "metadata": {},
   "outputs": [
    {
     "data": {
      "text/plain": [
       "dtype('O')"
      ]
     },
     "execution_count": 61,
     "metadata": {},
     "output_type": "execute_result"
    }
   ],
   "source": [
    "autos.modifiedOn.dtype"
   ]
  },
  {
   "cell_type": "code",
   "execution_count": 62,
   "metadata": {},
   "outputs": [
    {
     "data": {
      "text/plain": [
       "0        Tue Jan 01 00:00:00 EST 2013\n",
       "1        Tue Jan 01 00:00:00 EST 2013\n",
       "2        Tue Jan 01 00:00:00 EST 2013\n",
       "3        Tue Jan 01 00:00:00 EST 2013\n",
       "4        Tue Jan 01 00:00:00 EST 2013\n",
       "                     ...             \n",
       "39096    Tue Jan 01 00:00:00 EST 2013\n",
       "39097    Tue Jan 01 00:00:00 EST 2013\n",
       "39098    Tue Jan 01 00:00:00 EST 2013\n",
       "39099    Tue Jan 01 00:00:00 EST 2013\n",
       "39100    Tue Jan 01 00:00:00 EST 2013\n",
       "Name: modifiedOn, Length: 39101, dtype: object"
      ]
     },
     "execution_count": 62,
     "metadata": {},
     "output_type": "execute_result"
    }
   ],
   "source": [
    "autos.modifiedOn"
   ]
  },
  {
   "cell_type": "code",
   "execution_count": 63,
   "metadata": {},
   "outputs": [
    {
     "name": "stderr",
     "output_type": "stream",
     "text": [
      "d:\\Python3.11.1\\Lib\\site-packages\\dateutil\\parser\\_parser.py:1207: UnknownTimezoneWarning: tzname EST identified but not understood.  Pass `tzinfos` argument in order to correctly return a timezone-aware datetime.  In a future version, this will raise an exception.\n",
      "  warnings.warn(\"tzname {tzname} identified but not understood.  \"\n",
      "d:\\Python3.11.1\\Lib\\site-packages\\dateutil\\parser\\_parser.py:1207: UnknownTimezoneWarning: tzname EDT identified but not understood.  Pass `tzinfos` argument in order to correctly return a timezone-aware datetime.  In a future version, this will raise an exception.\n",
      "  warnings.warn(\"tzname {tzname} identified but not understood.  \"\n"
     ]
    },
    {
     "data": {
      "text/plain": [
       "0       2013-01-01\n",
       "1       2013-01-01\n",
       "2       2013-01-01\n",
       "3       2013-01-01\n",
       "4       2013-01-01\n",
       "           ...    \n",
       "39096   2013-01-01\n",
       "39097   2013-01-01\n",
       "39098   2013-01-01\n",
       "39099   2013-01-01\n",
       "39100   2013-01-01\n",
       "Name: modifiedOn, Length: 39101, dtype: datetime64[ns]"
      ]
     },
     "execution_count": 63,
     "metadata": {},
     "output_type": "execute_result"
    }
   ],
   "source": [
    "pd.to_datetime(autos.modifiedOn)"
   ]
  },
  {
   "cell_type": "code",
   "execution_count": 64,
   "metadata": {},
   "outputs": [
    {
     "name": "stderr",
     "output_type": "stream",
     "text": [
      "C:\\Users\\JPL-JUNO\\AppData\\Local\\Temp\\ipykernel_10184\\4262703694.py:1: DtypeWarning: Columns (70,71,72,73,74,76,79) have mixed types. Specify dtype option on import or set low_memory=False.\n",
      "  autos = pd.read_csv('data/vehicles.csv.zip', parse_dates=['modifiedOn'])\n",
      "d:\\Python3.11.1\\Lib\\site-packages\\dateutil\\parser\\_parser.py:1207: UnknownTimezoneWarning: tzname EST identified but not understood.  Pass `tzinfos` argument in order to correctly return a timezone-aware datetime.  In a future version, this will raise an exception.\n",
      "  warnings.warn(\"tzname {tzname} identified but not understood.  \"\n",
      "d:\\Python3.11.1\\Lib\\site-packages\\dateutil\\parser\\_parser.py:1207: UnknownTimezoneWarning: tzname EDT identified but not understood.  Pass `tzinfos` argument in order to correctly return a timezone-aware datetime.  In a future version, this will raise an exception.\n",
      "  warnings.warn(\"tzname {tzname} identified but not understood.  \"\n"
     ]
    },
    {
     "data": {
      "text/plain": [
       "0       2013-01-01\n",
       "1       2013-01-01\n",
       "2       2013-01-01\n",
       "3       2013-01-01\n",
       "4       2013-01-01\n",
       "           ...    \n",
       "39096   2013-01-01\n",
       "39097   2013-01-01\n",
       "39098   2013-01-01\n",
       "39099   2013-01-01\n",
       "39100   2013-01-01\n",
       "Name: modifiedOn, Length: 39101, dtype: datetime64[ns]"
      ]
     },
     "execution_count": 64,
     "metadata": {},
     "output_type": "execute_result"
    }
   ],
   "source": [
    "autos = pd.read_csv('data/vehicles.csv.zip', parse_dates=['modifiedOn'])\n",
    "autos.modifiedOn"
   ]
  },
  {
   "cell_type": "markdown",
   "metadata": {},
   "source": [
    "如果 ZIP 文件中有许多文件，则从中读取 CSV 文件会稍微复杂一些。read_csv函数无法指定 ZIP 文件内的文件。相反，我们将使用 Python 标准库中的 `zipfile` 模块。"
   ]
  },
  {
   "cell_type": "code",
   "execution_count": 65,
   "metadata": {},
   "outputs": [],
   "source": [
    "import zipfile"
   ]
  },
  {
   "cell_type": "code",
   "execution_count": 68,
   "metadata": {},
   "outputs": [
    {
     "name": "stdout",
     "output_type": "stream",
     "text": [
      "multipleChoiceResponses.csv\n",
      "freeFormResponses.csv\n",
      "SurveySchema.csv\n"
     ]
    },
    {
     "name": "stderr",
     "output_type": "stream",
     "text": [
      "C:\\Users\\JPL-JUNO\\AppData\\Local\\Temp\\ipykernel_10184\\4000965106.py:3: DtypeWarning: Columns (0,2,8,10,21,23,24,25,26,27,28,44,56,64,83,85,87,107,109,123,125,150,157,172,174,194,210,218,219,223,246,249,262,264,276,277,278,279,280,281,282,283,284,285,286,287,288,289,290,304,306,325,326,329,341,368,371,384,385,389,390,391,393,394) have mixed types. Specify dtype option on import or set low_memory=False.\n",
      "  kag = pd.read_csv(\n"
     ]
    }
   ],
   "source": [
    "with zipfile.ZipFile('data/kaggle-survey-2018.zip') as z:\n",
    "    print('\\n'.join(z.namelist()))\n",
    "    kag = pd.read_csv(\n",
    "        z.open('multipleChoiceResponses.csv')\n",
    "    )\n",
    "    kag_questions = kag.iloc[0]\n",
    "    survey = kag.iloc[1:]"
   ]
  },
  {
   "cell_type": "code",
   "execution_count": 69,
   "metadata": {},
   "outputs": [
    {
     "data": {
      "text/html": [
       "<div>\n",
       "<style scoped>\n",
       "    .dataframe tbody tr th:only-of-type {\n",
       "        vertical-align: middle;\n",
       "    }\n",
       "\n",
       "    .dataframe tbody tr th {\n",
       "        vertical-align: top;\n",
       "    }\n",
       "\n",
       "    .dataframe thead th {\n",
       "        text-align: right;\n",
       "    }\n",
       "</style>\n",
       "<table border=\"1\" class=\"dataframe\">\n",
       "  <thead>\n",
       "    <tr style=\"text-align: right;\">\n",
       "      <th></th>\n",
       "      <th>1</th>\n",
       "      <th>2</th>\n",
       "    </tr>\n",
       "  </thead>\n",
       "  <tbody>\n",
       "    <tr>\n",
       "      <th>Time from Start to Finish (seconds)</th>\n",
       "      <td>710</td>\n",
       "      <td>434</td>\n",
       "    </tr>\n",
       "    <tr>\n",
       "      <th>Q1</th>\n",
       "      <td>Female</td>\n",
       "      <td>Male</td>\n",
       "    </tr>\n",
       "    <tr>\n",
       "      <th>Q1_OTHER_TEXT</th>\n",
       "      <td>-1</td>\n",
       "      <td>-1</td>\n",
       "    </tr>\n",
       "    <tr>\n",
       "      <th>Q2</th>\n",
       "      <td>45-49</td>\n",
       "      <td>30-34</td>\n",
       "    </tr>\n",
       "    <tr>\n",
       "      <th>Q3</th>\n",
       "      <td>United States of America</td>\n",
       "      <td>Indonesia</td>\n",
       "    </tr>\n",
       "    <tr>\n",
       "      <th>...</th>\n",
       "      <td>...</td>\n",
       "      <td>...</td>\n",
       "    </tr>\n",
       "    <tr>\n",
       "      <th>Q50_Part_5</th>\n",
       "      <td>NaN</td>\n",
       "      <td>NaN</td>\n",
       "    </tr>\n",
       "    <tr>\n",
       "      <th>Q50_Part_6</th>\n",
       "      <td>NaN</td>\n",
       "      <td>NaN</td>\n",
       "    </tr>\n",
       "    <tr>\n",
       "      <th>Q50_Part_7</th>\n",
       "      <td>NaN</td>\n",
       "      <td>NaN</td>\n",
       "    </tr>\n",
       "    <tr>\n",
       "      <th>Q50_Part_8</th>\n",
       "      <td>NaN</td>\n",
       "      <td>NaN</td>\n",
       "    </tr>\n",
       "    <tr>\n",
       "      <th>Q50_OTHER_TEXT</th>\n",
       "      <td>-1</td>\n",
       "      <td>-1</td>\n",
       "    </tr>\n",
       "  </tbody>\n",
       "</table>\n",
       "<p>395 rows × 2 columns</p>\n",
       "</div>"
      ],
      "text/plain": [
       "                                                            1          2\n",
       "Time from Start to Finish (seconds)                       710        434\n",
       "Q1                                                     Female       Male\n",
       "Q1_OTHER_TEXT                                              -1         -1\n",
       "Q2                                                      45-49      30-34\n",
       "Q3                                   United States of America  Indonesia\n",
       "...                                                       ...        ...\n",
       "Q50_Part_5                                                NaN        NaN\n",
       "Q50_Part_6                                                NaN        NaN\n",
       "Q50_Part_7                                                NaN        NaN\n",
       "Q50_Part_8                                                NaN        NaN\n",
       "Q50_OTHER_TEXT                                             -1         -1\n",
       "\n",
       "[395 rows x 2 columns]"
      ]
     },
     "execution_count": 69,
     "metadata": {},
     "output_type": "execute_result"
    }
   ],
   "source": [
    "survey.head(2).T"
   ]
  },
  {
   "cell_type": "markdown",
   "metadata": {},
   "source": [
    "## 使用数据库"
   ]
  },
  {
   "cell_type": "code",
   "execution_count": 81,
   "metadata": {},
   "outputs": [],
   "source": [
    "import sqlite3\n",
    "con = sqlite3.connect('data/beat.db')\n",
    "with con:\n",
    "    cur = con.cursor()\n",
    "    cur.execute('DROP TABLE IF EXISTS Band;')\n",
    "    cur.execute(\n",
    "    \"\"\"\n",
    "    CREATE TABLE Band(id INTEGER PRIMARY KEY,\n",
    "    fname TEXT, lname TEXT, birthyear INT)\n",
    "    \"\"\"\n",
    "    )\n",
    "    cur.execute(\n",
    "    \"\"\"INSERT INTO Band VALUES(\n",
    "        0, 'Paul', 'McCartney', 1942\n",
    "    )\n",
    "    \"\"\"\n",
    "    )\n",
    "    cur.execute(\"\"\"INSERT INTO Band VALUES(\n",
    "        1, 'John', 'Lennon', 1940)\"\"\")\n",
    "    _ = con.commit()"
   ]
  },
  {
   "cell_type": "code",
   "execution_count": 84,
   "metadata": {},
   "outputs": [
    {
     "name": "stdout",
     "output_type": "stream",
     "text": [
      "2024-07-22 14:08:57,683 INFO sqlalchemy.engine.Engine PRAGMA main.table_info(\"Band\")\n",
      "2024-07-22 14:08:57,684 INFO sqlalchemy.engine.Engine [raw sql] ()\n",
      "2024-07-22 14:08:57,686 INFO sqlalchemy.engine.Engine SELECT name FROM sqlite_master WHERE type='table' ORDER BY name\n",
      "2024-07-22 14:08:57,686 INFO sqlalchemy.engine.Engine [raw sql] ()\n",
      "2024-07-22 14:08:57,687 INFO sqlalchemy.engine.Engine PRAGMA main.table_xinfo(\"Band\")\n",
      "2024-07-22 14:08:57,688 INFO sqlalchemy.engine.Engine [raw sql] ()\n",
      "2024-07-22 14:08:57,691 INFO sqlalchemy.engine.Engine SELECT sql FROM  (SELECT * FROM sqlite_master UNION ALL   SELECT * FROM sqlite_temp_master) WHERE name = ? AND type = 'table'\n",
      "2024-07-22 14:08:57,693 INFO sqlalchemy.engine.Engine [raw sql] ('Band',)\n",
      "2024-07-22 14:08:57,694 INFO sqlalchemy.engine.Engine PRAGMA main.foreign_key_list(\"Band\")\n",
      "2024-07-22 14:08:57,695 INFO sqlalchemy.engine.Engine [raw sql] ()\n",
      "2024-07-22 14:08:57,696 INFO sqlalchemy.engine.Engine PRAGMA temp.foreign_key_list(\"Band\")\n",
      "2024-07-22 14:08:57,697 INFO sqlalchemy.engine.Engine [raw sql] ()\n",
      "2024-07-22 14:08:57,698 INFO sqlalchemy.engine.Engine SELECT sql FROM  (SELECT * FROM sqlite_master UNION ALL   SELECT * FROM sqlite_temp_master) WHERE name = ? AND type = 'table'\n",
      "2024-07-22 14:08:57,698 INFO sqlalchemy.engine.Engine [raw sql] ('Band',)\n",
      "2024-07-22 14:08:57,700 INFO sqlalchemy.engine.Engine PRAGMA main.index_list(\"Band\")\n",
      "2024-07-22 14:08:57,701 INFO sqlalchemy.engine.Engine [raw sql] ()\n",
      "2024-07-22 14:08:57,703 INFO sqlalchemy.engine.Engine PRAGMA temp.index_list(\"Band\")\n",
      "2024-07-22 14:08:57,704 INFO sqlalchemy.engine.Engine [raw sql] ()\n",
      "2024-07-22 14:08:57,705 INFO sqlalchemy.engine.Engine PRAGMA main.index_list(\"Band\")\n",
      "2024-07-22 14:08:57,705 INFO sqlalchemy.engine.Engine [raw sql] ()\n",
      "2024-07-22 14:08:57,705 INFO sqlalchemy.engine.Engine PRAGMA temp.index_list(\"Band\")\n",
      "2024-07-22 14:08:57,705 INFO sqlalchemy.engine.Engine [raw sql] ()\n",
      "2024-07-22 14:08:57,705 INFO sqlalchemy.engine.Engine SELECT sql FROM  (SELECT * FROM sqlite_master UNION ALL   SELECT * FROM sqlite_temp_master) WHERE name = ? AND type = 'table'\n",
      "2024-07-22 14:08:57,711 INFO sqlalchemy.engine.Engine [raw sql] ('Band',)\n",
      "2024-07-22 14:08:57,714 INFO sqlalchemy.engine.Engine SELECT \"Band\".id, \"Band\".fname, \"Band\".lname, \"Band\".birthyear \n",
      "FROM \"Band\"\n",
      "2024-07-22 14:08:57,716 INFO sqlalchemy.engine.Engine [generated in 0.00196s] ()\n"
     ]
    },
    {
     "data": {
      "text/html": [
       "<div>\n",
       "<style scoped>\n",
       "    .dataframe tbody tr th:only-of-type {\n",
       "        vertical-align: middle;\n",
       "    }\n",
       "\n",
       "    .dataframe tbody tr th {\n",
       "        vertical-align: top;\n",
       "    }\n",
       "\n",
       "    .dataframe thead th {\n",
       "        text-align: right;\n",
       "    }\n",
       "</style>\n",
       "<table border=\"1\" class=\"dataframe\">\n",
       "  <thead>\n",
       "    <tr style=\"text-align: right;\">\n",
       "      <th></th>\n",
       "      <th>fname</th>\n",
       "      <th>lname</th>\n",
       "      <th>birthyear</th>\n",
       "    </tr>\n",
       "    <tr>\n",
       "      <th>id</th>\n",
       "      <th></th>\n",
       "      <th></th>\n",
       "      <th></th>\n",
       "    </tr>\n",
       "  </thead>\n",
       "  <tbody>\n",
       "    <tr>\n",
       "      <th>0</th>\n",
       "      <td>Paul</td>\n",
       "      <td>McCartney</td>\n",
       "      <td>1942</td>\n",
       "    </tr>\n",
       "    <tr>\n",
       "      <th>1</th>\n",
       "      <td>John</td>\n",
       "      <td>Lennon</td>\n",
       "      <td>1940</td>\n",
       "    </tr>\n",
       "  </tbody>\n",
       "</table>\n",
       "</div>"
      ],
      "text/plain": [
       "   fname      lname  birthyear\n",
       "id                            \n",
       "0   Paul  McCartney       1942\n",
       "1   John     Lennon       1940"
      ]
     },
     "execution_count": 84,
     "metadata": {},
     "output_type": "execute_result"
    }
   ],
   "source": [
    "import sqlalchemy as sa\n",
    "\n",
    "engine = sa.create_engine(\n",
    "    \"sqlite:///data/beat.db\", echo=True\n",
    ")\n",
    "sa_connection = engine.connect()\n",
    "beat = pd.read_sql(\n",
    "    'Band', sa_connection, index_col='id'\n",
    ")\n",
    "beat"
   ]
  },
  {
   "cell_type": "code",
   "execution_count": 85,
   "metadata": {},
   "outputs": [
    {
     "data": {
      "text/html": [
       "<div>\n",
       "<style scoped>\n",
       "    .dataframe tbody tr th:only-of-type {\n",
       "        vertical-align: middle;\n",
       "    }\n",
       "\n",
       "    .dataframe tbody tr th {\n",
       "        vertical-align: top;\n",
       "    }\n",
       "\n",
       "    .dataframe thead th {\n",
       "        text-align: right;\n",
       "    }\n",
       "</style>\n",
       "<table border=\"1\" class=\"dataframe\">\n",
       "  <thead>\n",
       "    <tr style=\"text-align: right;\">\n",
       "      <th></th>\n",
       "      <th>fname</th>\n",
       "      <th>birthyear</th>\n",
       "    </tr>\n",
       "  </thead>\n",
       "  <tbody>\n",
       "    <tr>\n",
       "      <th>0</th>\n",
       "      <td>Paul</td>\n",
       "      <td>1942</td>\n",
       "    </tr>\n",
       "    <tr>\n",
       "      <th>1</th>\n",
       "      <td>John</td>\n",
       "      <td>1940</td>\n",
       "    </tr>\n",
       "  </tbody>\n",
       "</table>\n",
       "</div>"
      ],
      "text/plain": [
       "  fname  birthyear\n",
       "0  Paul       1942\n",
       "1  John       1940"
      ]
     },
     "execution_count": 85,
     "metadata": {},
     "output_type": "execute_result"
    }
   ],
   "source": [
    "sql = \"SELECT fname, birthyear from Band\"\n",
    "fnames = pd.read_sql(sql, con)\n",
    "fnames"
   ]
  },
  {
   "cell_type": "markdown",
   "metadata": {},
   "source": [
    "## 读取 JSON"
   ]
  },
  {
   "cell_type": "markdown",
   "metadata": {},
   "source": [
    "JavaScript 对象表示法(JSON)是一种用于通过互联网传输数据的常见格式。与名称相反，它不需要 JavaScript 来读取或创建。Python 标准库附带了 json 库，该库将对 JSON 进行编码和解码："
   ]
  },
  {
   "cell_type": "code",
   "execution_count": 86,
   "metadata": {},
   "outputs": [
    {
     "data": {
      "text/plain": [
       "'{\"first\": [\"Paul\", \"John\", \"Richard\", \"George\"], \"last\": [\"Paul\", \"John\", \"Richard\", \"George\"], \"birth\": [1942, 1940, 1940, 1943]}'"
      ]
     },
     "execution_count": 86,
     "metadata": {},
     "output_type": "execute_result"
    }
   ],
   "source": [
    "import json\n",
    "encoded = json.dumps(people)\n",
    "encoded"
   ]
  },
  {
   "cell_type": "code",
   "execution_count": 87,
   "metadata": {},
   "outputs": [
    {
     "data": {
      "text/plain": [
       "{'first': ['Paul', 'John', 'Richard', 'George'],\n",
       " 'last': ['Paul', 'John', 'Richard', 'George'],\n",
       " 'birth': [1942, 1940, 1940, 1943]}"
      ]
     },
     "execution_count": 87,
     "metadata": {},
     "output_type": "execute_result"
    }
   ],
   "source": [
    "json.loads(encoded)"
   ]
  },
  {
   "cell_type": "markdown",
   "metadata": {},
   "source": [
    "使用 read_json 函数读取数据。如果您的 JSON 是字典映射到列表的形式，则可以毫不费力地提取它。这种方向在 pandas 中称为列："
   ]
  },
  {
   "cell_type": "code",
   "execution_count": 88,
   "metadata": {},
   "outputs": [
    {
     "data": {
      "text/html": [
       "<div>\n",
       "<style scoped>\n",
       "    .dataframe tbody tr th:only-of-type {\n",
       "        vertical-align: middle;\n",
       "    }\n",
       "\n",
       "    .dataframe tbody tr th {\n",
       "        vertical-align: top;\n",
       "    }\n",
       "\n",
       "    .dataframe thead th {\n",
       "        text-align: right;\n",
       "    }\n",
       "</style>\n",
       "<table border=\"1\" class=\"dataframe\">\n",
       "  <thead>\n",
       "    <tr style=\"text-align: right;\">\n",
       "      <th></th>\n",
       "      <th>first</th>\n",
       "      <th>last</th>\n",
       "      <th>birth</th>\n",
       "    </tr>\n",
       "  </thead>\n",
       "  <tbody>\n",
       "    <tr>\n",
       "      <th>0</th>\n",
       "      <td>Paul</td>\n",
       "      <td>Paul</td>\n",
       "      <td>1942</td>\n",
       "    </tr>\n",
       "    <tr>\n",
       "      <th>1</th>\n",
       "      <td>John</td>\n",
       "      <td>John</td>\n",
       "      <td>1940</td>\n",
       "    </tr>\n",
       "    <tr>\n",
       "      <th>2</th>\n",
       "      <td>Richard</td>\n",
       "      <td>Richard</td>\n",
       "      <td>1940</td>\n",
       "    </tr>\n",
       "    <tr>\n",
       "      <th>3</th>\n",
       "      <td>George</td>\n",
       "      <td>George</td>\n",
       "      <td>1943</td>\n",
       "    </tr>\n",
       "  </tbody>\n",
       "</table>\n",
       "</div>"
      ],
      "text/plain": [
       "     first     last  birth\n",
       "0     Paul     Paul   1942\n",
       "1     John     John   1940\n",
       "2  Richard  Richard   1940\n",
       "3   George   George   1943"
      ]
     },
     "execution_count": 88,
     "metadata": {},
     "output_type": "execute_result"
    }
   ],
   "source": [
    "beatles = pd.read_json(encoded)\n",
    "beatles"
   ]
  },
  {
   "cell_type": "markdown",
   "metadata": {},
   "source": [
    "读取 JSON 时要注意的一点是，它需要采用特定的格式，以便 pandas 加载它。但是，pandas 支持面向几种样式的数据。"
   ]
  },
  {
   "cell_type": "markdown",
   "metadata": {},
   "source": [
    "- columns – （默认）列名到列中值列表的映射。\n",
    "- records – 行列表。每行都是将列映射到值的字典。\n",
    "- values – 每行数据的列表（每行也是一个列表）。这不包括列或索引值。\n",
    "- split – 列到列名、索引到索引值以及数据到每行数据列表的映射（每行也是一个表）。\n",
    "- index – 索引值到行的映射。行是将列映射到值的字典。\n",
    "- table – 模式到 DataFrame 模式的映射，以及数据到字典列表的映射。"
   ]
  },
  {
   "cell_type": "code",
   "execution_count": 89,
   "metadata": {},
   "outputs": [
    {
     "data": {
      "text/plain": [
       "'[{\"first\":\"Paul\",\"last\":\"Paul\",\"birth\":1942},{\"first\":\"John\",\"last\":\"John\",\"birth\":1940},{\"first\":\"Richard\",\"last\":\"Richard\",\"birth\":1940},{\"first\":\"George\",\"last\":\"George\",\"birth\":1943}]'"
      ]
     },
     "execution_count": 89,
     "metadata": {},
     "output_type": "execute_result"
    }
   ],
   "source": [
    "records = beatles.to_json(orient='records')\n",
    "records\n",
    "# list[dict[str:str]]"
   ]
  },
  {
   "cell_type": "code",
   "execution_count": 90,
   "metadata": {},
   "outputs": [
    {
     "data": {
      "text/html": [
       "<div>\n",
       "<style scoped>\n",
       "    .dataframe tbody tr th:only-of-type {\n",
       "        vertical-align: middle;\n",
       "    }\n",
       "\n",
       "    .dataframe tbody tr th {\n",
       "        vertical-align: top;\n",
       "    }\n",
       "\n",
       "    .dataframe thead th {\n",
       "        text-align: right;\n",
       "    }\n",
       "</style>\n",
       "<table border=\"1\" class=\"dataframe\">\n",
       "  <thead>\n",
       "    <tr style=\"text-align: right;\">\n",
       "      <th></th>\n",
       "      <th>first</th>\n",
       "      <th>last</th>\n",
       "      <th>birth</th>\n",
       "    </tr>\n",
       "  </thead>\n",
       "  <tbody>\n",
       "    <tr>\n",
       "      <th>0</th>\n",
       "      <td>Paul</td>\n",
       "      <td>Paul</td>\n",
       "      <td>1942</td>\n",
       "    </tr>\n",
       "    <tr>\n",
       "      <th>1</th>\n",
       "      <td>John</td>\n",
       "      <td>John</td>\n",
       "      <td>1940</td>\n",
       "    </tr>\n",
       "    <tr>\n",
       "      <th>2</th>\n",
       "      <td>Richard</td>\n",
       "      <td>Richard</td>\n",
       "      <td>1940</td>\n",
       "    </tr>\n",
       "    <tr>\n",
       "      <th>3</th>\n",
       "      <td>George</td>\n",
       "      <td>George</td>\n",
       "      <td>1943</td>\n",
       "    </tr>\n",
       "  </tbody>\n",
       "</table>\n",
       "</div>"
      ],
      "text/plain": [
       "     first     last  birth\n",
       "0     Paul     Paul   1942\n",
       "1     John     John   1940\n",
       "2  Richard  Richard   1940\n",
       "3   George   George   1943"
      ]
     },
     "execution_count": 90,
     "metadata": {},
     "output_type": "execute_result"
    }
   ],
   "source": [
    "pd.read_json(records, orient='records')"
   ]
  },
  {
   "cell_type": "code",
   "execution_count": 91,
   "metadata": {},
   "outputs": [
    {
     "data": {
      "text/plain": [
       "'{\"columns\":[\"first\",\"last\",\"birth\"],\"index\":[0,1,2,3],\"data\":[[\"Paul\",\"Paul\",1942],[\"John\",\"John\",1940],[\"Richard\",\"Richard\",1940],[\"George\",\"George\",1943]]}'"
      ]
     },
     "execution_count": 91,
     "metadata": {},
     "output_type": "execute_result"
    }
   ],
   "source": [
    "split = beatles.to_json(orient='split')\n",
    "split\n",
    "# dict[str:list]"
   ]
  },
  {
   "cell_type": "code",
   "execution_count": 92,
   "metadata": {},
   "outputs": [
    {
     "data": {
      "text/html": [
       "<div>\n",
       "<style scoped>\n",
       "    .dataframe tbody tr th:only-of-type {\n",
       "        vertical-align: middle;\n",
       "    }\n",
       "\n",
       "    .dataframe tbody tr th {\n",
       "        vertical-align: top;\n",
       "    }\n",
       "\n",
       "    .dataframe thead th {\n",
       "        text-align: right;\n",
       "    }\n",
       "</style>\n",
       "<table border=\"1\" class=\"dataframe\">\n",
       "  <thead>\n",
       "    <tr style=\"text-align: right;\">\n",
       "      <th></th>\n",
       "      <th>first</th>\n",
       "      <th>last</th>\n",
       "      <th>birth</th>\n",
       "    </tr>\n",
       "  </thead>\n",
       "  <tbody>\n",
       "    <tr>\n",
       "      <th>0</th>\n",
       "      <td>Paul</td>\n",
       "      <td>Paul</td>\n",
       "      <td>1942</td>\n",
       "    </tr>\n",
       "    <tr>\n",
       "      <th>1</th>\n",
       "      <td>John</td>\n",
       "      <td>John</td>\n",
       "      <td>1940</td>\n",
       "    </tr>\n",
       "    <tr>\n",
       "      <th>2</th>\n",
       "      <td>Richard</td>\n",
       "      <td>Richard</td>\n",
       "      <td>1940</td>\n",
       "    </tr>\n",
       "    <tr>\n",
       "      <th>3</th>\n",
       "      <td>George</td>\n",
       "      <td>George</td>\n",
       "      <td>1943</td>\n",
       "    </tr>\n",
       "  </tbody>\n",
       "</table>\n",
       "</div>"
      ],
      "text/plain": [
       "     first     last  birth\n",
       "0     Paul     Paul   1942\n",
       "1     John     John   1940\n",
       "2  Richard  Richard   1940\n",
       "3   George   George   1943"
      ]
     },
     "execution_count": 92,
     "metadata": {},
     "output_type": "execute_result"
    }
   ],
   "source": [
    "pd.read_json(split, orient='split')"
   ]
  },
  {
   "cell_type": "code",
   "execution_count": 100,
   "metadata": {},
   "outputs": [
    {
     "data": {
      "text/plain": [
       "'{\"0\":{\"first\":\"Paul\",\"last\":\"Paul\",\"birth\":1942},\"1\":{\"first\":\"John\",\"last\":\"John\",\"birth\":1940},\"2\":{\"first\":\"Richard\",\"last\":\"Richard\",\"birth\":1940},\"3\":{\"first\":\"George\",\"last\":\"George\",\"birth\":1943}}'"
      ]
     },
     "execution_count": 100,
     "metadata": {},
     "output_type": "execute_result"
    }
   ],
   "source": [
    "index = beatles.to_json(orient='index')\n",
    "index\n",
    "# dict[str:dict]"
   ]
  },
  {
   "cell_type": "code",
   "execution_count": 94,
   "metadata": {},
   "outputs": [
    {
     "data": {
      "text/html": [
       "<div>\n",
       "<style scoped>\n",
       "    .dataframe tbody tr th:only-of-type {\n",
       "        vertical-align: middle;\n",
       "    }\n",
       "\n",
       "    .dataframe tbody tr th {\n",
       "        vertical-align: top;\n",
       "    }\n",
       "\n",
       "    .dataframe thead th {\n",
       "        text-align: right;\n",
       "    }\n",
       "</style>\n",
       "<table border=\"1\" class=\"dataframe\">\n",
       "  <thead>\n",
       "    <tr style=\"text-align: right;\">\n",
       "      <th></th>\n",
       "      <th>first</th>\n",
       "      <th>last</th>\n",
       "      <th>birth</th>\n",
       "    </tr>\n",
       "  </thead>\n",
       "  <tbody>\n",
       "    <tr>\n",
       "      <th>0</th>\n",
       "      <td>Paul</td>\n",
       "      <td>Paul</td>\n",
       "      <td>1942</td>\n",
       "    </tr>\n",
       "    <tr>\n",
       "      <th>1</th>\n",
       "      <td>John</td>\n",
       "      <td>John</td>\n",
       "      <td>1940</td>\n",
       "    </tr>\n",
       "    <tr>\n",
       "      <th>2</th>\n",
       "      <td>Richard</td>\n",
       "      <td>Richard</td>\n",
       "      <td>1940</td>\n",
       "    </tr>\n",
       "    <tr>\n",
       "      <th>3</th>\n",
       "      <td>George</td>\n",
       "      <td>George</td>\n",
       "      <td>1943</td>\n",
       "    </tr>\n",
       "  </tbody>\n",
       "</table>\n",
       "</div>"
      ],
      "text/plain": [
       "     first     last  birth\n",
       "0     Paul     Paul   1942\n",
       "1     John     John   1940\n",
       "2  Richard  Richard   1940\n",
       "3   George   George   1943"
      ]
     },
     "execution_count": 94,
     "metadata": {},
     "output_type": "execute_result"
    }
   ],
   "source": [
    "pd.read_json(index, orient='index')"
   ]
  },
  {
   "cell_type": "code",
   "execution_count": 95,
   "metadata": {},
   "outputs": [
    {
     "data": {
      "text/plain": [
       "'[[\"Paul\",\"Paul\",1942],[\"John\",\"John\",1940],[\"Richard\",\"Richard\",1940],[\"George\",\"George\",1943]]'"
      ]
     },
     "execution_count": 95,
     "metadata": {},
     "output_type": "execute_result"
    }
   ],
   "source": [
    "values = beatles.to_json(orient='values')\n",
    "values\n",
    "# list[list]"
   ]
  },
  {
   "cell_type": "code",
   "execution_count": 96,
   "metadata": {},
   "outputs": [
    {
     "data": {
      "text/html": [
       "<div>\n",
       "<style scoped>\n",
       "    .dataframe tbody tr th:only-of-type {\n",
       "        vertical-align: middle;\n",
       "    }\n",
       "\n",
       "    .dataframe tbody tr th {\n",
       "        vertical-align: top;\n",
       "    }\n",
       "\n",
       "    .dataframe thead th {\n",
       "        text-align: right;\n",
       "    }\n",
       "</style>\n",
       "<table border=\"1\" class=\"dataframe\">\n",
       "  <thead>\n",
       "    <tr style=\"text-align: right;\">\n",
       "      <th></th>\n",
       "      <th>0</th>\n",
       "      <th>1</th>\n",
       "      <th>2</th>\n",
       "    </tr>\n",
       "  </thead>\n",
       "  <tbody>\n",
       "    <tr>\n",
       "      <th>0</th>\n",
       "      <td>Paul</td>\n",
       "      <td>Paul</td>\n",
       "      <td>1942</td>\n",
       "    </tr>\n",
       "    <tr>\n",
       "      <th>1</th>\n",
       "      <td>John</td>\n",
       "      <td>John</td>\n",
       "      <td>1940</td>\n",
       "    </tr>\n",
       "    <tr>\n",
       "      <th>2</th>\n",
       "      <td>Richard</td>\n",
       "      <td>Richard</td>\n",
       "      <td>1940</td>\n",
       "    </tr>\n",
       "    <tr>\n",
       "      <th>3</th>\n",
       "      <td>George</td>\n",
       "      <td>George</td>\n",
       "      <td>1943</td>\n",
       "    </tr>\n",
       "  </tbody>\n",
       "</table>\n",
       "</div>"
      ],
      "text/plain": [
       "         0        1     2\n",
       "0     Paul     Paul  1942\n",
       "1     John     John  1940\n",
       "2  Richard  Richard  1940\n",
       "3   George   George  1943"
      ]
     },
     "execution_count": 96,
     "metadata": {},
     "output_type": "execute_result"
    }
   ],
   "source": [
    "pd.read_json(values, orient='values')"
   ]
  },
  {
   "cell_type": "code",
   "execution_count": 97,
   "metadata": {},
   "outputs": [
    {
     "data": {
      "text/plain": [
       "'{\"schema\":{\"fields\":[{\"name\":\"index\",\"type\":\"integer\"},{\"name\":\"first\",\"type\":\"string\"},{\"name\":\"last\",\"type\":\"string\"},{\"name\":\"birth\",\"type\":\"integer\"}],\"primaryKey\":[\"index\"],\"pandas_version\":\"1.4.0\"},\"data\":[{\"index\":0,\"first\":\"Paul\",\"last\":\"Paul\",\"birth\":1942},{\"index\":1,\"first\":\"John\",\"last\":\"John\",\"birth\":1940},{\"index\":2,\"first\":\"Richard\",\"last\":\"Richard\",\"birth\":1940},{\"index\":3,\"first\":\"George\",\"last\":\"George\",\"birth\":1943}]}'"
      ]
     },
     "execution_count": 97,
     "metadata": {},
     "output_type": "execute_result"
    }
   ],
   "source": [
    "table = beatles.to_json(orient='table')\n",
    "table"
   ]
  },
  {
   "cell_type": "code",
   "execution_count": 98,
   "metadata": {},
   "outputs": [
    {
     "data": {
      "text/html": [
       "<div>\n",
       "<style scoped>\n",
       "    .dataframe tbody tr th:only-of-type {\n",
       "        vertical-align: middle;\n",
       "    }\n",
       "\n",
       "    .dataframe tbody tr th {\n",
       "        vertical-align: top;\n",
       "    }\n",
       "\n",
       "    .dataframe thead th {\n",
       "        text-align: right;\n",
       "    }\n",
       "</style>\n",
       "<table border=\"1\" class=\"dataframe\">\n",
       "  <thead>\n",
       "    <tr style=\"text-align: right;\">\n",
       "      <th></th>\n",
       "      <th>first</th>\n",
       "      <th>last</th>\n",
       "      <th>birth</th>\n",
       "    </tr>\n",
       "  </thead>\n",
       "  <tbody>\n",
       "    <tr>\n",
       "      <th>0</th>\n",
       "      <td>Paul</td>\n",
       "      <td>Paul</td>\n",
       "      <td>1942</td>\n",
       "    </tr>\n",
       "    <tr>\n",
       "      <th>1</th>\n",
       "      <td>John</td>\n",
       "      <td>John</td>\n",
       "      <td>1940</td>\n",
       "    </tr>\n",
       "    <tr>\n",
       "      <th>2</th>\n",
       "      <td>Richard</td>\n",
       "      <td>Richard</td>\n",
       "      <td>1940</td>\n",
       "    </tr>\n",
       "    <tr>\n",
       "      <th>3</th>\n",
       "      <td>George</td>\n",
       "      <td>George</td>\n",
       "      <td>1943</td>\n",
       "    </tr>\n",
       "  </tbody>\n",
       "</table>\n",
       "</div>"
      ],
      "text/plain": [
       "     first     last  birth\n",
       "0     Paul     Paul   1942\n",
       "1     John     John   1940\n",
       "2  Richard  Richard   1940\n",
       "3   George   George   1943"
      ]
     },
     "execution_count": 98,
     "metadata": {},
     "output_type": "execute_result"
    }
   ],
   "source": [
    "pd.read_json(table, orient='table')"
   ]
  },
  {
   "cell_type": "markdown",
   "metadata": {},
   "source": [
    "如果您正在开发 Web 服务并需要向 JSON 添加其他数据，只需使用 `.to_dict` 方法生成字典。您可以将新数据添加到字典中，然后将该字典转换为 JSON："
   ]
  },
  {
   "cell_type": "code",
   "execution_count": 101,
   "metadata": {},
   "outputs": [
    {
     "data": {
      "text/plain": [
       "{'fname': {0: 'Paul', 1: 'John'},\n",
       " 'lname': {0: 'McCartney', 1: 'Lennon'},\n",
       " 'birthyear': {0: 1942, 1: 1940}}"
      ]
     },
     "execution_count": 101,
     "metadata": {},
     "output_type": "execute_result"
    }
   ],
   "source": [
    "output = beat.to_dict()\n",
    "output"
   ]
  },
  {
   "cell_type": "code",
   "execution_count": 102,
   "metadata": {},
   "outputs": [
    {
     "data": {
      "text/plain": [
       "'{\"fname\": {\"0\": \"Paul\", \"1\": \"John\"}, \"lname\": {\"0\": \"McCartney\", \"1\": \"Lennon\"}, \"birthyear\": {\"0\": 1942, \"1\": 1940}, \"version\": \"0.4.1\"}'"
      ]
     },
     "execution_count": 102,
     "metadata": {},
     "output_type": "execute_result"
    }
   ],
   "source": [
    "output['version'] = '0.4.1'\n",
    "json.dumps(output)"
   ]
  },
  {
   "cell_type": "markdown",
   "metadata": {},
   "source": [
    "## 读取 HTML 表格"
   ]
  },
  {
   "cell_type": "markdown",
   "metadata": {},
   "source": [
    "以使用 pandas 读取网站上的 HTML 表格。这样可以轻松提取维基百科或其他网站上的表格。"
   ]
  },
  {
   "cell_type": "code",
   "execution_count": 104,
   "metadata": {},
   "outputs": [
    {
     "data": {
      "text/plain": [
       "60"
      ]
     },
     "execution_count": 104,
     "metadata": {},
     "output_type": "execute_result"
    }
   ],
   "source": [
    "url = 'https://en.wikipedia.org/wiki/The_Beatles_discography'\n",
    "dfs = pd.read_html(url)\n",
    "len(dfs)"
   ]
  },
  {
   "cell_type": "code",
   "execution_count": 105,
   "metadata": {},
   "outputs": [
    {
     "data": {
      "text/html": [
       "<div>\n",
       "<style scoped>\n",
       "    .dataframe tbody tr th:only-of-type {\n",
       "        vertical-align: middle;\n",
       "    }\n",
       "\n",
       "    .dataframe tbody tr th {\n",
       "        vertical-align: top;\n",
       "    }\n",
       "\n",
       "    .dataframe thead th {\n",
       "        text-align: right;\n",
       "    }\n",
       "</style>\n",
       "<table border=\"1\" class=\"dataframe\">\n",
       "  <thead>\n",
       "    <tr style=\"text-align: right;\">\n",
       "      <th></th>\n",
       "      <th>The Beatles discography</th>\n",
       "      <th>The Beatles discography.1</th>\n",
       "    </tr>\n",
       "  </thead>\n",
       "  <tbody>\n",
       "    <tr>\n",
       "      <th>0</th>\n",
       "      <td>The Beatles in 1965</td>\n",
       "      <td>The Beatles in 1965</td>\n",
       "    </tr>\n",
       "    <tr>\n",
       "      <th>1</th>\n",
       "      <td>Studio albums</td>\n",
       "      <td>12 (UK), 17 (US)</td>\n",
       "    </tr>\n",
       "    <tr>\n",
       "      <th>2</th>\n",
       "      <td>Live albums</td>\n",
       "      <td>5</td>\n",
       "    </tr>\n",
       "    <tr>\n",
       "      <th>3</th>\n",
       "      <td>Compilation albums</td>\n",
       "      <td>51</td>\n",
       "    </tr>\n",
       "    <tr>\n",
       "      <th>4</th>\n",
       "      <td>Video albums</td>\n",
       "      <td>22</td>\n",
       "    </tr>\n",
       "    <tr>\n",
       "      <th>5</th>\n",
       "      <td>Music videos</td>\n",
       "      <td>53</td>\n",
       "    </tr>\n",
       "    <tr>\n",
       "      <th>6</th>\n",
       "      <td>EPs</td>\n",
       "      <td>36</td>\n",
       "    </tr>\n",
       "    <tr>\n",
       "      <th>7</th>\n",
       "      <td>Singles</td>\n",
       "      <td>63</td>\n",
       "    </tr>\n",
       "    <tr>\n",
       "      <th>8</th>\n",
       "      <td>Mash-ups</td>\n",
       "      <td>2</td>\n",
       "    </tr>\n",
       "    <tr>\n",
       "      <th>9</th>\n",
       "      <td>Box sets</td>\n",
       "      <td>17</td>\n",
       "    </tr>\n",
       "  </tbody>\n",
       "</table>\n",
       "</div>"
      ],
      "text/plain": [
       "  The Beatles discography The Beatles discography.1\n",
       "0     The Beatles in 1965       The Beatles in 1965\n",
       "1           Studio albums          12 (UK), 17 (US)\n",
       "2             Live albums                         5\n",
       "3      Compilation albums                        51\n",
       "4            Video albums                        22\n",
       "5            Music videos                        53\n",
       "6                     EPs                        36\n",
       "7                 Singles                        63\n",
       "8                Mash-ups                         2\n",
       "9                Box sets                        17"
      ]
     },
     "execution_count": 105,
     "metadata": {},
     "output_type": "execute_result"
    }
   ],
   "source": [
    "dfs[0]"
   ]
  },
  {
   "cell_type": "markdown",
   "metadata": {},
   "source": [
    "我们可以循环遍历 `read_html` 创建的每个表，或者我们可以给它一个提示来查找特定的表。该函数具有 `match` 参数，可以是字符串或正则表达式。它还有一个 `attrs` 参数，允许您传入 HTML 标签属性键和值（在字典中）并使用它来识别表。"
   ]
  },
  {
   "cell_type": "code",
   "execution_count": 106,
   "metadata": {},
   "outputs": [],
   "source": [
    "dfs = pd.read_html(url, match='List of studio albums', na_values='-')"
   ]
  },
  {
   "cell_type": "code",
   "execution_count": 107,
   "metadata": {},
   "outputs": [
    {
     "data": {
      "text/plain": [
       "2"
      ]
     },
     "execution_count": 107,
     "metadata": {},
     "output_type": "execute_result"
    }
   ],
   "source": [
    "len(dfs)"
   ]
  },
  {
   "cell_type": "code",
   "execution_count": 111,
   "metadata": {},
   "outputs": [
    {
     "data": {
      "text/plain": [
       "MultiIndex([(               'Title',            'Title'),\n",
       "            (    'Album details[A]', 'Album details[A]'),\n",
       "            ('Peak chart positions',        'UK [8][9]'),\n",
       "            ('Peak chart positions',         'AUS [10]'),\n",
       "            ('Peak chart positions',         'CAN [11]'),\n",
       "            ('Peak chart positions',         'FRA [12]'),\n",
       "            ('Peak chart positions',         'GER [13]'),\n",
       "            ('Peak chart positions',         'NOR [14]'),\n",
       "            ('Peak chart positions',      'US [15][16]'),\n",
       "            (      'Certifications',   'Certifications'),\n",
       "            (               'Sales',            'Sales')],\n",
       "           )"
      ]
     },
     "execution_count": 111,
     "metadata": {},
     "output_type": "execute_result"
    }
   ],
   "source": [
    "dfs[0].columns"
   ]
  },
  {
   "cell_type": "code",
   "execution_count": 113,
   "metadata": {},
   "outputs": [
    {
     "data": {
      "text/html": [
       "<div>\n",
       "<style scoped>\n",
       "    .dataframe tbody tr th:only-of-type {\n",
       "        vertical-align: middle;\n",
       "    }\n",
       "\n",
       "    .dataframe tbody tr th {\n",
       "        vertical-align: top;\n",
       "    }\n",
       "\n",
       "    .dataframe thead tr th {\n",
       "        text-align: left;\n",
       "    }\n",
       "</style>\n",
       "<table border=\"1\" class=\"dataframe\">\n",
       "  <thead>\n",
       "    <tr>\n",
       "      <th></th>\n",
       "      <th>Title</th>\n",
       "      <th>Album details[A]</th>\n",
       "      <th colspan=\"7\" halign=\"left\">Peak chart positions</th>\n",
       "      <th>Certifications</th>\n",
       "      <th>Sales</th>\n",
       "    </tr>\n",
       "    <tr>\n",
       "      <th></th>\n",
       "      <th>Title</th>\n",
       "      <th>Album details[A]</th>\n",
       "      <th>UK [8][9]</th>\n",
       "      <th>AUS [10]</th>\n",
       "      <th>CAN [11]</th>\n",
       "      <th>FRA [12]</th>\n",
       "      <th>GER [13]</th>\n",
       "      <th>NOR [14]</th>\n",
       "      <th>US [15][16]</th>\n",
       "      <th>Certifications</th>\n",
       "      <th>Sales</th>\n",
       "    </tr>\n",
       "  </thead>\n",
       "  <tbody>\n",
       "    <tr>\n",
       "      <th>0</th>\n",
       "      <td>Please Please Me</td>\n",
       "      <td>Released: 22 March 1963 Label: Parlophone</td>\n",
       "      <td>1</td>\n",
       "      <td>—</td>\n",
       "      <td>—</td>\n",
       "      <td>5</td>\n",
       "      <td>5</td>\n",
       "      <td>—</td>\n",
       "      <td>155</td>\n",
       "      <td>BPI: Platinum[17] ARIA: Gold[18] MC: Gold[19] ...</td>\n",
       "      <td>NaN</td>\n",
       "    </tr>\n",
       "    <tr>\n",
       "      <th>1</th>\n",
       "      <td>With the Beatles[B]</td>\n",
       "      <td>Released: 22 November 1963 Label: Parlophone (...</td>\n",
       "      <td>1</td>\n",
       "      <td>—</td>\n",
       "      <td>—</td>\n",
       "      <td>5</td>\n",
       "      <td>1</td>\n",
       "      <td>—</td>\n",
       "      <td>179</td>\n",
       "      <td>BPI: Gold[17] ARIA: Gold[18] BVMI: Gold[21] MC...</td>\n",
       "      <td>NaN</td>\n",
       "    </tr>\n",
       "    <tr>\n",
       "      <th>2</th>\n",
       "      <td>A Hard Day's Night</td>\n",
       "      <td>Released: 10 July 1964 Label: Parlophone</td>\n",
       "      <td>1</td>\n",
       "      <td>1</td>\n",
       "      <td>—</td>\n",
       "      <td>—</td>\n",
       "      <td>1</td>\n",
       "      <td>—</td>\n",
       "      <td>—</td>\n",
       "      <td>BPI: Platinum[17] ARIA: Gold[18]</td>\n",
       "      <td>NaN</td>\n",
       "    </tr>\n",
       "    <tr>\n",
       "      <th>3</th>\n",
       "      <td>Beatles for Sale</td>\n",
       "      <td>Released: 4 December 1964 Label: Parlophone</td>\n",
       "      <td>1</td>\n",
       "      <td>1</td>\n",
       "      <td>—</td>\n",
       "      <td>—</td>\n",
       "      <td>1</td>\n",
       "      <td>—</td>\n",
       "      <td>—</td>\n",
       "      <td>BPI: Gold[17] ARIA: Gold[18] MC: Gold[19] RIAA...</td>\n",
       "      <td>UK: 750,000[22]</td>\n",
       "    </tr>\n",
       "    <tr>\n",
       "      <th>4</th>\n",
       "      <td>Help!</td>\n",
       "      <td>Released: 6 August 1965 Label: Parlophone</td>\n",
       "      <td>1</td>\n",
       "      <td>1</td>\n",
       "      <td>—</td>\n",
       "      <td>5</td>\n",
       "      <td>1</td>\n",
       "      <td>—</td>\n",
       "      <td>—</td>\n",
       "      <td>BPI: Platinum[17] ARIA: Gold[18]</td>\n",
       "      <td>NaN</td>\n",
       "    </tr>\n",
       "    <tr>\n",
       "      <th>5</th>\n",
       "      <td>Rubber Soul</td>\n",
       "      <td>Released: 3 December 1965 Label: Parlophone</td>\n",
       "      <td>1</td>\n",
       "      <td>1</td>\n",
       "      <td>—</td>\n",
       "      <td>5</td>\n",
       "      <td>1</td>\n",
       "      <td>—</td>\n",
       "      <td>—</td>\n",
       "      <td>BPI: 2× Platinum[17] ARIA: Platinum[18] BVMI: ...</td>\n",
       "      <td>NaN</td>\n",
       "    </tr>\n",
       "    <tr>\n",
       "      <th>6</th>\n",
       "      <td>Revolver</td>\n",
       "      <td>Released: 5 August 1966 Label: Parlophone</td>\n",
       "      <td>1</td>\n",
       "      <td>1</td>\n",
       "      <td>—</td>\n",
       "      <td>5</td>\n",
       "      <td>1</td>\n",
       "      <td>14</td>\n",
       "      <td>—</td>\n",
       "      <td>BPI: 2× Platinum[17] ARIA: Platinum[18]</td>\n",
       "      <td>NaN</td>\n",
       "    </tr>\n",
       "    <tr>\n",
       "      <th>7</th>\n",
       "      <td>Sgt. Pepper's Lonely Hearts Club Band</td>\n",
       "      <td>Released: 26 May 1967[23] Label: Parlophone</td>\n",
       "      <td>1</td>\n",
       "      <td>1</td>\n",
       "      <td>1</td>\n",
       "      <td>4</td>\n",
       "      <td>1</td>\n",
       "      <td>1</td>\n",
       "      <td>1</td>\n",
       "      <td>BPI: 18× Platinum[17] ARIA: 4× Platinum[18] BV...</td>\n",
       "      <td>UK: 5,340,000[25]</td>\n",
       "    </tr>\n",
       "    <tr>\n",
       "      <th>8</th>\n",
       "      <td>The Beatles (\"The White Album\")</td>\n",
       "      <td>Released: 22 November 1968 Label: Apple</td>\n",
       "      <td>1</td>\n",
       "      <td>1</td>\n",
       "      <td>1</td>\n",
       "      <td>1</td>\n",
       "      <td>1</td>\n",
       "      <td>1</td>\n",
       "      <td>1</td>\n",
       "      <td>BPI: 2× Platinum[17] ARIA: 2× Platinum[18] MC:...</td>\n",
       "      <td>NaN</td>\n",
       "    </tr>\n",
       "    <tr>\n",
       "      <th>9</th>\n",
       "      <td>Yellow Submarine[C]</td>\n",
       "      <td>Released: 17 January 1969 Label: Apple</td>\n",
       "      <td>3</td>\n",
       "      <td>4</td>\n",
       "      <td>1</td>\n",
       "      <td>4</td>\n",
       "      <td>5</td>\n",
       "      <td>1</td>\n",
       "      <td>2</td>\n",
       "      <td>BPI: Gold[17] MC: Gold[19] RIAA: Platinum[20]</td>\n",
       "      <td>NaN</td>\n",
       "    </tr>\n",
       "    <tr>\n",
       "      <th>10</th>\n",
       "      <td>Abbey Road</td>\n",
       "      <td>Released: 26 September 1969 Label: Apple</td>\n",
       "      <td>1</td>\n",
       "      <td>1</td>\n",
       "      <td>1</td>\n",
       "      <td>1</td>\n",
       "      <td>1</td>\n",
       "      <td>1</td>\n",
       "      <td>1</td>\n",
       "      <td>BPI: 8× Platinum[17] ARIA: 3× Platinum[18] BVM...</td>\n",
       "      <td>UK: 2,240,608[27]</td>\n",
       "    </tr>\n",
       "    <tr>\n",
       "      <th>11</th>\n",
       "      <td>Let It Be</td>\n",
       "      <td>Released: 8 May 1970 Label: Apple</td>\n",
       "      <td>1</td>\n",
       "      <td>1</td>\n",
       "      <td>1</td>\n",
       "      <td>5</td>\n",
       "      <td>4</td>\n",
       "      <td>1</td>\n",
       "      <td>1</td>\n",
       "      <td>BPI: Platinum[17] ARIA: Platinum[18] MC: 3× Pl...</td>\n",
       "      <td>NaN</td>\n",
       "    </tr>\n",
       "    <tr>\n",
       "      <th>12</th>\n",
       "      <td>\"—\" denotes that the recording did not chart o...</td>\n",
       "      <td>\"—\" denotes that the recording did not chart o...</td>\n",
       "      <td>\"—\" denotes that the recording did not chart o...</td>\n",
       "      <td>\"—\" denotes that the recording did not chart o...</td>\n",
       "      <td>\"—\" denotes that the recording did not chart o...</td>\n",
       "      <td>\"—\" denotes that the recording did not chart o...</td>\n",
       "      <td>\"—\" denotes that the recording did not chart o...</td>\n",
       "      <td>\"—\" denotes that the recording did not chart o...</td>\n",
       "      <td>\"—\" denotes that the recording did not chart o...</td>\n",
       "      <td>\"—\" denotes that the recording did not chart o...</td>\n",
       "      <td>\"—\" denotes that the recording did not chart o...</td>\n",
       "    </tr>\n",
       "  </tbody>\n",
       "</table>\n",
       "</div>"
      ],
      "text/plain": [
       "                                                Title  \\\n",
       "                                                Title   \n",
       "0                                    Please Please Me   \n",
       "1                                 With the Beatles[B]   \n",
       "2                                  A Hard Day's Night   \n",
       "3                                    Beatles for Sale   \n",
       "4                                               Help!   \n",
       "5                                         Rubber Soul   \n",
       "6                                            Revolver   \n",
       "7               Sgt. Pepper's Lonely Hearts Club Band   \n",
       "8                     The Beatles (\"The White Album\")   \n",
       "9                                 Yellow Submarine[C]   \n",
       "10                                         Abbey Road   \n",
       "11                                          Let It Be   \n",
       "12  \"—\" denotes that the recording did not chart o...   \n",
       "\n",
       "                                     Album details[A]  \\\n",
       "                                     Album details[A]   \n",
       "0           Released: 22 March 1963 Label: Parlophone   \n",
       "1   Released: 22 November 1963 Label: Parlophone (...   \n",
       "2            Released: 10 July 1964 Label: Parlophone   \n",
       "3         Released: 4 December 1964 Label: Parlophone   \n",
       "4           Released: 6 August 1965 Label: Parlophone   \n",
       "5         Released: 3 December 1965 Label: Parlophone   \n",
       "6           Released: 5 August 1966 Label: Parlophone   \n",
       "7         Released: 26 May 1967[23] Label: Parlophone   \n",
       "8             Released: 22 November 1968 Label: Apple   \n",
       "9              Released: 17 January 1969 Label: Apple   \n",
       "10           Released: 26 September 1969 Label: Apple   \n",
       "11                  Released: 8 May 1970 Label: Apple   \n",
       "12  \"—\" denotes that the recording did not chart o...   \n",
       "\n",
       "                                 Peak chart positions  \\\n",
       "                                            UK [8][9]   \n",
       "0                                                   1   \n",
       "1                                                   1   \n",
       "2                                                   1   \n",
       "3                                                   1   \n",
       "4                                                   1   \n",
       "5                                                   1   \n",
       "6                                                   1   \n",
       "7                                                   1   \n",
       "8                                                   1   \n",
       "9                                                   3   \n",
       "10                                                  1   \n",
       "11                                                  1   \n",
       "12  \"—\" denotes that the recording did not chart o...   \n",
       "\n",
       "                                                       \\\n",
       "                                             AUS [10]   \n",
       "0                                                   —   \n",
       "1                                                   —   \n",
       "2                                                   1   \n",
       "3                                                   1   \n",
       "4                                                   1   \n",
       "5                                                   1   \n",
       "6                                                   1   \n",
       "7                                                   1   \n",
       "8                                                   1   \n",
       "9                                                   4   \n",
       "10                                                  1   \n",
       "11                                                  1   \n",
       "12  \"—\" denotes that the recording did not chart o...   \n",
       "\n",
       "                                                       \\\n",
       "                                             CAN [11]   \n",
       "0                                                   —   \n",
       "1                                                   —   \n",
       "2                                                   —   \n",
       "3                                                   —   \n",
       "4                                                   —   \n",
       "5                                                   —   \n",
       "6                                                   —   \n",
       "7                                                   1   \n",
       "8                                                   1   \n",
       "9                                                   1   \n",
       "10                                                  1   \n",
       "11                                                  1   \n",
       "12  \"—\" denotes that the recording did not chart o...   \n",
       "\n",
       "                                                       \\\n",
       "                                             FRA [12]   \n",
       "0                                                   5   \n",
       "1                                                   5   \n",
       "2                                                   —   \n",
       "3                                                   —   \n",
       "4                                                   5   \n",
       "5                                                   5   \n",
       "6                                                   5   \n",
       "7                                                   4   \n",
       "8                                                   1   \n",
       "9                                                   4   \n",
       "10                                                  1   \n",
       "11                                                  5   \n",
       "12  \"—\" denotes that the recording did not chart o...   \n",
       "\n",
       "                                                       \\\n",
       "                                             GER [13]   \n",
       "0                                                   5   \n",
       "1                                                   1   \n",
       "2                                                   1   \n",
       "3                                                   1   \n",
       "4                                                   1   \n",
       "5                                                   1   \n",
       "6                                                   1   \n",
       "7                                                   1   \n",
       "8                                                   1   \n",
       "9                                                   5   \n",
       "10                                                  1   \n",
       "11                                                  4   \n",
       "12  \"—\" denotes that the recording did not chart o...   \n",
       "\n",
       "                                                       \\\n",
       "                                             NOR [14]   \n",
       "0                                                   —   \n",
       "1                                                   —   \n",
       "2                                                   —   \n",
       "3                                                   —   \n",
       "4                                                   —   \n",
       "5                                                   —   \n",
       "6                                                  14   \n",
       "7                                                   1   \n",
       "8                                                   1   \n",
       "9                                                   1   \n",
       "10                                                  1   \n",
       "11                                                  1   \n",
       "12  \"—\" denotes that the recording did not chart o...   \n",
       "\n",
       "                                                       \\\n",
       "                                          US [15][16]   \n",
       "0                                                 155   \n",
       "1                                                 179   \n",
       "2                                                   —   \n",
       "3                                                   —   \n",
       "4                                                   —   \n",
       "5                                                   —   \n",
       "6                                                   —   \n",
       "7                                                   1   \n",
       "8                                                   1   \n",
       "9                                                   2   \n",
       "10                                                  1   \n",
       "11                                                  1   \n",
       "12  \"—\" denotes that the recording did not chart o...   \n",
       "\n",
       "                                       Certifications  \\\n",
       "                                       Certifications   \n",
       "0   BPI: Platinum[17] ARIA: Gold[18] MC: Gold[19] ...   \n",
       "1   BPI: Gold[17] ARIA: Gold[18] BVMI: Gold[21] MC...   \n",
       "2                    BPI: Platinum[17] ARIA: Gold[18]   \n",
       "3   BPI: Gold[17] ARIA: Gold[18] MC: Gold[19] RIAA...   \n",
       "4                    BPI: Platinum[17] ARIA: Gold[18]   \n",
       "5   BPI: 2× Platinum[17] ARIA: Platinum[18] BVMI: ...   \n",
       "6             BPI: 2× Platinum[17] ARIA: Platinum[18]   \n",
       "7   BPI: 18× Platinum[17] ARIA: 4× Platinum[18] BV...   \n",
       "8   BPI: 2× Platinum[17] ARIA: 2× Platinum[18] MC:...   \n",
       "9       BPI: Gold[17] MC: Gold[19] RIAA: Platinum[20]   \n",
       "10  BPI: 8× Platinum[17] ARIA: 3× Platinum[18] BVM...   \n",
       "11  BPI: Platinum[17] ARIA: Platinum[18] MC: 3× Pl...   \n",
       "12  \"—\" denotes that the recording did not chart o...   \n",
       "\n",
       "                                                Sales  \n",
       "                                                Sales  \n",
       "0                                                 NaN  \n",
       "1                                                 NaN  \n",
       "2                                                 NaN  \n",
       "3                                     UK: 750,000[22]  \n",
       "4                                                 NaN  \n",
       "5                                                 NaN  \n",
       "6                                                 NaN  \n",
       "7                                   UK: 5,340,000[25]  \n",
       "8                                                 NaN  \n",
       "9                                                 NaN  \n",
       "10                                  UK: 2,240,608[27]  \n",
       "11                                                NaN  \n",
       "12  \"—\" denotes that the recording did not chart o...  "
      ]
     },
     "execution_count": 113,
     "metadata": {},
     "output_type": "execute_result"
    }
   ],
   "source": [
    "dfs[0]"
   ]
  },
  {
   "cell_type": "code",
   "execution_count": 114,
   "metadata": {},
   "outputs": [],
   "source": [
    "dfs = pd.read_html(\n",
    "    url,\n",
    "    match='List of studio albums',\n",
    "    na_values='-',\n",
    "    header=[0, 1],\n",
    ")"
   ]
  },
  {
   "cell_type": "code",
   "execution_count": 115,
   "metadata": {},
   "outputs": [
    {
     "data": {
      "text/plain": [
       "2"
      ]
     },
     "execution_count": 115,
     "metadata": {},
     "output_type": "execute_result"
    }
   ],
   "source": [
    "len(dfs)"
   ]
  },
  {
   "cell_type": "code",
   "execution_count": 116,
   "metadata": {},
   "outputs": [
    {
     "data": {
      "text/html": [
       "<div>\n",
       "<style scoped>\n",
       "    .dataframe tbody tr th:only-of-type {\n",
       "        vertical-align: middle;\n",
       "    }\n",
       "\n",
       "    .dataframe tbody tr th {\n",
       "        vertical-align: top;\n",
       "    }\n",
       "\n",
       "    .dataframe thead tr th {\n",
       "        text-align: left;\n",
       "    }\n",
       "</style>\n",
       "<table border=\"1\" class=\"dataframe\">\n",
       "  <thead>\n",
       "    <tr>\n",
       "      <th></th>\n",
       "      <th>Title</th>\n",
       "      <th>Album details[A]</th>\n",
       "      <th colspan=\"7\" halign=\"left\">Peak chart positions</th>\n",
       "      <th>Certifications</th>\n",
       "      <th>Sales</th>\n",
       "    </tr>\n",
       "    <tr>\n",
       "      <th></th>\n",
       "      <th>Title</th>\n",
       "      <th>Album details[A]</th>\n",
       "      <th>UK [8][9]</th>\n",
       "      <th>AUS [10]</th>\n",
       "      <th>CAN [11]</th>\n",
       "      <th>FRA [12]</th>\n",
       "      <th>GER [13]</th>\n",
       "      <th>NOR [14]</th>\n",
       "      <th>US [15][16]</th>\n",
       "      <th>Certifications</th>\n",
       "      <th>Sales</th>\n",
       "    </tr>\n",
       "  </thead>\n",
       "  <tbody>\n",
       "    <tr>\n",
       "      <th>0</th>\n",
       "      <td>Please Please Me</td>\n",
       "      <td>Released: 22 March 1963 Label: Parlophone</td>\n",
       "      <td>1</td>\n",
       "      <td>—</td>\n",
       "      <td>—</td>\n",
       "      <td>5</td>\n",
       "      <td>5</td>\n",
       "      <td>—</td>\n",
       "      <td>155</td>\n",
       "      <td>BPI: Platinum[17] ARIA: Gold[18] MC: Gold[19] ...</td>\n",
       "      <td>NaN</td>\n",
       "    </tr>\n",
       "    <tr>\n",
       "      <th>1</th>\n",
       "      <td>With the Beatles[B]</td>\n",
       "      <td>Released: 22 November 1963 Label: Parlophone (...</td>\n",
       "      <td>1</td>\n",
       "      <td>—</td>\n",
       "      <td>—</td>\n",
       "      <td>5</td>\n",
       "      <td>1</td>\n",
       "      <td>—</td>\n",
       "      <td>179</td>\n",
       "      <td>BPI: Gold[17] ARIA: Gold[18] BVMI: Gold[21] MC...</td>\n",
       "      <td>NaN</td>\n",
       "    </tr>\n",
       "    <tr>\n",
       "      <th>2</th>\n",
       "      <td>A Hard Day's Night</td>\n",
       "      <td>Released: 10 July 1964 Label: Parlophone</td>\n",
       "      <td>1</td>\n",
       "      <td>1</td>\n",
       "      <td>—</td>\n",
       "      <td>—</td>\n",
       "      <td>1</td>\n",
       "      <td>—</td>\n",
       "      <td>—</td>\n",
       "      <td>BPI: Platinum[17] ARIA: Gold[18]</td>\n",
       "      <td>NaN</td>\n",
       "    </tr>\n",
       "    <tr>\n",
       "      <th>3</th>\n",
       "      <td>Beatles for Sale</td>\n",
       "      <td>Released: 4 December 1964 Label: Parlophone</td>\n",
       "      <td>1</td>\n",
       "      <td>1</td>\n",
       "      <td>—</td>\n",
       "      <td>—</td>\n",
       "      <td>1</td>\n",
       "      <td>—</td>\n",
       "      <td>—</td>\n",
       "      <td>BPI: Gold[17] ARIA: Gold[18] MC: Gold[19] RIAA...</td>\n",
       "      <td>UK: 750,000[22]</td>\n",
       "    </tr>\n",
       "    <tr>\n",
       "      <th>4</th>\n",
       "      <td>Help!</td>\n",
       "      <td>Released: 6 August 1965 Label: Parlophone</td>\n",
       "      <td>1</td>\n",
       "      <td>1</td>\n",
       "      <td>—</td>\n",
       "      <td>5</td>\n",
       "      <td>1</td>\n",
       "      <td>—</td>\n",
       "      <td>—</td>\n",
       "      <td>BPI: Platinum[17] ARIA: Gold[18]</td>\n",
       "      <td>NaN</td>\n",
       "    </tr>\n",
       "    <tr>\n",
       "      <th>5</th>\n",
       "      <td>Rubber Soul</td>\n",
       "      <td>Released: 3 December 1965 Label: Parlophone</td>\n",
       "      <td>1</td>\n",
       "      <td>1</td>\n",
       "      <td>—</td>\n",
       "      <td>5</td>\n",
       "      <td>1</td>\n",
       "      <td>—</td>\n",
       "      <td>—</td>\n",
       "      <td>BPI: 2× Platinum[17] ARIA: Platinum[18] BVMI: ...</td>\n",
       "      <td>NaN</td>\n",
       "    </tr>\n",
       "    <tr>\n",
       "      <th>6</th>\n",
       "      <td>Revolver</td>\n",
       "      <td>Released: 5 August 1966 Label: Parlophone</td>\n",
       "      <td>1</td>\n",
       "      <td>1</td>\n",
       "      <td>—</td>\n",
       "      <td>5</td>\n",
       "      <td>1</td>\n",
       "      <td>14</td>\n",
       "      <td>—</td>\n",
       "      <td>BPI: 2× Platinum[17] ARIA: Platinum[18]</td>\n",
       "      <td>NaN</td>\n",
       "    </tr>\n",
       "    <tr>\n",
       "      <th>7</th>\n",
       "      <td>Sgt. Pepper's Lonely Hearts Club Band</td>\n",
       "      <td>Released: 26 May 1967[23] Label: Parlophone</td>\n",
       "      <td>1</td>\n",
       "      <td>1</td>\n",
       "      <td>1</td>\n",
       "      <td>4</td>\n",
       "      <td>1</td>\n",
       "      <td>1</td>\n",
       "      <td>1</td>\n",
       "      <td>BPI: 18× Platinum[17] ARIA: 4× Platinum[18] BV...</td>\n",
       "      <td>UK: 5,340,000[25]</td>\n",
       "    </tr>\n",
       "    <tr>\n",
       "      <th>8</th>\n",
       "      <td>The Beatles (\"The White Album\")</td>\n",
       "      <td>Released: 22 November 1968 Label: Apple</td>\n",
       "      <td>1</td>\n",
       "      <td>1</td>\n",
       "      <td>1</td>\n",
       "      <td>1</td>\n",
       "      <td>1</td>\n",
       "      <td>1</td>\n",
       "      <td>1</td>\n",
       "      <td>BPI: 2× Platinum[17] ARIA: 2× Platinum[18] MC:...</td>\n",
       "      <td>NaN</td>\n",
       "    </tr>\n",
       "    <tr>\n",
       "      <th>9</th>\n",
       "      <td>Yellow Submarine[C]</td>\n",
       "      <td>Released: 17 January 1969 Label: Apple</td>\n",
       "      <td>3</td>\n",
       "      <td>4</td>\n",
       "      <td>1</td>\n",
       "      <td>4</td>\n",
       "      <td>5</td>\n",
       "      <td>1</td>\n",
       "      <td>2</td>\n",
       "      <td>BPI: Gold[17] MC: Gold[19] RIAA: Platinum[20]</td>\n",
       "      <td>NaN</td>\n",
       "    </tr>\n",
       "    <tr>\n",
       "      <th>10</th>\n",
       "      <td>Abbey Road</td>\n",
       "      <td>Released: 26 September 1969 Label: Apple</td>\n",
       "      <td>1</td>\n",
       "      <td>1</td>\n",
       "      <td>1</td>\n",
       "      <td>1</td>\n",
       "      <td>1</td>\n",
       "      <td>1</td>\n",
       "      <td>1</td>\n",
       "      <td>BPI: 8× Platinum[17] ARIA: 3× Platinum[18] BVM...</td>\n",
       "      <td>UK: 2,240,608[27]</td>\n",
       "    </tr>\n",
       "    <tr>\n",
       "      <th>11</th>\n",
       "      <td>Let It Be</td>\n",
       "      <td>Released: 8 May 1970 Label: Apple</td>\n",
       "      <td>1</td>\n",
       "      <td>1</td>\n",
       "      <td>1</td>\n",
       "      <td>5</td>\n",
       "      <td>4</td>\n",
       "      <td>1</td>\n",
       "      <td>1</td>\n",
       "      <td>BPI: Platinum[17] ARIA: Platinum[18] MC: 3× Pl...</td>\n",
       "      <td>NaN</td>\n",
       "    </tr>\n",
       "    <tr>\n",
       "      <th>12</th>\n",
       "      <td>\"—\" denotes that the recording did not chart o...</td>\n",
       "      <td>\"—\" denotes that the recording did not chart o...</td>\n",
       "      <td>\"—\" denotes that the recording did not chart o...</td>\n",
       "      <td>\"—\" denotes that the recording did not chart o...</td>\n",
       "      <td>\"—\" denotes that the recording did not chart o...</td>\n",
       "      <td>\"—\" denotes that the recording did not chart o...</td>\n",
       "      <td>\"—\" denotes that the recording did not chart o...</td>\n",
       "      <td>\"—\" denotes that the recording did not chart o...</td>\n",
       "      <td>\"—\" denotes that the recording did not chart o...</td>\n",
       "      <td>\"—\" denotes that the recording did not chart o...</td>\n",
       "      <td>\"—\" denotes that the recording did not chart o...</td>\n",
       "    </tr>\n",
       "  </tbody>\n",
       "</table>\n",
       "</div>"
      ],
      "text/plain": [
       "                                                Title  \\\n",
       "                                                Title   \n",
       "0                                    Please Please Me   \n",
       "1                                 With the Beatles[B]   \n",
       "2                                  A Hard Day's Night   \n",
       "3                                    Beatles for Sale   \n",
       "4                                               Help!   \n",
       "5                                         Rubber Soul   \n",
       "6                                            Revolver   \n",
       "7               Sgt. Pepper's Lonely Hearts Club Band   \n",
       "8                     The Beatles (\"The White Album\")   \n",
       "9                                 Yellow Submarine[C]   \n",
       "10                                         Abbey Road   \n",
       "11                                          Let It Be   \n",
       "12  \"—\" denotes that the recording did not chart o...   \n",
       "\n",
       "                                     Album details[A]  \\\n",
       "                                     Album details[A]   \n",
       "0           Released: 22 March 1963 Label: Parlophone   \n",
       "1   Released: 22 November 1963 Label: Parlophone (...   \n",
       "2            Released: 10 July 1964 Label: Parlophone   \n",
       "3         Released: 4 December 1964 Label: Parlophone   \n",
       "4           Released: 6 August 1965 Label: Parlophone   \n",
       "5         Released: 3 December 1965 Label: Parlophone   \n",
       "6           Released: 5 August 1966 Label: Parlophone   \n",
       "7         Released: 26 May 1967[23] Label: Parlophone   \n",
       "8             Released: 22 November 1968 Label: Apple   \n",
       "9              Released: 17 January 1969 Label: Apple   \n",
       "10           Released: 26 September 1969 Label: Apple   \n",
       "11                  Released: 8 May 1970 Label: Apple   \n",
       "12  \"—\" denotes that the recording did not chart o...   \n",
       "\n",
       "                                 Peak chart positions  \\\n",
       "                                            UK [8][9]   \n",
       "0                                                   1   \n",
       "1                                                   1   \n",
       "2                                                   1   \n",
       "3                                                   1   \n",
       "4                                                   1   \n",
       "5                                                   1   \n",
       "6                                                   1   \n",
       "7                                                   1   \n",
       "8                                                   1   \n",
       "9                                                   3   \n",
       "10                                                  1   \n",
       "11                                                  1   \n",
       "12  \"—\" denotes that the recording did not chart o...   \n",
       "\n",
       "                                                       \\\n",
       "                                             AUS [10]   \n",
       "0                                                   —   \n",
       "1                                                   —   \n",
       "2                                                   1   \n",
       "3                                                   1   \n",
       "4                                                   1   \n",
       "5                                                   1   \n",
       "6                                                   1   \n",
       "7                                                   1   \n",
       "8                                                   1   \n",
       "9                                                   4   \n",
       "10                                                  1   \n",
       "11                                                  1   \n",
       "12  \"—\" denotes that the recording did not chart o...   \n",
       "\n",
       "                                                       \\\n",
       "                                             CAN [11]   \n",
       "0                                                   —   \n",
       "1                                                   —   \n",
       "2                                                   —   \n",
       "3                                                   —   \n",
       "4                                                   —   \n",
       "5                                                   —   \n",
       "6                                                   —   \n",
       "7                                                   1   \n",
       "8                                                   1   \n",
       "9                                                   1   \n",
       "10                                                  1   \n",
       "11                                                  1   \n",
       "12  \"—\" denotes that the recording did not chart o...   \n",
       "\n",
       "                                                       \\\n",
       "                                             FRA [12]   \n",
       "0                                                   5   \n",
       "1                                                   5   \n",
       "2                                                   —   \n",
       "3                                                   —   \n",
       "4                                                   5   \n",
       "5                                                   5   \n",
       "6                                                   5   \n",
       "7                                                   4   \n",
       "8                                                   1   \n",
       "9                                                   4   \n",
       "10                                                  1   \n",
       "11                                                  5   \n",
       "12  \"—\" denotes that the recording did not chart o...   \n",
       "\n",
       "                                                       \\\n",
       "                                             GER [13]   \n",
       "0                                                   5   \n",
       "1                                                   1   \n",
       "2                                                   1   \n",
       "3                                                   1   \n",
       "4                                                   1   \n",
       "5                                                   1   \n",
       "6                                                   1   \n",
       "7                                                   1   \n",
       "8                                                   1   \n",
       "9                                                   5   \n",
       "10                                                  1   \n",
       "11                                                  4   \n",
       "12  \"—\" denotes that the recording did not chart o...   \n",
       "\n",
       "                                                       \\\n",
       "                                             NOR [14]   \n",
       "0                                                   —   \n",
       "1                                                   —   \n",
       "2                                                   —   \n",
       "3                                                   —   \n",
       "4                                                   —   \n",
       "5                                                   —   \n",
       "6                                                  14   \n",
       "7                                                   1   \n",
       "8                                                   1   \n",
       "9                                                   1   \n",
       "10                                                  1   \n",
       "11                                                  1   \n",
       "12  \"—\" denotes that the recording did not chart o...   \n",
       "\n",
       "                                                       \\\n",
       "                                          US [15][16]   \n",
       "0                                                 155   \n",
       "1                                                 179   \n",
       "2                                                   —   \n",
       "3                                                   —   \n",
       "4                                                   —   \n",
       "5                                                   —   \n",
       "6                                                   —   \n",
       "7                                                   1   \n",
       "8                                                   1   \n",
       "9                                                   2   \n",
       "10                                                  1   \n",
       "11                                                  1   \n",
       "12  \"—\" denotes that the recording did not chart o...   \n",
       "\n",
       "                                       Certifications  \\\n",
       "                                       Certifications   \n",
       "0   BPI: Platinum[17] ARIA: Gold[18] MC: Gold[19] ...   \n",
       "1   BPI: Gold[17] ARIA: Gold[18] BVMI: Gold[21] MC...   \n",
       "2                    BPI: Platinum[17] ARIA: Gold[18]   \n",
       "3   BPI: Gold[17] ARIA: Gold[18] MC: Gold[19] RIAA...   \n",
       "4                    BPI: Platinum[17] ARIA: Gold[18]   \n",
       "5   BPI: 2× Platinum[17] ARIA: Platinum[18] BVMI: ...   \n",
       "6             BPI: 2× Platinum[17] ARIA: Platinum[18]   \n",
       "7   BPI: 18× Platinum[17] ARIA: 4× Platinum[18] BV...   \n",
       "8   BPI: 2× Platinum[17] ARIA: 2× Platinum[18] MC:...   \n",
       "9       BPI: Gold[17] MC: Gold[19] RIAA: Platinum[20]   \n",
       "10  BPI: 8× Platinum[17] ARIA: 3× Platinum[18] BVM...   \n",
       "11  BPI: Platinum[17] ARIA: Platinum[18] MC: 3× Pl...   \n",
       "12  \"—\" denotes that the recording did not chart o...   \n",
       "\n",
       "                                                Sales  \n",
       "                                                Sales  \n",
       "0                                                 NaN  \n",
       "1                                                 NaN  \n",
       "2                                                 NaN  \n",
       "3                                     UK: 750,000[22]  \n",
       "4                                                 NaN  \n",
       "5                                                 NaN  \n",
       "6                                                 NaN  \n",
       "7                                   UK: 5,340,000[25]  \n",
       "8                                                 NaN  \n",
       "9                                                 NaN  \n",
       "10                                  UK: 2,240,608[27]  \n",
       "11                                                NaN  \n",
       "12  \"—\" denotes that the recording did not chart o...  "
      ]
     },
     "execution_count": 116,
     "metadata": {},
     "output_type": "execute_result"
    }
   ],
   "source": [
    "dfs[0]"
   ]
  },
  {
   "cell_type": "code",
   "execution_count": 117,
   "metadata": {},
   "outputs": [
    {
     "data": {
      "text/plain": [
       "MultiIndex([(               'Title',            'Title'),\n",
       "            (    'Album details[A]', 'Album details[A]'),\n",
       "            ('Peak chart positions',        'UK [8][9]'),\n",
       "            ('Peak chart positions',         'AUS [10]'),\n",
       "            ('Peak chart positions',         'CAN [11]'),\n",
       "            ('Peak chart positions',         'FRA [12]'),\n",
       "            ('Peak chart positions',         'GER [13]'),\n",
       "            ('Peak chart positions',         'NOR [14]'),\n",
       "            ('Peak chart positions',      'US [15][16]'),\n",
       "            (      'Certifications',   'Certifications'),\n",
       "            (               'Sales',            'Sales')],\n",
       "           )"
      ]
     },
     "execution_count": 117,
     "metadata": {},
     "output_type": "execute_result"
    }
   ],
   "source": [
    "dfs[0].columns"
   ]
  },
  {
   "cell_type": "code",
   "execution_count": 118,
   "metadata": {},
   "outputs": [],
   "source": [
    "df = dfs[0]"
   ]
  },
  {
   "cell_type": "code",
   "execution_count": 122,
   "metadata": {},
   "outputs": [],
   "source": [
    "df.columns = [\n",
    "    \"Title\",\n",
    "    \"Release\",\n",
    "    \"UK\",\n",
    "    \"AUS\",\n",
    "    \"CAN\",\n",
    "    \"FRA\",\n",
    "    \"GER\",\n",
    "    \"NOR\",\n",
    "    \"US\",\n",
    "    \"Certifications\",\n",
    "    \"Sales\",\n",
    "]"
   ]
  },
  {
   "cell_type": "markdown",
   "metadata": {},
   "source": [
    "> 网站内容变化太快，应该要保存处理后的数据"
   ]
  },
  {
   "cell_type": "markdown",
   "metadata": {},
   "source": []
  }
 ],
 "metadata": {
  "kernelspec": {
   "display_name": "Python 3",
   "language": "python",
   "name": "python3"
  },
  "language_info": {
   "codemirror_mode": {
    "name": "ipython",
    "version": 3
   },
   "file_extension": ".py",
   "mimetype": "text/x-python",
   "name": "python",
   "nbconvert_exporter": "python",
   "pygments_lexer": "ipython3",
   "version": "3.11.1"
  }
 },
 "nbformat": 4,
 "nbformat_minor": 2
}

{
 "cells": [
  {
   "cell_type": "code",
   "execution_count": null,
   "metadata": {},
   "outputs": [],
   "source": [
    "print(\"\"\"\n",
    "@File         : 08_groupby_operations_split-apply-combine.ipynb\n",
    "@Author(s)    : Stephen CUI\n",
    "@LastEditor(s): Stephen CUI\n",
    "@CreatedTime  : 2024-08-10 21:06:56\n",
    "@Email        : cuixuanstephen@gmail.com\n",
    "@Description  : 分组操作：分割‑应用‑合并\n",
    "\"\"\")"
   ]
  },
  {
   "cell_type": "code",
   "execution_count": null,
   "metadata": {},
   "outputs": [],
   "source": [
    "%cd ../"
   ]
  },
  {
   "cell_type": "code",
   "execution_count": null,
   "metadata": {},
   "outputs": [],
   "source": [
    "import pandas as pd\n",
    "import numpy as np"
   ]
  },
  {
   "cell_type": "code",
   "execution_count": null,
   "metadata": {},
   "outputs": [],
   "source": [
    "df = pd.read_csv('data/gapminder.tsv', sep='\\t')"
   ]
  },
  {
   "cell_type": "code",
   "execution_count": null,
   "metadata": {},
   "outputs": [],
   "source": [
    "avg_lief_exp_by_year = df.groupby('year')['lifeExp'].mean()\n",
    "avg_lief_exp_by_year"
   ]
  },
  {
   "cell_type": "code",
   "execution_count": null,
   "metadata": {},
   "outputs": [],
   "source": [
    "year = df.year.unique()\n",
    "year"
   ]
  },
  {
   "cell_type": "markdown",
   "metadata": {},
   "source": [
    "我们可以查看每一年的资料并对数据进行子集化。"
   ]
  },
  {
   "cell_type": "code",
   "execution_count": null,
   "metadata": {},
   "outputs": [],
   "source": [
    "y1952 = df.loc[df.year == 1952, :]\n",
    "y1952"
   ]
  },
  {
   "cell_type": "code",
   "execution_count": null,
   "metadata": {},
   "outputs": [],
   "source": [
    "y1952_mean = y1952['lifeExp'].mean()\n",
    "y1952_mean"
   ]
  },
  {
   "cell_type": "markdown",
   "metadata": {},
   "source": [
    "`.groupby()` 方法本质上对每一年列重复此过程（即分割数据）、计算平均值（即应用函数），并方便地返回将所有结果放在一个数据框中（即将所有值组合在一起）。"
   ]
  },
  {
   "cell_type": "markdown",
   "metadata": {},
   "source": [
    "provides a non-exclusive list of built-in Pandas methods you can use to aggregate your data."
   ]
  },
  {
   "cell_type": "markdown",
   "metadata": {},
   "source": [
    "|Pandas Method|Numpy/Scipy Function|Description|\n",
    "|---|---|---|\n",
    "|`.count()`|`np.count_nonzero()`|Frequency count not including NaN values|\n",
    "|`.size()`||Frequency count with NaN values|\n",
    "|`.mean()`|`np.mean()`|Mean of the values|\n",
    "|`.std()`|`np.std()`|Sample standard deviation|\n",
    "|`.min()`|`np.min()`|Minimum values|\n",
    "|`.quantile(q=0.25)`|`np.percentile(q=0.25)`|25th percentile of the values|\n",
    "|`.quantile(q=0.50)`|`np.percentile(q=0.50)`|50th percentile of the values|\n",
    "|`.quantile(q=0.75)`|`np.percentile(q=0.75)`|75th percentile of the values|\n",
    "|`.max()`|`np.max()`|Maximum value|\n",
    "|`.sum()`|`np.sum()`|Sum of the values|\n",
    "|`.var()`|`np.var()`|Unbiased variance|\n",
    "|`.sem()`|`scipy.stats.sem()`|Unbiased standard error of the mean|\n",
    "|`.describe()`|`scipy.stats.describe()`|Count, mean, standard deviation, minimum, 25%, 50%, 75%, and maximum|\n",
    "|`.first()`||Returns the first row|\n",
    "|`.last()`||Returns the last row|\n",
    "|`.nth()`||Returns the nth row (Python starts counting from 0)|"
   ]
  },
  {
   "cell_type": "code",
   "execution_count": null,
   "metadata": {},
   "outputs": [],
   "source": [
    "continent_describe = df.groupby(['continent'])['lifeExp'].describe()\n",
    "continent_describe"
   ]
  },
  {
   "cell_type": "markdown",
   "metadata": {},
   "source": [
    "除了直接调用聚合方法，您还可以调用 `.agg()` 或 `.aggregate()` 方法，并在其中传递所需的聚合函数。"
   ]
  },
  {
   "cell_type": "markdown",
   "metadata": {},
   "source": [
    "> `.agg()` 方法是 `.aggregate()` 的别名。Pandas 文档建议你使用别名 `.agg()`，而不是完整拼写的方法。"
   ]
  },
  {
   "cell_type": "code",
   "execution_count": null,
   "metadata": {},
   "outputs": [],
   "source": [
    "cont_le_agg = df.groupby('continent')['lifeExp'].agg(np.mean)\n",
    "cont_le_agg"
   ]
  },
  {
   "cell_type": "markdown",
   "metadata": {},
   "source": [
    "#### Custom User Functions"
   ]
  },
  {
   "cell_type": "code",
   "execution_count": null,
   "metadata": {},
   "outputs": [],
   "source": [
    "def my_mean(values):\n",
    "    \"\"\"My version of calculating a mean\"\"\"\n",
    "    n = len(values)\n",
    "    \n",
    "    sum_ = 0\n",
    "    for value in values:\n",
    "        sum_ += value\n",
    "    return sum_ / n"
   ]
  },
  {
   "cell_type": "code",
   "execution_count": null,
   "metadata": {},
   "outputs": [],
   "source": [
    "agg_my_mean = df.groupby('year')['lifeExp'].agg(my_mean)\n",
    "agg_my_mean"
   ]
  },
  {
   "cell_type": "markdown",
   "metadata": {},
   "source": [
    "我们可以编写接受多个参数的函数。只要第一个参数从数据框中获取一系列值，你可以传递其他参数作为关键字放入 `.agg()` 或 `.aggregate()` 中。"
   ]
  },
  {
   "cell_type": "code",
   "execution_count": null,
   "metadata": {},
   "outputs": [],
   "source": [
    "def my_mean_diff(values, diff_value):\n",
    "    mean_ = my_mean(values)\n",
    "    return (mean_ - diff_value)"
   ]
  },
  {
   "cell_type": "code",
   "execution_count": null,
   "metadata": {},
   "outputs": [],
   "source": [
    "global_mean = df['lifeExp'].mean()\n",
    "global_mean"
   ]
  },
  {
   "cell_type": "code",
   "execution_count": null,
   "metadata": {},
   "outputs": [],
   "source": [
    "agg_mean_diff = (\n",
    "    df.groupby('year')\n",
    "    ['lifeExp']\n",
    "    .agg(my_mean_diff, diff_value=global_mean)\n",
    ")\n",
    "agg_mean_diff"
   ]
  },
  {
   "cell_type": "markdown",
   "metadata": {},
   "source": [
    "### 多种函数同时实现"
   ]
  },
  {
   "cell_type": "code",
   "execution_count": null,
   "metadata": {},
   "outputs": [],
   "source": [
    "gdf = (\n",
    "    df.groupby('year')['lifeExp']\n",
    "    .agg([np.count_nonzero, np.mean, np.std])\n",
    ")\n",
    "gdf"
   ]
  },
  {
   "cell_type": "code",
   "execution_count": null,
   "metadata": {},
   "outputs": [],
   "source": [
    "gdf_dict = df.groupby(\"year\").agg(\n",
    "    {\n",
    "        \"lifeExp\": \"mean\",\n",
    "        \"pop\": \"median\",\n",
    "        \"gdpPercap\": \"median\"\n",
    "    }\n",
    ")\n",
    "gdf_dict"
   ]
  },
  {
   "cell_type": "markdown",
   "metadata": {},
   "source": [
    "In the past, passing a dict into a Series after a .groupby() allowed you to directly calculate aggregate statistics as the returned value, with the key of the dict being the new column name. However, this notation is not consistent with the behavior when dicts are passed into grouped DataFrames."
   ]
  },
  {
   "cell_type": "markdown",
   "metadata": {},
   "source": [
    "## 变换"
   ]
  },
  {
   "cell_type": "markdown",
   "metadata": {},
   "source": [
    "When we transform data, we pass values from our dataframe into a function. The function then “transforms” the data. Unlike `.agg()`, which can take multiple values and return a single (aggregated) value, `.transform()` takes multiple values and returns a one-to-one transformation of the values. That is, it does not reduce the amount of data."
   ]
  },
  {
   "cell_type": "code",
   "execution_count": null,
   "metadata": {},
   "outputs": [],
   "source": [
    "def my_zscore(x):\n",
    "    return ((x - x.mean()) / x.std())"
   ]
  },
  {
   "cell_type": "code",
   "execution_count": null,
   "metadata": {},
   "outputs": [],
   "source": [
    "transform_z = df.groupby('year')['lifeExp'].transform(my_zscore)\n",
    "transform_z"
   ]
  },
  {
   "cell_type": "code",
   "execution_count": null,
   "metadata": {},
   "outputs": [],
   "source": [
    "df.shape"
   ]
  },
  {
   "cell_type": "code",
   "execution_count": null,
   "metadata": {},
   "outputs": [],
   "source": [
    "transform_z.shape"
   ]
  },
  {
   "cell_type": "code",
   "execution_count": null,
   "metadata": {},
   "outputs": [],
   "source": [
    "from scipy.stats import zscore"
   ]
  },
  {
   "cell_type": "code",
   "execution_count": null,
   "metadata": {},
   "outputs": [],
   "source": [
    "sp_z_score = df.groupby('year')['lifeExp'].transform(zscore)\n",
    "sp_z_score"
   ]
  },
  {
   "cell_type": "code",
   "execution_count": null,
   "metadata": {},
   "outputs": [],
   "source": [
    "zscore(df['lifeExp'])"
   ]
  },
  {
   "cell_type": "markdown",
   "metadata": {},
   "source": [
    "在某些数据集中，用列的平均值填充缺失值也可能是有意义的。然而，在其他时候，根据某个组别的均值也可以。"
   ]
  },
  {
   "cell_type": "code",
   "execution_count": null,
   "metadata": {},
   "outputs": [],
   "source": [
    "import seaborn as sns\n",
    "np.random.seed(42)"
   ]
  },
  {
   "cell_type": "code",
   "execution_count": null,
   "metadata": {},
   "outputs": [],
   "source": [
    "tips_10 = sns.load_dataset('tips').sample(10)\n",
    "tips_10"
   ]
  },
  {
   "cell_type": "code",
   "execution_count": null,
   "metadata": {},
   "outputs": [],
   "source": [
    "tips_10.loc[np.random.permutation(tips_10.index)[:4], 'total_bill'] = np.nan\n",
    "tips_10"
   ]
  },
  {
   "cell_type": "code",
   "execution_count": null,
   "metadata": {},
   "outputs": [],
   "source": [
    "tips_10.groupby('sex').count()"
   ]
  },
  {
   "cell_type": "code",
   "execution_count": null,
   "metadata": {},
   "outputs": [],
   "source": [
    "def fill_na_mean(x: pd.Series):\n",
    "    avg = x.mean()\n",
    "    return x.fillna(avg)"
   ]
  },
  {
   "cell_type": "code",
   "execution_count": null,
   "metadata": {},
   "outputs": [],
   "source": [
    "tips_10 = tips_10.assign(\n",
    "    fill_total_bill=tips_10.groupby('sex')\n",
    "    .total_bill\n",
    "    .transform(fill_na_mean)\n",
    ")"
   ]
  },
  {
   "cell_type": "code",
   "execution_count": null,
   "metadata": {},
   "outputs": [],
   "source": [
    "tips_10[['sex', 'total_bill', 'fill_total_bill']]"
   ]
  },
  {
   "cell_type": "markdown",
   "metadata": {},
   "source": [
    "## 过滤"
   ]
  },
  {
   "cell_type": "markdown",
   "metadata": {},
   "source": [
    "`.filter()` allows you to split your data by keys, and then perform some kind of boolean subsetting\n",
    "on the data."
   ]
  },
  {
   "cell_type": "code",
   "execution_count": null,
   "metadata": {},
   "outputs": [],
   "source": [
    "tips = sns.load_dataset('tips')\n",
    "tips.shape"
   ]
  },
  {
   "cell_type": "code",
   "execution_count": null,
   "metadata": {},
   "outputs": [],
   "source": [
    "tips['size'].value_counts()"
   ]
  },
  {
   "cell_type": "code",
   "execution_count": null,
   "metadata": {},
   "outputs": [],
   "source": [
    "tips_filtered = (\n",
    "    tips.groupby('size')\n",
    "    .filter(lambda df_: df_['size'].count() >= 30)\n",
    ")\n",
    "tips_filtered.shape"
   ]
  },
  {
   "cell_type": "code",
   "execution_count": null,
   "metadata": {},
   "outputs": [],
   "source": [
    "tips_filtered['size'].value_counts()"
   ]
  },
  {
   "cell_type": "markdown",
   "metadata": {},
   "source": [
    "## The `pandas.core.groupby.DataFrameGroupBy` object"
   ]
  },
  {
   "cell_type": "code",
   "execution_count": null,
   "metadata": {},
   "outputs": [],
   "source": [
    "tips_10 = sns.load_dataset('tips').sample(10, random_state=42)\n",
    "tips_10"
   ]
  },
  {
   "cell_type": "code",
   "execution_count": null,
   "metadata": {},
   "outputs": [],
   "source": [
    "grouped = tips_10.groupby('sex')\n",
    "print(grouped)"
   ]
  },
  {
   "cell_type": "code",
   "execution_count": null,
   "metadata": {},
   "outputs": [],
   "source": [
    "# group as key, list[index] as value\n",
    "grouped.groups"
   ]
  },
  {
   "cell_type": "markdown",
   "metadata": {},
   "source": [
    "If we specify the calculation we want right after the `.groupby()`, however, Python will perform the calculation on all the columns it can and silently drop the rest."
   ]
  },
  {
   "cell_type": "code",
   "execution_count": null,
   "metadata": {},
   "outputs": [],
   "source": [
    "grouped.mean(numeric_only=True)"
   ]
  },
  {
   "cell_type": "code",
   "execution_count": null,
   "metadata": {},
   "outputs": [],
   "source": [
    "tips_10.columns"
   ]
  },
  {
   "cell_type": "code",
   "execution_count": null,
   "metadata": {},
   "outputs": [],
   "source": [
    "female = grouped.get_group('Female')\n",
    "female"
   ]
  },
  {
   "cell_type": "code",
   "execution_count": null,
   "metadata": {},
   "outputs": [],
   "source": [
    "for key, group_data in grouped:\n",
    "    print(key, group_data)"
   ]
  },
  {
   "cell_type": "code",
   "execution_count": null,
   "metadata": {},
   "outputs": [],
   "source": [
    "for sex_group in grouped:\n",
    "    print(f'the type is: {type(sex_group)}\\n')\n",
    "    print(f'the length is: {len(sex_group)}\\n')\n",
    "    first_element = sex_group[0]\n",
    "    print(f'the first element is: {first_element}\\n')\n",
    "    print(f'it has a type of: {type(sex_group[0])}\\n')\n",
    "    second_element = sex_group[1]\n",
    "    print(f'the second element is:\\n{second_element}\\n')\n",
    "    # get the type of the second element (dataframe)\n",
    "    print(f'it has a type of: {type(second_element)}\\n')\n",
    "    # print what we have\n",
    "    print(f'what we have:')\n",
    "    print(sex_group)\n",
    "    # stop after first iteration\n",
    "    break"
   ]
  },
  {
   "cell_type": "code",
   "execution_count": null,
   "metadata": {},
   "outputs": [],
   "source": [
    "bill_sex_time = tips_10.groupby(['sex', 'time'])\n",
    "bill_sex_time.mean(numeric_only=True)"
   ]
  },
  {
   "cell_type": "markdown",
   "metadata": {},
   "source": [
    "### Flattening the Results (`.reset_index()`)"
   ]
  },
  {
   "cell_type": "code",
   "execution_count": null,
   "metadata": {},
   "outputs": [],
   "source": [
    "bill_sex_time.mean(numeric_only=True).reset_index()"
   ]
  },
  {
   "cell_type": "code",
   "execution_count": null,
   "metadata": {},
   "outputs": [],
   "source": [
    "tips_10.groupby(['sex', 'time'], as_index=False).mean(numeric_only=True)"
   ]
  },
  {
   "cell_type": "markdown",
   "metadata": {},
   "source": [
    "## Working With a MultiIndex"
   ]
  },
  {
   "cell_type": "code",
   "execution_count": null,
   "metadata": {},
   "outputs": [],
   "source": [
    "intv_df = pd.read_csv('data/epi_sim.zip')\n",
    "intv_df"
   ]
  },
  {
   "cell_type": "code",
   "execution_count": null,
   "metadata": {},
   "outputs": [],
   "source": [
    "count_only = (\n",
    "    intv_df.groupby(['rep', 'intervened', 'tr'])['ig_type']\n",
    "    .count()\n",
    ")\n",
    "count_only"
   ]
  },
  {
   "cell_type": "code",
   "execution_count": null,
   "metadata": {},
   "outputs": [],
   "source": [
    "type(count_only)"
   ]
  },
  {
   "cell_type": "code",
   "execution_count": null,
   "metadata": {},
   "outputs": [],
   "source": [
    "count_mean = count_only.groupby(level=[0, 1, 2]).mean()\n",
    "count_mean"
   ]
  },
  {
   "cell_type": "code",
   "execution_count": null,
   "metadata": {},
   "outputs": [],
   "source": [
    "count_mean = (\n",
    "    intv_df.groupby(['rep', 'intervened', 'tr'])['ig_type']\n",
    "    .count()\n",
    "    .groupby(level=[0, 1, 2])\n",
    "    .mean()\n",
    ")\n",
    "# 不理解这样做的原因"
   ]
  },
  {
   "cell_type": "code",
   "execution_count": null,
   "metadata": {},
   "outputs": [],
   "source": [
    "import seaborn as sns\n",
    "import matplotlib.pyplot as plt"
   ]
  },
  {
   "cell_type": "code",
   "execution_count": null,
   "metadata": {},
   "outputs": [],
   "source": [
    "fig = sns.lmplot(\n",
    "    data=count_mean.reset_index(),\n",
    "    x='intervened',\n",
    "    y='ig_type',\n",
    "    hue='rep',\n",
    "    col='tr',\n",
    "    fit_reg=False,\n",
    "    palette='viridis'\n",
    ")\n",
    "plt.show()"
   ]
  },
  {
   "cell_type": "code",
   "execution_count": null,
   "metadata": {},
   "outputs": [],
   "source": [
    "cumulative_count = (\n",
    "    intv_df.groupby(['rep', 'intervened', 'tr'])['ig_type']\n",
    "    .count()\n",
    "    .groupby(level=['rep'])\n",
    "    .cumsum()\n",
    "    .reset_index()\n",
    ")\n",
    "\n",
    "fig = sns.lmplot(\n",
    "    data=cumulative_count,\n",
    "    x='intervened',\n",
    "    y='ig_type',\n",
    "    hue='rep',\n",
    "    col='tr',\n",
    "    fit_reg=False,\n",
    ")\n",
    "plt.show()"
   ]
  },
  {
   "cell_type": "code",
   "execution_count": null,
   "metadata": {},
   "outputs": [],
   "source": []
  }
 ],
 "metadata": {
  "kernelspec": {
   "display_name": "Python 3",
   "language": "python",
   "name": "python3"
  },
  "language_info": {
   "codemirror_mode": {
    "name": "ipython",
    "version": 3
   },
   "file_extension": ".py",
   "mimetype": "text/x-python",
   "name": "python",
   "nbconvert_exporter": "python",
   "pygments_lexer": "ipython3",
   "version": "3.11.1"
  }
 },
 "nbformat": 4,
 "nbformat_minor": 2
}

{
 "cells": [
  {
   "cell_type": "code",
   "execution_count": 1,
   "metadata": {},
   "outputs": [
    {
     "name": "stdout",
     "output_type": "stream",
     "text": [
      "\n",
      "@File         : CH08.ipynb\n",
      "@Author(s)    : Stephen CUI\n",
      "@LastEditor(s): Stephen CUI\n",
      "@CreatedTime  : 2024-09-02 12:14:15\n",
      "@Email        : cuixuanstephen@gmail.com\n",
      "@Description  : 使用读写包操作 Excel 文件\n",
      "\n"
     ]
    }
   ],
   "source": [
    "print(\"\"\"\n",
    "@File         : CH08.ipynb\n",
    "@Author(s)    : Stephen CUI\n",
    "@LastEditor(s): Stephen CUI\n",
    "@CreatedTime  : 2024-09-02 12:14:15\n",
    "@Email        : cuixuanstephen@gmail.com\n",
    "@Description  : 使用读写包操作 Excel 文件\n",
    "\"\"\")"
   ]
  },
  {
   "cell_type": "code",
   "execution_count": 2,
   "metadata": {},
   "outputs": [
    {
     "name": "stdout",
     "output_type": "stream",
     "text": [
      "d:\\Data-Analysis-and-Science\\PY4XL\n"
     ]
    }
   ],
   "source": [
    "%cd ../"
   ]
  },
  {
   "cell_type": "markdown",
   "metadata": {},
   "source": [
    "## 读写包"
   ]
  },
  {
   "cell_type": "markdown",
   "metadata": {},
   "source": [
    "### 何时使用何种包\n",
    "\n",
    "|Excel文件格式|读|写|编辑|\n",
    "|---|---|---|---|\n",
    "|xlsx|OpenPyXL|OpenPyXL, XlsxWriter|OpenPyXL|\n",
    "|xlsm|OpenPyXL|OpenPyXL, XlsxWriter|OpenPyXL|\n",
    "|xltx, xltm|OpenPyXL|OpenPyXL|OpenPyXL|\n",
    "|xlsb|pyxlsb|-|-|\n",
    "|xls, xlt|xlrd|xlwt|xlutils"
   ]
  },
  {
   "cell_type": "markdown",
   "metadata": {},
   "source": [
    "pandas 会使用它可以找到的读取包，如果同时安装了 `OpenPyXL` 和 `XlsxWriter`，那么 pandas 默认使用 `XlsxWriter`。如果你想亲自选择 pandas 所使用的包，则可以在 `read_excel` 或 `to_excel`，以及 `ExcelFile` 或 `ExcelWriter` 的 `engine` 参数中指定所选包。`engine`（引擎）是小写的包名，因此如果要用 `OpenPyXL` 而不是 `XlsxWriter` 来写文件，则需要执行如下代码：\n",
    "\n",
    "```python\n",
    "df.to_excel(\"filename.xlsx\", engine=\"openpyxl\")\n",
    "```"
   ]
  },
  {
   "cell_type": "code",
   "execution_count": 3,
   "metadata": {},
   "outputs": [],
   "source": [
    "import pandas as pd\n",
    "import sys\n",
    "from pathlib import Path\n",
    "\n",
    "sys.path.append(Path('.').resolve() / 'sources')\n",
    "\n",
    "import openpyxl\n",
    "import sources.excel as excel\n",
    "import datetime as dt"
   ]
  },
  {
   "cell_type": "markdown",
   "metadata": {},
   "source": [
    "### OpenPyXL"
   ]
  },
  {
   "cell_type": "markdown",
   "metadata": {},
   "source": [
    "要获得单元格的值，需要使用 `data_only=True` 参数来打开工作簿，其默认值是 `False`，此时会返回单元格的公式而不是值："
   ]
  },
  {
   "cell_type": "code",
   "execution_count": 4,
   "metadata": {},
   "outputs": [],
   "source": [
    "# 在加载数据之后文件会自动关闭\n",
    "book = openpyxl.load_workbook('xl/stores.xlsx', data_only=True)\n",
    "\n",
    "# 通过名称或索引（从0开始）获取工作表对象\n",
    "sheet = book['2019']\n",
    "sheet = book.worksheets[0]"
   ]
  },
  {
   "cell_type": "code",
   "execution_count": 5,
   "metadata": {},
   "outputs": [
    {
     "data": {
      "text/plain": [
       "['2019', '2020', '2019-2020']"
      ]
     },
     "execution_count": 5,
     "metadata": {},
     "output_type": "execute_result"
    }
   ],
   "source": [
    "book.sheetnames"
   ]
  },
  {
   "cell_type": "code",
   "execution_count": 7,
   "metadata": {},
   "outputs": [
    {
     "name": "stdout",
     "output_type": "stream",
     "text": [
      "2019\n",
      "2020\n",
      "2019-2020\n"
     ]
    }
   ],
   "source": [
    "for i in book.worksheets:\n",
    "    print(i.title)\n",
    "    \n",
    "# 遍历所有工作表对象\n",
    "# openpyxl 使用的是 title 而不是 name"
   ]
  },
  {
   "cell_type": "code",
   "execution_count": 9,
   "metadata": {},
   "outputs": [
    {
     "data": {
      "text/plain": [
       "(8, 6)"
      ]
     },
     "execution_count": 9,
     "metadata": {},
     "output_type": "execute_result"
    }
   ],
   "source": [
    "# 获取维度，以工作表\n",
    "# 所选区域为例\n",
    "sheet.max_row, sheet.max_column"
   ]
  },
  {
   "cell_type": "code",
   "execution_count": 11,
   "metadata": {},
   "outputs": [
    {
     "data": {
      "text/plain": [
       "'Boston'"
      ]
     },
     "execution_count": 11,
     "metadata": {},
     "output_type": "execute_result"
    }
   ],
   "source": [
    "# 读取单个单元格的值，分别使用的是 A1 这种\n",
    "# 表示法，以及单元格索引（从 1 开始）\n",
    "\n",
    "sheet['B6'].value"
   ]
  },
  {
   "cell_type": "code",
   "execution_count": 12,
   "metadata": {},
   "outputs": [
    {
     "data": {
      "text/plain": [
       "'Boston'"
      ]
     },
     "execution_count": 12,
     "metadata": {},
     "output_type": "execute_result"
    }
   ],
   "source": [
    "sheet.cell(row=6, column=2).value"
   ]
  },
  {
   "cell_type": "code",
   "execution_count": 14,
   "metadata": {},
   "outputs": [
    {
     "data": {
      "text/plain": [
       "[['Store', 'Employees', 'Manager', 'Since', 'Flagship'],\n",
       " ['New York', 10, 'Sarah', datetime.datetime(2018, 7, 20, 0, 0), False]]"
      ]
     },
     "execution_count": 14,
     "metadata": {},
     "output_type": "execute_result"
    }
   ],
   "source": [
    "# 作者自定义函数\n",
    "data = excel.read(book['2019'], (2, 2), (8, 6))\n",
    "data[:2]"
   ]
  },
  {
   "cell_type": "markdown",
   "metadata": {},
   "source": [
    "#### 使用 OpenPyXL 写入文件\n",
    "\n",
    "OpenPyXL 会在内存中构建 Excel 文件，当你调用 `save` 方法时会将其写入文件。"
   ]
  },
  {
   "cell_type": "code",
   "execution_count": 15,
   "metadata": {},
   "outputs": [],
   "source": [
    "import openpyxl\n",
    "from openpyxl.drawing.image import Image\n",
    "from openpyxl.chart import BarChart, Reference\n",
    "from openpyxl.styles import Font, colors\n",
    "from openpyxl.styles.borders import Border, Side\n",
    "from openpyxl.styles.alignment import Alignment\n",
    "from openpyxl.styles.fills import PatternFill\n",
    "from sources import excel"
   ]
  },
  {
   "cell_type": "code",
   "execution_count": 29,
   "metadata": {},
   "outputs": [],
   "source": [
    "book = openpyxl.Workbook()\n",
    "\n",
    "sheet = book.active\n",
    "sheet.title = 'Sheet1'"
   ]
  },
  {
   "cell_type": "code",
   "execution_count": 30,
   "metadata": {},
   "outputs": [
    {
     "data": {
      "text/plain": [
       "<Cell 'Sheet1'.A2>"
      ]
     },
     "execution_count": 30,
     "metadata": {},
     "output_type": "execute_result"
    }
   ],
   "source": [
    "sheet['A1'].value = \"Hello 1\"\n",
    "sheet.cell(row=2, column=1, value='Hell0, 2')"
   ]
  },
  {
   "cell_type": "code",
   "execution_count": 31,
   "metadata": {},
   "outputs": [],
   "source": [
    "# 格式化：填充颜色、对齐、边框和字体\n",
    "font_format = Font(color='FF0000', bold=True)\n",
    "thin = Side(border_style='thin', color='FF0000')\n",
    "sheet['A3'].value = 'Hello, 3'\n",
    "sheet['A3'].font = font_format\n",
    "sheet['A3'].border = Border(top=thin, left=thin, right=thin, bottom=thin)\n",
    "sheet['A3'].alignment = Alignment(horizontal='center')\n",
    "sheet['A3'].fill = PatternFill(fgColor='FFFF00', fill_type='solid')"
   ]
  },
  {
   "cell_type": "code",
   "execution_count": 32,
   "metadata": {},
   "outputs": [],
   "source": [
    "# 数字格式化（使用 Excel 的格式化字符串）\n",
    "sheet['A4'].value = 3.3333\n",
    "sheet['A4'].number_format = \"0.00\""
   ]
  },
  {
   "cell_type": "code",
   "execution_count": 33,
   "metadata": {},
   "outputs": [],
   "source": [
    "# 日期格式化（使用 Excel 的格式化字符串）\n",
    "sheet['A5'].value = dt.date(2016, 10, 13)\n",
    "sheet['A5'].number_format = 'mm/dd/yy'"
   ]
  },
  {
   "cell_type": "code",
   "execution_count": 34,
   "metadata": {},
   "outputs": [],
   "source": [
    "# 公式：必须使用以逗号分隔的英文公式名称\n",
    "sheet['A6'].value = '=SUM(A4, 2)'"
   ]
  },
  {
   "cell_type": "code",
   "execution_count": 35,
   "metadata": {},
   "outputs": [],
   "source": [
    "sheet.add_image(Image('images/python.png'), 'C1')\n",
    "# 图片"
   ]
  },
  {
   "cell_type": "code",
   "execution_count": 36,
   "metadata": {},
   "outputs": [],
   "source": [
    "data = [[None, 'North', 'South'],\n",
    "        ['Last Year', 2, 5],\n",
    "        ['This Year', 3, 6],]\n",
    "\n",
    "excel.write(sheet, data, 'A10')"
   ]
  },
  {
   "cell_type": "code",
   "execution_count": 37,
   "metadata": {},
   "outputs": [],
   "source": [
    "chart = BarChart()\n",
    "chart.type = 'col'\n",
    "chart.title = 'Sales Per Region'\n",
    "chart.x_axis.title = 'Regions'\n",
    "chart.y_axis.title = 'Sales'\n",
    "chart_data = Reference(sheet, min_row=11, min_col=1, max_row=12, max_col=3)\n",
    "\n",
    "chart_categories = Reference(sheet, min_row=10, min_col=2, max_row=10, max_col=3)"
   ]
  },
  {
   "cell_type": "code",
   "execution_count": 38,
   "metadata": {},
   "outputs": [],
   "source": [
    "chart.add_data(chart_data, titles_from_data=True, from_rows=True)\n",
    "chart.set_categories(chart_categories)\n",
    "\n",
    "sheet.add_chart(chart, 'A15')"
   ]
  },
  {
   "cell_type": "code",
   "execution_count": 39,
   "metadata": {},
   "outputs": [],
   "source": [
    "book.save('res/openpyxl.xlsx')"
   ]
  },
  {
   "cell_type": "markdown",
   "metadata": {},
   "source": [
    "如果想写入为 Excel 模板文件，那么需要在保存前设置 `template` 属性为 True："
   ]
  },
  {
   "cell_type": "code",
   "execution_count": 40,
   "metadata": {},
   "outputs": [],
   "source": [
    "book = openpyxl.Workbook()\n",
    "sheet = book.active\n",
    "\n",
    "sheet['A1'].value = 'This is a template'\n",
    "book.template = True\n",
    "book.save('res/template.xltx')"
   ]
  },
  {
   "cell_type": "markdown",
   "metadata": {},
   "source": [
    "#### 使用 OpenPyXL 编辑文件\n",
    "\n",
    "并不存在真正可以编辑 Excel 文件的读写包：实际上 OpenPyXL 首先会读取所有它可以理解的数据，然后再将文件数据从头到尾写回去，其间你做出的所有更改也会包含其中。对于一些主要包含已格式化的单元格以及数据和公式的简单 Excel 文件来说，它的功能已经非常强大了。但如果你的工作表中包含图表或者其他高级内容，那么 OpenPyXL 的功能就显得非常有限了，这些内容要么会被修改，要么会被直接丢弃。例如，在 OpenPyXL v3.0.5 版本中，图表会被重命名且标题会被丢弃。下面是编辑 Excel 文件的示例："
   ]
  },
  {
   "cell_type": "code",
   "execution_count": 41,
   "metadata": {},
   "outputs": [],
   "source": [
    "book = openpyxl.load_workbook('xl/stores.xlsx')\n",
    "book['2019']['A1'].value = 'modified'\n",
    "book.save('res/stores_edited.xlsx')"
   ]
  },
  {
   "cell_type": "markdown",
   "metadata": {},
   "source": [
    "如果想写入为 xlsm 文件，那么 OpenPyXL 就必须处理一个已经存在的文件，并且在加载时需要将 `keep_vba` 参数设置为 `True`："
   ]
  },
  {
   "cell_type": "code",
   "execution_count": 42,
   "metadata": {},
   "outputs": [],
   "source": [
    "book = openpyxl.load_workbook('xl/macro.xlsm', keep_vba=True)\n",
    "book['Sheet1']['A1'].value = 'Click the button!'\n",
    "book.save('res/macro_openpyxl.xlsm')"
   ]
  },
  {
   "cell_type": "markdown",
   "metadata": {},
   "source": [
    "### XlsxWriter\n",
    "\n",
    "顾名思义，XlsxWriter 只能写入 Excel 文件注意，XlsxWriter 使用的是从 0 开始的单元格索引，\n",
    "而 OpenPyXL 使用的是从 1 开始的单元格索引，一定要在切换两个包时考虑到这一点。"
   ]
  },
  {
   "cell_type": "code",
   "execution_count": 44,
   "metadata": {},
   "outputs": [],
   "source": [
    "import xlsxwriter"
   ]
  },
  {
   "cell_type": "code",
   "execution_count": 46,
   "metadata": {},
   "outputs": [],
   "source": [
    "# 实例化工作簿\n",
    "book = xlsxwriter.Workbook('res/xlsxwriter.xlsx')"
   ]
  },
  {
   "cell_type": "code",
   "execution_count": 47,
   "metadata": {},
   "outputs": [],
   "source": [
    "# 添加工作表并为其命名\n",
    "sheet = book.add_worksheet('Sheet1')"
   ]
  },
  {
   "cell_type": "markdown",
   "metadata": {},
   "source": [
    "### pyxlsb"
   ]
  },
  {
   "cell_type": "markdown",
   "metadata": {},
   "source": [
    "和其他读取库相比，pyxlsb 提供的功能不多，但是如果你要读取二进制的 xlsb 格式的 Excel 文件，那么 pyxlsb 就成了唯一选择。"
   ]
  },
  {
   "cell_type": "markdown",
   "metadata": {},
   "source": []
  }
 ],
 "metadata": {
  "kernelspec": {
   "display_name": "Python 3",
   "language": "python",
   "name": "python3"
  },
  "language_info": {
   "codemirror_mode": {
    "name": "ipython",
    "version": 3
   },
   "file_extension": ".py",
   "mimetype": "text/x-python",
   "name": "python",
   "nbconvert_exporter": "python",
   "pygments_lexer": "ipython3",
   "version": "3.11.1"
  }
 },
 "nbformat": 4,
 "nbformat_minor": 2
}

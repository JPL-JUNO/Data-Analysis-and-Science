{
 "cells": [
  {
   "cell_type": "code",
   "execution_count": 32,
   "metadata": {},
   "outputs": [
    {
     "name": "stdout",
     "output_type": "stream",
     "text": [
      "\n",
      "@File         : ch02_beginning_with_numpy_fundamentals.ipynb\n",
      "@Author(s)    : Stephen CUI\n",
      "@LastEditor(s): Stephen CUI\n",
      "@CreatedTime  : 2024-03-23 15:22:30\n",
      "@Email        : cuixuanstephen@gmail.com\n",
      "@Description  : NumPy 基础\n",
      "\n"
     ]
    }
   ],
   "source": [
    "print(\"\"\"\n",
    "@File         : ch02_beginning_with_numpy_fundamentals.ipynb\n",
    "@Author(s)    : Stephen CUI\n",
    "@LastEditor(s): Stephen CUI\n",
    "@CreatedTime  : 2024-03-23 15:22:30\n",
    "@Email        : cuixuanstephen@gmail.com\n",
    "@Description  : NumPy 基础\n",
    "\"\"\")"
   ]
  },
  {
   "cell_type": "code",
   "execution_count": 33,
   "metadata": {},
   "outputs": [],
   "source": [
    "import numpy as np"
   ]
  },
  {
   "cell_type": "markdown",
   "metadata": {},
   "source": [
    "# NumPy 基础"
   ]
  },
  {
   "cell_type": "markdown",
   "metadata": {},
   "source": [
    "## NumPy 数组对象"
   ]
  },
  {
   "cell_type": "markdown",
   "metadata": {},
   "source": [
    "NumPy 中的 ndarray 是一个多维数组对象，该对象由两部分组成：\n",
    "\n",
    "- 实际的数据；\n",
    "- 描述这些数据的元数据（metadata）。\n",
    "\n",
    "大部分的数组操作仅仅修改元数据部分，而不改变底层的实际数据。\n",
    "\n",
    "NumPy 数组一般是同质的（但有一种特殊的数组类型例外，它是异质的），即数组中的所有元素类型必须是一致的。这样有一个好处：如果我们知道数组中的元素均为同一类型，该数组所需的存储空间就很容易确定下来。\n",
    "\n",
    "与 Python 一样，NumPy 数组的下标也是从 0 开始的。数组元素的数据类型用专门的对象表示。\n",
    "\n",
    "数组的 `shape` 属性返回一个元组（tuple），元组中的元素即为 NumPy 数组每一个维度上的大小。"
   ]
  },
  {
   "cell_type": "markdown",
   "metadata": {},
   "source": [
    "## 动手实践：创建多维数组"
   ]
  },
  {
   "cell_type": "code",
   "execution_count": 34,
   "metadata": {},
   "outputs": [
    {
     "data": {
      "text/plain": [
       "array([[0, 1],\n",
       "       [0, 1]])"
      ]
     },
     "execution_count": 34,
     "metadata": {},
     "output_type": "execute_result"
    }
   ],
   "source": [
    "m = np.array([np.arange(2), np.arange(2)])\n",
    "m"
   ]
  },
  {
   "cell_type": "code",
   "execution_count": 35,
   "metadata": {},
   "outputs": [
    {
     "data": {
      "text/plain": [
       "(2, 2)"
      ]
     },
     "execution_count": 35,
     "metadata": {},
     "output_type": "execute_result"
    }
   ],
   "source": [
    "m.shape"
   ]
  },
  {
   "cell_type": "markdown",
   "metadata": {},
   "source": [
    "`np.array` 函数可以依据给定的对象生成数组。给定的对象应是类数组，如 Python 中的列表。像这样的类数组对象是 `np.array` 函数的唯一必要参数，其余的诸多参数均为有默认值的可选参数。第二个常用的参数应该是 `dtype`。\n"
   ]
  },
  {
   "cell_type": "markdown",
   "metadata": {},
   "source": [
    "### 选取数组元素"
   ]
  },
  {
   "cell_type": "markdown",
   "metadata": {},
   "source": [
    "有时候，我们需要选取数组中的某个特定元素。可以一次选取数组中的每个元素，尽管我觉得这不常用。需要注意的是，数组的下标是从 0 开始的。"
   ]
  },
  {
   "cell_type": "code",
   "execution_count": 36,
   "metadata": {},
   "outputs": [
    {
     "data": {
      "text/plain": [
       "array([[1, 2],\n",
       "       [3, 4]])"
      ]
     },
     "execution_count": 36,
     "metadata": {},
     "output_type": "execute_result"
    }
   ],
   "source": [
    "a = np.array([[1, 2], [3, 4]])\n",
    "a"
   ]
  },
  {
   "cell_type": "code",
   "execution_count": 37,
   "metadata": {},
   "outputs": [
    {
     "data": {
      "text/plain": [
       "1"
      ]
     },
     "execution_count": 37,
     "metadata": {},
     "output_type": "execute_result"
    }
   ],
   "source": [
    "a[0, 0]"
   ]
  },
  {
   "cell_type": "code",
   "execution_count": 38,
   "metadata": {},
   "outputs": [
    {
     "data": {
      "text/plain": [
       "2"
      ]
     },
     "execution_count": 38,
     "metadata": {},
     "output_type": "execute_result"
    }
   ],
   "source": [
    "a[0, 1]"
   ]
  },
  {
   "cell_type": "code",
   "execution_count": 39,
   "metadata": {},
   "outputs": [
    {
     "data": {
      "text/plain": [
       "3"
      ]
     },
     "execution_count": 39,
     "metadata": {},
     "output_type": "execute_result"
    }
   ],
   "source": [
    "a[1, 0]"
   ]
  },
  {
   "cell_type": "code",
   "execution_count": 40,
   "metadata": {},
   "outputs": [
    {
     "data": {
      "text/plain": [
       "4"
      ]
     },
     "execution_count": 40,
     "metadata": {},
     "output_type": "execute_result"
    }
   ],
   "source": [
    "a[1, 1]"
   ]
  },
  {
   "cell_type": "markdown",
   "metadata": {},
   "source": [
    "对于数组 `a`，只需要用 `a[m,n]` 选取各数组元素，其中 `m` 和 `n` 为元素下标。"
   ]
  },
  {
   "cell_type": "markdown",
   "metadata": {},
   "source": [
    "### NumPy 数值类型"
   ]
  },
  {
   "cell_type": "markdown",
   "metadata": {},
   "source": [
    "Python 支持的数据类型有整型、浮点型以及复数型，但这些类型不足以满足科学计算的需求，因此 NumPy 添加了很多其他的数据类型。在实际应用中，我们需要不同精度的数据类型，它们占用的内存空间也是不同的。"
   ]
  },
  {
   "cell_type": "markdown",
   "metadata": {},
   "source": [
    "|类 型| 描 述|\n",
    "|---|---|\n",
    "|bool |用一位存储的布尔类型（值为 TRUE 或 FALSE）|\n",
    "|inti |由所在平台决定其精度的整数（一般为 int32 或 int64）|\n",
    "|int8 |整数，范围为 -128 至 127|\n",
    "|int16 |整数，范围为 -32768 至 32767|\n",
    "|int32 |整数，范围为 -$2^{31}$ 至 $2^{31}$ -1|\n",
    "|int64 |整数，范围为 -$2^{63}$ 至 $2^{63}$ -1|\n",
    "|uint8 |无符号整数，范围为 0 至 255|\n",
    "|uint16 |无符号整数，范围为 0 至 65535|\n",
    "|uint32 |无符号整数，范围为 0 至 $2^{32}$-1|\n",
    "|uint64 |无符号整数，范围为 0 至 $2^{64}$-1|\n",
    "|float16 |半精度浮点数（16 位）：其中用 1 位表示正负号，5 位表示指数，10 位表示尾数|\n",
    "|float32 |单精度浮点数（32 位）：其中用 1 位表示正负号，8 位表示指数，23 位表示尾数|\n",
    "|float64或float |双精度浮点数（64 位）：其中用1位表示正负号，11 位表示指数，52 位表示尾数|\n",
    "|complex64 |复数，分别用两个 32 位浮点数表示实部和虚部|\n",
    "|complex128或complex |复数，分别用两个 64 位浮点数表示实部和虚部|"
   ]
  },
  {
   "cell_type": "markdown",
   "metadata": {},
   "source": [
    "对于浮点类型，我们可以使用 `finfo()` 函数获取信息："
   ]
  },
  {
   "cell_type": "code",
   "execution_count": 41,
   "metadata": {},
   "outputs": [
    {
     "data": {
      "text/plain": [
       "finfo(resolution=1e-06, min=-3.4028235e+38, max=3.4028235e+38, dtype=float32)"
      ]
     },
     "execution_count": 41,
     "metadata": {},
     "output_type": "execute_result"
    }
   ],
   "source": [
    "np.finfo(np.float32)"
   ]
  },
  {
   "cell_type": "markdown",
   "metadata": {},
   "source": [
    "每一种数据类型均有对应的类型转换函数："
   ]
  },
  {
   "cell_type": "code",
   "execution_count": 43,
   "metadata": {},
   "outputs": [
    {
     "data": {
      "text/plain": [
       "0.0"
      ]
     },
     "execution_count": 43,
     "metadata": {},
     "output_type": "execute_result"
    }
   ],
   "source": [
    "np.float64(False)"
   ]
  },
  {
   "cell_type": "code",
   "execution_count": 44,
   "metadata": {},
   "outputs": [
    {
     "data": {
      "text/plain": [
       "42.0"
      ]
     },
     "execution_count": 44,
     "metadata": {},
     "output_type": "execute_result"
    }
   ],
   "source": [
    "np.float64(42)"
   ]
  },
  {
   "cell_type": "code",
   "execution_count": null,
   "metadata": {},
   "outputs": [],
   "source": [
    "np.int8(42.0)"
   ]
  },
  {
   "cell_type": "code",
   "execution_count": null,
   "metadata": {},
   "outputs": [],
   "source": [
    "np.bool_(42)"
   ]
  },
  {
   "cell_type": "code",
   "execution_count": null,
   "metadata": {},
   "outputs": [],
   "source": [
    "np.bool_(0)"
   ]
  },
  {
   "cell_type": "code",
   "execution_count": null,
   "metadata": {},
   "outputs": [],
   "source": [
    "np.bool_(42.0)"
   ]
  },
  {
   "cell_type": "code",
   "execution_count": null,
   "metadata": {},
   "outputs": [],
   "source": [
    "np.float64(True)"
   ]
  },
  {
   "cell_type": "code",
   "execution_count": null,
   "metadata": {},
   "outputs": [],
   "source": [
    "np.float64(False)"
   ]
  },
  {
   "cell_type": "markdown",
   "metadata": {},
   "source": [
    "在 NumPy 中，许多函数的参数中可以指定数据类型，通常这个参数是可选的："
   ]
  },
  {
   "cell_type": "code",
   "execution_count": null,
   "metadata": {},
   "outputs": [],
   "source": [
    "np.arange(7, dtype=np.uint8)"
   ]
  },
  {
   "cell_type": "markdown",
   "metadata": {},
   "source": [
    "需要注意的是，复数是不能转换为整数或者浮点，这将触发 `TypeError` 错误："
   ]
  },
  {
   "cell_type": "code",
   "execution_count": 45,
   "metadata": {},
   "outputs": [
    {
     "ename": "TypeError",
     "evalue": "int() argument must be a string, a bytes-like object or a real number, not 'complex'",
     "output_type": "error",
     "traceback": [
      "\u001b[1;31m---------------------------------------------------------------------------\u001b[0m",
      "\u001b[1;31mTypeError\u001b[0m                                 Traceback (most recent call last)",
      "Cell \u001b[1;32mIn[45], line 1\u001b[0m\n\u001b[1;32m----> 1\u001b[0m \u001b[43mnp\u001b[49m\u001b[38;5;241;43m.\u001b[39;49m\u001b[43mint16\u001b[49m\u001b[43m(\u001b[49m\u001b[38;5;241;43m42.0\u001b[39;49m\u001b[43m \u001b[49m\u001b[38;5;241;43m+\u001b[39;49m\u001b[43m \u001b[49m\u001b[38;5;241;43m1.0\u001b[39;49m\u001b[43mj\u001b[49m\u001b[43m)\u001b[49m\n",
      "\u001b[1;31mTypeError\u001b[0m: int() argument must be a string, a bytes-like object or a real number, not 'complex'"
     ]
    }
   ],
   "source": [
    "np.int16(42.0 + 1.0j)"
   ]
  },
  {
   "cell_type": "markdown",
   "metadata": {},
   "source": [
    "不过，浮点数却可以转换为复数。"
   ]
  },
  {
   "cell_type": "code",
   "execution_count": null,
   "metadata": {},
   "outputs": [],
   "source": [
    "np.complex64(1.0)"
   ]
  },
  {
   "cell_type": "markdown",
   "metadata": {},
   "source": [
    "### 数据类型对象\n",
    "\n",
    "数据类型对象是 `numpy.dtype` 类的实例。如前所述，NumPy 数组是有数据类型的，更确切地说，NumPy 数组中的每一个元素均为相同的数据类型。数据类型对象可以给出单个数组元素在内存中占用的字节数，即 `dtype` 类的 `itemsize` 属性："
   ]
  },
  {
   "cell_type": "code",
   "execution_count": null,
   "metadata": {},
   "outputs": [],
   "source": [
    "a.dtype.itemsize"
   ]
  },
  {
   "cell_type": "markdown",
   "metadata": {},
   "source": [
    "### 用字符指定数据类型\n",
    "\n",
    "NumPy 可以使用字符来表示数据类型，这是为了兼容 NumPy 的前身 Numeric。不推荐使用字符，但有时会用到，因此下面还是列出了字符编码的对应表。应该优先使用 dtype 对象来表示数据类型，而不是这些字符编码。\n",
    "\n",
    "|数据类型 |字符|\n",
    "|---|---|\n",
    "|整数| i|\n",
    "|无符号整数 |u|\n",
    "|单精度浮点数 |f|\n",
    "|双精度浮点数 |d|\n",
    "|布尔值 |b|\n",
    "|复数| D|\n",
    "|字符串| S|\n",
    "|unicode 字符串| U|\n",
    "|void（空）| V|"
   ]
  },
  {
   "cell_type": "code",
   "execution_count": null,
   "metadata": {},
   "outputs": [],
   "source": [
    "np.arange(7, dtype=\"f\")"
   ]
  },
  {
   "cell_type": "code",
   "execution_count": null,
   "metadata": {},
   "outputs": [],
   "source": [
    "np.arange(7, dtype=\"D\")"
   ]
  },
  {
   "cell_type": "markdown",
   "metadata": {},
   "source": [
    "### 数据类型构造函数\n",
    "\n",
    "Python 类具有函数，如果它们属于一个类，则称为**方法**。其中一些方法很特殊，用于创建新对象。这些专门的方法称为**构造函数**。有很多的方法来创建一个数据类型，这里以浮点数为例："
   ]
  },
  {
   "cell_type": "code",
   "execution_count": null,
   "metadata": {},
   "outputs": [],
   "source": [
    "np.dtype(float)  # Use the general Python float"
   ]
  },
  {
   "cell_type": "code",
   "execution_count": null,
   "metadata": {},
   "outputs": [],
   "source": [
    "np.dtype(\"f\")  # Specify a single precision float with a character code"
   ]
  },
  {
   "cell_type": "code",
   "execution_count": null,
   "metadata": {},
   "outputs": [],
   "source": [
    "np.dtype(\"d\")  # Use a double precision float character code"
   ]
  },
  {
   "cell_type": "markdown",
   "metadata": {},
   "source": [
    "还可以将两个字符作为参数传给数据类型的构造函数。此时，第一个字符表示数据类型，第二个字符表示该类型在内存中占用的字节数（2、4、8 分别代表精度为 16、32、64 位的浮点数）："
   ]
  },
  {
   "cell_type": "code",
   "execution_count": null,
   "metadata": {},
   "outputs": [],
   "source": [
    "np.dtype(\"f8\")"
   ]
  },
  {
   "cell_type": "markdown",
   "metadata": {},
   "source": [
    "完整的 NumPy 数据类型列表可以在 sctypeDict.keys() 中找到："
   ]
  },
  {
   "cell_type": "code",
   "execution_count": null,
   "metadata": {},
   "outputs": [],
   "source": [
    "np.sctypeDict.keys()"
   ]
  },
  {
   "cell_type": "markdown",
   "metadata": {},
   "source": [
    "### dtype 类的属性\n",
    "\n",
    "dtype类有很多有用的属性。char 可以获取数据类型的字符编码，type 属性对应于数组元素的数据类型："
   ]
  },
  {
   "cell_type": "code",
   "execution_count": 46,
   "metadata": {},
   "outputs": [],
   "source": [
    "t = np.dtype(\"float64\")"
   ]
  },
  {
   "cell_type": "code",
   "execution_count": 47,
   "metadata": {},
   "outputs": [
    {
     "data": {
      "text/plain": [
       "'d'"
      ]
     },
     "execution_count": 47,
     "metadata": {},
     "output_type": "execute_result"
    }
   ],
   "source": [
    "t.char"
   ]
  },
  {
   "cell_type": "code",
   "execution_count": 49,
   "metadata": {},
   "outputs": [
    {
     "data": {
      "text/plain": [
       "numpy.float64"
      ]
     },
     "execution_count": 49,
     "metadata": {},
     "output_type": "execute_result"
    }
   ],
   "source": [
    "t.type"
   ]
  },
  {
   "cell_type": "markdown",
   "metadata": {},
   "source": [
    "str 属性可以给出数据类型的字符串表示，该字符串的首个字符表示字节序（endianness），后面如果还有字符的话，将是一个字符编码，接着一个数字表示每个数组元素存储所需的字节数。这里，字节序是指位长为 32 或 64 的字（word）存储的顺序，包括大端序（big-endian）和小端序（little-endian）。大端序是将最高位字节存储在最低的内存地址处，用 > 表示；与之相反，小端序是将最低位字节存储在最低的内存地址处，用 < 表示："
   ]
  },
  {
   "cell_type": "code",
   "execution_count": null,
   "metadata": {},
   "outputs": [],
   "source": [
    "t.str"
   ]
  },
  {
   "cell_type": "markdown",
   "metadata": {},
   "source": [
    "## 创建自定义数据类型\n",
    "\n",
    "自定义数据类型是一种异构数据类型，可以当做用来记录电子表格或数据库中一行数据的结构。"
   ]
  },
  {
   "cell_type": "code",
   "execution_count": null,
   "metadata": {},
   "outputs": [],
   "source": [
    "itemz = np.array([(\"Meaning of life DVD\", 42, 3.14), (\"Butter\", 13, 2.72)], dtype=t)\n",
    "itemz"
   ]
  },
  {
   "cell_type": "markdown",
   "metadata": {},
   "source": [
    "在用 `np.array` 函数创建数组时，如果没有在参数中指定数据类型，将默认为浮点数类型。而现在，我们想要创建自定义数据类型的数组，就必须在参数中指定数据类型，否则将触发 `TypeError` 错误。"
   ]
  },
  {
   "cell_type": "markdown",
   "metadata": {},
   "source": [
    "## 一维数组的索引和切片\n",
    "\n",
    "一维数组的切片操作与 Python 列表的切片操作很相似。"
   ]
  },
  {
   "cell_type": "code",
   "execution_count": null,
   "metadata": {},
   "outputs": [],
   "source": [
    "a = np.arange(9)"
   ]
  },
  {
   "cell_type": "code",
   "execution_count": null,
   "metadata": {},
   "outputs": [],
   "source": [
    "a[3:7]"
   ]
  },
  {
   "cell_type": "code",
   "execution_count": null,
   "metadata": {},
   "outputs": [],
   "source": [
    "a[:7:2]"
   ]
  },
  {
   "cell_type": "code",
   "execution_count": null,
   "metadata": {},
   "outputs": [],
   "source": [
    "a[::-1]"
   ]
  },
  {
   "cell_type": "markdown",
   "metadata": {},
   "source": [
    "和 Python 中一样，我们也可以利用负数下标翻转数组。"
   ]
  },
  {
   "cell_type": "markdown",
   "metadata": {},
   "source": [
    "## 多维数组的切片和索引\n",
    "\n",
    "ndarray 支持在多维数组上的切片操作。为了方便起见，我们可以用一个省略号（...）来表示遍历剩下的维度。"
   ]
  },
  {
   "cell_type": "code",
   "execution_count": 50,
   "metadata": {},
   "outputs": [
    {
     "data": {
      "text/plain": [
       "(2, 3, 4)"
      ]
     },
     "execution_count": 50,
     "metadata": {},
     "output_type": "execute_result"
    }
   ],
   "source": [
    "b = np.arange(24).reshape(2, 3, 4)\n",
    "b.shape"
   ]
  },
  {
   "cell_type": "code",
   "execution_count": 51,
   "metadata": {},
   "outputs": [
    {
     "data": {
      "text/plain": [
       "array([[[ 0,  1,  2,  3],\n",
       "        [ 4,  5,  6,  7],\n",
       "        [ 8,  9, 10, 11]],\n",
       "\n",
       "       [[12, 13, 14, 15],\n",
       "        [16, 17, 18, 19],\n",
       "        [20, 21, 22, 23]]])"
      ]
     },
     "execution_count": 51,
     "metadata": {},
     "output_type": "execute_result"
    }
   ],
   "source": [
    "b"
   ]
  },
  {
   "cell_type": "code",
   "execution_count": 52,
   "metadata": {},
   "outputs": [
    {
     "data": {
      "text/plain": [
       "0"
      ]
     },
     "execution_count": 52,
     "metadata": {},
     "output_type": "execute_result"
    }
   ],
   "source": [
    "b[0, 0, 0]"
   ]
  },
  {
   "cell_type": "code",
   "execution_count": null,
   "metadata": {},
   "outputs": [],
   "source": [
    "b[:, 0, 0]"
   ]
  },
  {
   "cell_type": "code",
   "execution_count": null,
   "metadata": {},
   "outputs": [],
   "source": [
    "b[0]"
   ]
  },
  {
   "cell_type": "code",
   "execution_count": null,
   "metadata": {},
   "outputs": [],
   "source": [
    "b[0, :, :]"
   ]
  },
  {
   "cell_type": "code",
   "execution_count": null,
   "metadata": {},
   "outputs": [],
   "source": [
    "b[0, ...]"
   ]
  },
  {
   "cell_type": "markdown",
   "metadata": {},
   "source": [
    "多个冒号可以用一个省略号（...）来代替。\n",
    "\n",
    "如果在多维数组中执行翻转一维数组的命令，将在最前面的维度上翻转元素的顺序："
   ]
  },
  {
   "cell_type": "code",
   "execution_count": null,
   "metadata": {},
   "outputs": [],
   "source": [
    "b[::-1]"
   ]
  },
  {
   "cell_type": "markdown",
   "metadata": {},
   "source": [
    "## 改变数组的维度\n",
    "\n",
    "除了 `reshape` 函数，还有一些函数可以将数组数组展平。`ravel` 函数与 `flatten` 函数的功能相同。不过，`flatten` 函数会请求分配内存来保存结果，而 `ravel` 函数只是返回数组的一个**视图**（view）："
   ]
  },
  {
   "cell_type": "code",
   "execution_count": 53,
   "metadata": {},
   "outputs": [
    {
     "data": {
      "text/plain": [
       "array([[[ 0,  1,  2,  3],\n",
       "        [ 4,  5,  6,  7],\n",
       "        [ 8,  9, 10, 11]],\n",
       "\n",
       "       [[12, 13, 14, 15],\n",
       "        [16, 17, 18, 19],\n",
       "        [20, 21, 22, 23]]])"
      ]
     },
     "execution_count": 53,
     "metadata": {},
     "output_type": "execute_result"
    }
   ],
   "source": [
    "b"
   ]
  },
  {
   "cell_type": "code",
   "execution_count": 54,
   "metadata": {},
   "outputs": [
    {
     "data": {
      "text/plain": [
       "array([ 0,  1,  2,  3,  4,  5,  6,  7,  8,  9, 10, 11, 12, 13, 14, 15, 16,\n",
       "       17, 18, 19, 20, 21, 22, 23])"
      ]
     },
     "execution_count": 54,
     "metadata": {},
     "output_type": "execute_result"
    }
   ],
   "source": [
    "b.ravel()"
   ]
  },
  {
   "cell_type": "code",
   "execution_count": 55,
   "metadata": {},
   "outputs": [
    {
     "data": {
      "text/plain": [
       "array([ 0,  1,  2,  3,  4,  5,  6,  7,  8,  9, 10, 11, 12, 13, 14, 15, 16,\n",
       "       17, 18, 19, 20, 21, 22, 23])"
      ]
     },
     "execution_count": 55,
     "metadata": {},
     "output_type": "execute_result"
    }
   ],
   "source": [
    "b.flatten()"
   ]
  },
  {
   "cell_type": "markdown",
   "metadata": {},
   "source": [
    "除了可以使用 `reshape` 函数，也可以直接用一个正整数元组来设置数组的维度，"
   ]
  },
  {
   "cell_type": "code",
   "execution_count": 57,
   "metadata": {},
   "outputs": [
    {
     "data": {
      "text/plain": [
       "array([[ 0,  1,  2,  3],\n",
       "       [ 4,  5,  6,  7],\n",
       "       [ 8,  9, 10, 11],\n",
       "       [12, 13, 14, 15],\n",
       "       [16, 17, 18, 19],\n",
       "       [20, 21, 22, 23]])"
      ]
     },
     "execution_count": 57,
     "metadata": {},
     "output_type": "execute_result"
    }
   ],
   "source": [
    "b.shape = (6, 4)\n",
    "b"
   ]
  },
  {
   "cell_type": "markdown",
   "metadata": {},
   "source": [
    "`transpose` 在线性代数中，转置矩阵是很常见的操作：\n",
    "\n",
    "\n",
    "b.transpose()\n",
    "array([[ 0,  4,  8, 12, 16, 20],\n",
    "       [ 1,  5,  9, 13, 17, 21],\n",
    "       [ 2,  6, 10, 14, 18, 22],\n",
    "       [ 3,  7, 11, 15, 19, 23]])\n",
    "\n",
    "\n",
    "`resize` 和 `reshape` 函数的功能一样，但 `resize` 会直接修改所操作的数组：\n",
    "\n",
    "\n",
    "b.resize((2, 12))\n",
    "b\n",
    "array([[ 0,  1,  2,  3,  4,  5,  6,  7,  8,  9, 10, 11],\n",
    "       [12, 13, 14, 15, 16, 17, 18, 19, 20, 21, 22, 23]])\n",
    "\n",
    "\n",
    "## 数组的组合\n",
    "\n",
    "NumPy 数组有水平组合、垂直组合和深度组合等多种组合方式，我们将使用 `vstack`、`dstack`、`hstack`、`column_stack`、`row_stack` 以及 `concatenate` 函数来完成数组的组合。\n",
    "\n",
    "## 组合数组\n",
    "\n",
    "- 水平组合：将 `ndarray` 对象构成的元组作为参数，传给 `hstack` 函数。\n",
    "\n",
    "\n",
    "a = np.arange(9).reshape(3, 3)\n",
    "b = 2 * a\n",
    "np.hstack((a, b))\n",
    "array([[ 0,  1,  2,  0,  2,  4],\n",
    "       [ 3,  4,  5,  6,  8, 10],\n",
    "       [ 6,  7,  8, 12, 14, 16]])\n",
    "\n",
    "\n",
    "也可以用 `concatenate` 函数来实现同样的效果：\n",
    "\n",
    "\n",
    "np.concatenate((a, b), axis=1)\n",
    "\n",
    "\n",
    "- 垂直组合：垂直组合同样需要构造一个元组作为参数，只不过这次的函数变成了 `vstack`。\n",
    "\n",
    "\n",
    "np.vstack((a, b))\n",
    "array([[ 0,  1,  2],\n",
    "       [ 3,  4,  5],\n",
    "       [ 6,  7,  8],\n",
    "       [ 0,  2,  4],\n",
    "       [ 6,  8, 10],\n",
    "       [12, 14, 16]])\n",
    "np.concatenate((a, b), axis=0)\n",
    "\n",
    "\n",
    "- 深度组合：将相同的元组作为参数传给 `dstack` 函数，即可完成数组的深度组合。所谓深度组合，就是将一系列数组沿着纵轴（深度）方向进行层叠组合。举个例子，有若干张二维平面内的图像点阵数据，我们可以将这些图像数据沿纵轴方向层叠在一起，这就形象地解释了什么是深度组合。\n",
    "\n",
    "\n",
    "np.dstack((a, b))\n",
    "array([[[ 0,  0],\n",
    "        [ 1,  2],\n",
    "        [ 2,  4]],\n",
    "\n",
    "       [[ 3,  6],\n",
    "        [ 4,  8],\n",
    "        [ 5, 10]],\n",
    "\n",
    "       [[ 6, 12],\n",
    "        [ 7, 14],\n",
    "        [ 8, 16]]])\n",
    "\n",
    "\n",
    "- 列组合：`column_stack` 函数对于一维数组将按列方向进行组合：\n",
    "\n",
    "\n",
    "oned = np.arange(2)\n",
    "oned\n",
    "twice_oned = 2 * oned\n",
    "np.column_stack((oned, twice_oned))\n",
    "\n",
    "\n",
    "而对于二维数组，`column_stack` 与 `hstack` 的效果是相同的：\n",
    "\n",
    "\n",
    "np.column_stack((a, b))\n",
    "array([[ 0,  1,  2,  0,  2,  4],\n",
    "       [ 3,  4,  5,  6,  8, 10],\n",
    "       [ 6,  7,  8, 12, 14, 16]])\n",
    "np.column_stack((a, b)) == np.hstack((a, b))\n",
    "array([[ True,  True,  True,  True,  True,  True],\n",
    "       [ True,  True,  True,  True,  True,  True],\n",
    "       [ True,  True,  True,  True,  True,  True]])\n",
    "\n",
    "\n",
    "- 行组合：当然，NumPy 中也有按行方向进行组合的函数，它就是 `row_stack`。对于两个一维数组，将直接层叠起来组合成一个二维数组。对于二维数组，`row_stack` 与 `vstack` 的效果是相同的\n",
    "\n",
    "\n",
    "np.row_stack((oned, twice_oned))\n",
    "array([[0, 1],\n",
    "       [0, 2]])\n",
    "np.row_stack((a, b))\n",
    "array([[ 0,  1,  2],\n",
    "       [ 3,  4,  5],\n",
    "       [ 6,  7,  8],\n",
    "       [ 0,  2,  4],\n",
    "       [ 6,  8, 10],\n",
    "       [12, 14, 16]])\n",
    "np.row_stack((a, b)) == np.vstack((a, b))\n",
    "array([[ True,  True,  True],\n",
    "       [ True,  True,  True],\n",
    "       [ True,  True,  True],\n",
    "       [ True,  True,  True],\n",
    "       [ True,  True,  True],\n",
    "       [ True,  True,  True]])\n",
    "\n",
    "\n",
    "|函数|说明|\n",
    "|---|---|\n",
    "|vstack() |该函数垂直堆叠数组|\n",
    "|dstack() |该函数沿第三轴深度堆叠数组|\n",
    "|hstack() |该函数水平堆叠数组|\n",
    "|column_stack() |该函数将一维数组作为列堆叠以创建二维数组|\n",
    "|row_stack() |该函数垂直堆叠数组|\n",
    "|concatenate() |该函数连接数组的列表或元组|\n",
    "\n",
    "## 数组的分割\n",
    "\n",
    "NumPy 数组可以进行水平、垂直或深度分割，相关的函数有 `hsplit`、`vsplit`、`dsplit` 和 `split`。我们可以将数组分割成相同大小的子数组，也可以指定原数组中需要分割的位置。\n",
    "\n",
    "## 分割数组\n",
    "\n",
    "- 水平分割（理解为水平轴将被切割为 n 份）：下面的代码将把数组沿着水平方向分割为3个相同大小的子数组：\n",
    "\n",
    "\n",
    "np.hsplit(a, 3)\n",
    "[array([[0],\n",
    "       [3],\n",
    "       [6]]), array([[1],\n",
    "       [4],\n",
    "       [7]]), array([[2],\n",
    "       [5],\n",
    "       [8]])]\n",
    "\n",
    "\n",
    "对同样的数组，调用 `split` 函数并在参数中指定参数 `axis=1`。\n",
    "\n",
    "\n",
    "np.split(a, 3, axis=1)\n",
    "\n",
    "\n",
    "- 垂直分割：`vsplit` 函数将把数组沿着垂直方向分割，\n",
    "\n",
    "\n",
    "np.vsplit(a, 3)\n",
    "[array([[0, 1, 2]]), array([[3, 4, 5]]), array([[6, 7, 8]])]\n",
    "np.split(a, 3, axis=0)\n",
    "[array([[0, 1, 2]]), array([[3, 4, 5]]), array([[6, 7, 8]])]\n",
    "\n",
    "\n",
    "- 深度分割，不出所料，`dsplit` 函数将按深度方向分割数组。\n",
    "\n",
    "\n",
    "c = np.arange(27).reshape(3, 3, 3)\n",
    "c\n",
    "array([[[ 0,  1,  2],\n",
    "        [ 3,  4,  5],\n",
    "        [ 6,  7,  8]],\n",
    "\n",
    "       [[ 9, 10, 11],\n",
    "        [12, 13, 14],\n",
    "        [15, 16, 17]],\n",
    "\n",
    "       [[18, 19, 20],\n",
    "        [21, 22, 23],\n",
    "        [24, 25, 26]]])\n",
    "np.dsplit(c, 3)\n",
    "[array([[[ 0],\n",
    "        [ 3],\n",
    "        [ 6]],\n",
    "\n",
    "       [[ 9],\n",
    "        [12],\n",
    "        [15]],\n",
    "\n",
    "       [[18],\n",
    "        [21],\n",
    "        [24]]]), array([[[ 1],\n",
    "        [ 4],\n",
    "        [ 7]],\n",
    "\n",
    "       [[10],\n",
    "        [13],\n",
    "        [16]],\n",
    "\n",
    "       [[19],\n",
    "        [22],\n",
    "        [25]]]), array([[[ 2],\n",
    "        [ 5],\n",
    "        [ 8]],\n",
    "\n",
    "       [[11],\n",
    "        [14],\n",
    "        [17]],\n",
    "\n",
    "       [[20],\n",
    "        [23],\n",
    "        [26]]])]\n",
    "\n",
    "\n",
    "## 数组的属性\n",
    "\n",
    "除了 `shape` 和 `dtype` 属性以外，ndarray 对象还有很多其他的属性\n",
    "\n",
    "- `ndim` 属性，给出数组的维数，或数组轴的个数\n",
    "- `size` 属性，给出数组元素的总个数\n",
    "- `itemsize` 属性，给出数组中的元素在内存中所占的字节数\n",
    "- 如果你想知道整个数组所占的存储空间，可以用 `nbytes` 属性来查看。这个属性的值其实就是 `itemsize` 和 `size` 属性值的乘积\n",
    "- `T` 属性的效果和 `transpose` 函数一样\n",
    "- 对于一维数组，其 `T` 属性就是原数组。在 NumPy 中，复数的虚部是用 `j` 表示的。\n",
    "- `real` 属性，给出复数数组的实部。如果数组中只包含实数元素，则其 `real` 属性将输出原数组\n",
    "- `imag` 属性，给出复数数组的虚部\n",
    "- 如果数组中包含复数元素，则其数据类型自动变为复数型\n",
    "- `flat` 属性将返回一个 `numpy.flatiter` 对象，这是获得 `flatiter` 对象的唯一方式——我们无法访问 `flatiter` 的构造函数。这个所谓的“扁平迭代器”可以让我们像遍历一维数组一样去遍历任意的多维数组。可以用`flatiter` 对象直接获取一个数组元素或者获取多个元素。`flat` 属性是一个可赋值的属性。对 `flat` 属性赋值将导致整个数组的元素都被覆盖。\n",
    "\n",
    "![attributes of the ndarray class](./img/attributes%20of%20the%20ndarray%20class.png)\n",
    "\n",
    "\n",
    "b\n",
    "array([[ 0,  1,  2,  3,  4,  5,  6,  7,  8,  9, 10, 11],\n",
    "       [12, 13, 14, 15, 16, 17, 18, 19, 20, 21, 22, 23]])\n",
    "b.ndim  # ndim 属性，给出数组的维数，或数组轴的个数\n",
    "2\n",
    "b.size  # size 属性，给出数组元素的总个数\n",
    "24\n",
    "b.itemsize  # itemsize 属性，给出数组中的元素在内存中所占的字节数\n",
    "4\n",
    "b.nbytes  # 整个数组所占的存储空间\n",
    "96\n",
    "b.size * b.itemsize\n",
    "96\n",
    "b.resize(6, 4)\n",
    "b = np.arange(5)\n",
    "b\n",
    "array([0, 1, 2, 3, 4])\n",
    "b.T  # T 属性的效果和 transpose 函数一样\n",
    "array([0, 1, 2, 3, 4])\n",
    "b = np.array([1.0j + 1, 2.0j + 3])  # 复数的虚部是用j表示的\n",
    "b.real  # real 属性，给出复数数组的实部\n",
    "array([1., 3.])\n",
    "b.imag  # imag 属性，给出复数数组的虚部\n",
    "array([1., 2.])\n",
    "b.dtype  # 如果数组中包含复数元素，则其数据类型自动变为复数型\n",
    "dtype('complex128')\n",
    "b.dtype.str\n",
    "'<c16'\n",
    "b = np.arange(4).reshape(2, 2)\n",
    "b\n",
    "array([[0, 1],\n",
    "       [2, 3]])\n",
    "f = b.flat  # flat 属性将返回一个 numpy.flatiter 对象\n",
    "f\n",
    "<numpy.flatiter object at 0x000001FFD955A270>\n",
    "for item in f:\n",
    "...     print(item)\n",
    "...\n",
    "0\n",
    "1\n",
    "2\n",
    "3\n",
    "b.flat[2]  # 用 flatiter 对象直接获取一个数组元\n",
    "2\n",
    "b.flat[[1, 3]]  # 或者获取多个元素\n",
    "array([1, 3])\n",
    "b.flat = 7  # flaT 属性是一个可赋值的属性。对 flat 属性赋值将导致整个数组的元素都被覆盖\n",
    "b.flat[[1, 3]] = 1\n",
    "b\n",
    "array([[7, 1],\n",
    "       [7, 1]])\n",
    "\n",
    "\n",
    "## 数组的转换\n",
    "\n",
    "可以使用 `tolist` 函数将 NumPy 数组转换成 Python 列表。\n",
    "\n",
    "\n",
    "b\n",
    "array([[7, 1],\n",
    "       [7, 1]])\n",
    "b.tolist()\n",
    "[[7, 1], [7, 1]]\n",
    "\n",
    "\n",
    "`astype` 函数可以在转换数组的数据类型\n",
    "\n",
    "\n",
    "b.astype(float)\n",
    "array([[7., 1.],\n",
    "       [7., 1.]])\n",
    "\n"
   ]
  },
  {
   "cell_type": "code",
   "execution_count": null,
   "metadata": {},
   "outputs": [],
   "source": [
    "t = np.dtype([(\"name\", np.str_, 40), (\"num_items\", np.int32), (\"price\", np.float32)])\n",
    "t"
   ]
  },
  {
   "cell_type": "code",
   "execution_count": null,
   "metadata": {},
   "outputs": [],
   "source": [
    "t['name']"
   ]
  }
 ],
 "metadata": {
  "kernelspec": {
   "display_name": "Python 3",
   "language": "python",
   "name": "python3"
  },
  "language_info": {
   "codemirror_mode": {
    "name": "ipython",
    "version": 3
   },
   "file_extension": ".py",
   "mimetype": "text/x-python",
   "name": "python",
   "nbconvert_exporter": "python",
   "pygments_lexer": "ipython3",
   "version": "3.11.1"
  }
 },
 "nbformat": 4,
 "nbformat_minor": 2
}
